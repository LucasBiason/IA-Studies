{
 "cells": [
  {
   "cell_type": "markdown",
   "id": "a22d00f1",
   "metadata": {},
   "source": [
    "# Construção, Treinamento e Avaliação de uma Rede Neural Convolucional (CNN) com Keras\n",
    "\n",
    "Este notebook apresenta um passo a passo detalhado para construir, treinar e avaliar uma Rede Neural Convolucional (CNN) utilizando um dataset de imagens. O objetivo é fornecer uma compreensão profunda de cada etapa envolvida no desenvolvimento de modelos de deep learning para classificação de imagens."
   ]
  },
  {
   "cell_type": "markdown",
   "id": "c5d04b59",
   "metadata": {},
   "source": [
    "## 1. Importação das Bibliotecas Necessárias\n",
    "\n",
    "Nesta seção, vamos importar todas as bibliotecas essenciais para manipulação de dados, visualização e construção de modelos de deep learning.\n",
    "\n",
    "- **numpy**: Biblioteca fundamental para operações matemáticas e manipulação de arrays.\n",
    "- **matplotlib.pyplot**: Utilizada para visualização de imagens e gráficos.\n",
    "- **tensorflow** e **keras**: Frameworks para construção, treinamento e avaliação de redes neurais profundas. O Keras, integrado ao TensorFlow, fornece uma API de alto nível para definição de modelos."
   ]
  },
  {
   "cell_type": "code",
   "execution_count": 1,
   "id": "c39dfa35",
   "metadata": {},
   "outputs": [
    {
     "name": "stderr",
     "output_type": "stream",
     "text": [
      "2025-06-06 10:30:36.948051: I tensorflow/core/util/port.cc:153] oneDNN custom operations are on. You may see slightly different numerical results due to floating-point round-off errors from different computation orders. To turn them off, set the environment variable `TF_ENABLE_ONEDNN_OPTS=0`.\n",
      "2025-06-06 10:30:37.079224: E external/local_xla/xla/stream_executor/cuda/cuda_fft.cc:467] Unable to register cuFFT factory: Attempting to register factory for plugin cuFFT when one has already been registered\n",
      "WARNING: All log messages before absl::InitializeLog() is called are written to STDERR\n",
      "E0000 00:00:1749216637.150024 1397670 cuda_dnn.cc:8579] Unable to register cuDNN factory: Attempting to register factory for plugin cuDNN when one has already been registered\n",
      "E0000 00:00:1749216637.164625 1397670 cuda_blas.cc:1407] Unable to register cuBLAS factory: Attempting to register factory for plugin cuBLAS when one has already been registered\n",
      "W0000 00:00:1749216637.254862 1397670 computation_placer.cc:177] computation placer already registered. Please check linkage and avoid linking the same target more than once.\n",
      "W0000 00:00:1749216637.254904 1397670 computation_placer.cc:177] computation placer already registered. Please check linkage and avoid linking the same target more than once.\n",
      "W0000 00:00:1749216637.254909 1397670 computation_placer.cc:177] computation placer already registered. Please check linkage and avoid linking the same target more than once.\n",
      "W0000 00:00:1749216637.254913 1397670 computation_placer.cc:177] computation placer already registered. Please check linkage and avoid linking the same target more than once.\n",
      "2025-06-06 10:30:37.271329: I tensorflow/core/platform/cpu_feature_guard.cc:210] This TensorFlow binary is optimized to use available CPU instructions in performance-critical operations.\n",
      "To enable the following instructions: AVX2 AVX_VNNI FMA, in other operations, rebuild TensorFlow with the appropriate compiler flags.\n"
     ]
    }
   ],
   "source": [
    "# Importação das bibliotecas essenciais\n",
    "import numpy as np\n",
    "import matplotlib.pyplot as plt\n",
    "import tensorflow as tf\n",
    "from tensorflow import keras\n",
    "from tensorflow.keras import layers, models"
   ]
  },
  {
   "cell_type": "markdown",
   "id": "8b37578b",
   "metadata": {},
   "source": [
    "## 2. Carregamento e Pré-processamento dos Dados\n",
    "\n",
    "Vamos utilizar o dataset MNIST, que contém imagens de dígitos manuscritos (0 a 9). O Keras já disponibiliza esse dataset, facilitando o carregamento.\n",
    "\n",
    "### Etapas:\n",
    "- **Carregamento dos dados**: Separação em conjuntos de treino e teste.\n",
    "- **Normalização**: Os valores dos pixels são convertidos para o intervalo [0, 1], o que acelera e estabiliza o treinamento.\n",
    "- **Conversão dos rótulos**: Os rótulos são convertidos para o formato one-hot encoding, necessário para classificação multiclasse.\n",
    "- **Visualização**: Exibição de algumas imagens do dataset para entender o formato dos dados."
   ]
  },
  {
   "cell_type": "code",
   "execution_count": 2,
   "id": "4f8bd3fd",
   "metadata": {},
   "outputs": [
    {
     "data": {
      "image/png": "[encoded data removed]",
      "text/plain": [
       "<Figure size 1000x400 with 8 Axes>"
      ]
     },
     "metadata": {},
     "output_type": "display_data"
    }
   ],
   "source": [
    "# Carregando o dataset MNIST\n",
    "(X_train, y_train), (X_test, y_test) = keras.datasets.mnist.load_data()\n",
    "\n",
    "# Normalizando os valores dos pixels para o intervalo [0, 1]\n",
    "X_train = X_train.astype('float32') / 255.0\n",
    "X_test = X_test.astype('float32') / 255.0\n",
    "\n",
    "# Expandindo a dimensão para incluir o canal (necessário para CNNs)\n",
    "X_train = np.expand_dims(X_train, -1)\n",
    "X_test = np.expand_dims(X_test, -1)\n",
    "\n",
    "# Convertendo os rótulos para one-hot encoding\n",
    "num_classes = 10\n",
    "y_train_cat = keras.utils.to_categorical(y_train, num_classes)\n",
    "y_test_cat = keras.utils.to_categorical(y_test, num_classes)\n",
    "\n",
    "# Exibindo algumas imagens do dataset\n",
    "plt.figure(figsize=(10,4))\n",
    "for i in range(8):\n",
    "    plt.subplot(2, 4, i+1)\n",
    "    plt.imshow(X_train[i].reshape(28,28), cmap='gray')\n",
    "    plt.title(f\"Rótulo: {y_train[i]}\")\n",
    "    plt.axis('off')\n",
    "plt.suptitle(\"Exemplos de imagens do MNIST\")\n",
    "plt.show()"
   ]
  },
  {
   "cell_type": "markdown",
   "id": "5907228c",
   "metadata": {},
   "source": [
    "## 3. Construção do Modelo de Rede Neural Convolucional (CNN)\n",
    "\n",
    "A seguir, vamos construir a arquitetura da CNN utilizando a API Sequential do Keras.\n",
    "\n",
    "### Principais componentes:\n",
    "- **Camadas Convolucionais (`Conv2D`)**: Extraem características locais das imagens usando filtros (kernels).\n",
    "- **Camadas de Pooling (`MaxPooling2D`)**: Reduzem a dimensionalidade, mantendo as informações mais relevantes.\n",
    "- **Camada Flatten**: Transforma o mapa de características 2D em um vetor 1D para entrada nas camadas densas.\n",
    "- **Camadas Densas (`Dense`)**: Realizam a classificação com base nas características extraídas.\n",
    "- **Funções de ativação**: `relu` para não-linearidade e `softmax` para saída de probabilidades.\n",
    "\n",
    "Cada camada é parametrizada por número de filtros, tamanho do kernel, função de ativação, etc."
   ]
  },
  {
   "cell_type": "code",
   "execution_count": 3,
   "id": "be9286bd",
   "metadata": {},
   "outputs": [
    {
     "name": "stderr",
     "output_type": "stream",
     "text": [
      "/home/lucas/Study/projects/IA-Studies/venv/lib/python3.10/site-packages/keras/src/layers/convolutional/base_conv.py:107: UserWarning: Do not pass an `input_shape`/`input_dim` argument to a layer. When using Sequential models, prefer using an `Input(shape)` object as the first layer in the model instead.\n",
      "  super().__init__(activity_regularizer=activity_regularizer, **kwargs)\n",
      "2025-06-06 10:30:40.706186: E external/local_xla/xla/stream_executor/cuda/cuda_platform.cc:51] failed call to cuInit: INTERNAL: CUDA error: Failed call to cuInit: UNKNOWN ERROR (303)\n"
     ]
    },
    {
     "data": {
      "text/html": [
       "<pre style=\"white-space:pre;overflow-x:auto;line-height:normal;font-family:Menlo,'DejaVu Sans Mono',consolas,'Courier New',monospace\"><span style=\"font-weight: bold\">Model: \"sequential\"</span>\n",
       "</pre>\n"
      ],
      "text/plain": [
       "\u001b[1mModel: \"sequential\"\u001b[0m\n"
      ]
     },
     "metadata": {},
     "output_type": "display_data"
    },
    {
     "data": {
      "text/html": [
       "<pre style=\"white-space:pre;overflow-x:auto;line-height:normal;font-family:Menlo,'DejaVu Sans Mono',consolas,'Courier New',monospace\">┏━━━━━━━━━━━━━━━━━━━━━━━━━━━━━━━━━┳━━━━━━━━━━━━━━━━━━━━━━━━┳━━━━━━━━━━━━━━━┓\n",
       "┃<span style=\"font-weight: bold\"> Layer (type)                    </span>┃<span style=\"font-weight: bold\"> Output Shape           </span>┃<span style=\"font-weight: bold\">       Param # </span>┃\n",
       "┡━━━━━━━━━━━━━━━━━━━━━━━━━━━━━━━━━╇━━━━━━━━━━━━━━━━━━━━━━━━╇━━━━━━━━━━━━━━━┩\n",
       "│ conv2d (<span style=\"color: #0087ff; text-decoration-color: #0087ff\">Conv2D</span>)                 │ (<span style=\"color: #00d7ff; text-decoration-color: #00d7ff\">None</span>, <span style=\"color: #00af00; text-decoration-color: #00af00\">26</span>, <span style=\"color: #00af00; text-decoration-color: #00af00\">26</span>, <span style=\"color: #00af00; text-decoration-color: #00af00\">32</span>)     │           <span style=\"color: #00af00; text-decoration-color: #00af00\">320</span> │\n",
       "├─────────────────────────────────┼────────────────────────┼───────────────┤\n",
       "│ max_pooling2d (<span style=\"color: #0087ff; text-decoration-color: #0087ff\">MaxPooling2D</span>)    │ (<span style=\"color: #00d7ff; text-decoration-color: #00d7ff\">None</span>, <span style=\"color: #00af00; text-decoration-color: #00af00\">13</span>, <span style=\"color: #00af00; text-decoration-color: #00af00\">13</span>, <span style=\"color: #00af00; text-decoration-color: #00af00\">32</span>)     │             <span style=\"color: #00af00; text-decoration-color: #00af00\">0</span> │\n",
       "├─────────────────────────────────┼────────────────────────┼───────────────┤\n",
       "│ conv2d_1 (<span style=\"color: #0087ff; text-decoration-color: #0087ff\">Conv2D</span>)               │ (<span style=\"color: #00d7ff; text-decoration-color: #00d7ff\">None</span>, <span style=\"color: #00af00; text-decoration-color: #00af00\">11</span>, <span style=\"color: #00af00; text-decoration-color: #00af00\">11</span>, <span style=\"color: #00af00; text-decoration-color: #00af00\">64</span>)     │        <span style=\"color: #00af00; text-decoration-color: #00af00\">18,496</span> │\n",
       "├─────────────────────────────────┼────────────────────────┼───────────────┤\n",
       "│ max_pooling2d_1 (<span style=\"color: #0087ff; text-decoration-color: #0087ff\">MaxPooling2D</span>)  │ (<span style=\"color: #00d7ff; text-decoration-color: #00d7ff\">None</span>, <span style=\"color: #00af00; text-decoration-color: #00af00\">5</span>, <span style=\"color: #00af00; text-decoration-color: #00af00\">5</span>, <span style=\"color: #00af00; text-decoration-color: #00af00\">64</span>)       │             <span style=\"color: #00af00; text-decoration-color: #00af00\">0</span> │\n",
       "├─────────────────────────────────┼────────────────────────┼───────────────┤\n",
       "│ flatten (<span style=\"color: #0087ff; text-decoration-color: #0087ff\">Flatten</span>)               │ (<span style=\"color: #00d7ff; text-decoration-color: #00d7ff\">None</span>, <span style=\"color: #00af00; text-decoration-color: #00af00\">1600</span>)           │             <span style=\"color: #00af00; text-decoration-color: #00af00\">0</span> │\n",
       "├─────────────────────────────────┼────────────────────────┼───────────────┤\n",
       "│ dense (<span style=\"color: #0087ff; text-decoration-color: #0087ff\">Dense</span>)                   │ (<span style=\"color: #00d7ff; text-decoration-color: #00d7ff\">None</span>, <span style=\"color: #00af00; text-decoration-color: #00af00\">64</span>)             │       <span style=\"color: #00af00; text-decoration-color: #00af00\">102,464</span> │\n",
       "├─────────────────────────────────┼────────────────────────┼───────────────┤\n",
       "│ dense_1 (<span style=\"color: #0087ff; text-decoration-color: #0087ff\">Dense</span>)                 │ (<span style=\"color: #00d7ff; text-decoration-color: #00d7ff\">None</span>, <span style=\"color: #00af00; text-decoration-color: #00af00\">10</span>)             │           <span style=\"color: #00af00; text-decoration-color: #00af00\">650</span> │\n",
       "└─────────────────────────────────┴────────────────────────┴───────────────┘\n",
       "</pre>\n"
      ],
      "text/plain": [
       "┏━━━━━━━━━━━━━━━━━━━━━━━━━━━━━━━━━┳━━━━━━━━━━━━━━━━━━━━━━━━┳━━━━━━━━━━━━━━━┓\n",
       "┃\u001b[1m \u001b[0m\u001b[1mLayer (type)                   \u001b[0m\u001b[1m \u001b[0m┃\u001b[1m \u001b[0m\u001b[1mOutput Shape          \u001b[0m\u001b[1m \u001b[0m┃\u001b[1m \u001b[0m\u001b[1m      Param #\u001b[0m\u001b[1m \u001b[0m┃\n",
       "┡━━━━━━━━━━━━━━━━━━━━━━━━━━━━━━━━━╇━━━━━━━━━━━━━━━━━━━━━━━━╇━━━━━━━━━━━━━━━┩\n",
       "│ conv2d (\u001b[38;5;33mConv2D\u001b[0m)                 │ (\u001b[38;5;45mNone\u001b[0m, \u001b[38;5;34m26\u001b[0m, \u001b[38;5;34m26\u001b[0m, \u001b[38;5;34m32\u001b[0m)     │           \u001b[38;5;34m320\u001b[0m │\n",
       "├─────────────────────────────────┼────────────────────────┼───────────────┤\n",
       "│ max_pooling2d (\u001b[38;5;33mMaxPooling2D\u001b[0m)    │ (\u001b[38;5;45mNone\u001b[0m, \u001b[38;5;34m13\u001b[0m, \u001b[38;5;34m13\u001b[0m, \u001b[38;5;34m32\u001b[0m)     │             \u001b[38;5;34m0\u001b[0m │\n",
       "├─────────────────────────────────┼────────────────────────┼───────────────┤\n",
       "│ conv2d_1 (\u001b[38;5;33mConv2D\u001b[0m)               │ (\u001b[38;5;45mNone\u001b[0m, \u001b[38;5;34m11\u001b[0m, \u001b[38;5;34m11\u001b[0m, \u001b[38;5;34m64\u001b[0m)     │        \u001b[38;5;34m18,496\u001b[0m │\n",
       "├─────────────────────────────────┼────────────────────────┼───────────────┤\n",
       "│ max_pooling2d_1 (\u001b[38;5;33mMaxPooling2D\u001b[0m)  │ (\u001b[38;5;45mNone\u001b[0m, \u001b[38;5;34m5\u001b[0m, \u001b[38;5;34m5\u001b[0m, \u001b[38;5;34m64\u001b[0m)       │             \u001b[38;5;34m0\u001b[0m │\n",
       "├─────────────────────────────────┼────────────────────────┼───────────────┤\n",
       "│ flatten (\u001b[38;5;33mFlatten\u001b[0m)               │ (\u001b[38;5;45mNone\u001b[0m, \u001b[38;5;34m1600\u001b[0m)           │             \u001b[38;5;34m0\u001b[0m │\n",
       "├─────────────────────────────────┼────────────────────────┼───────────────┤\n",
       "│ dense (\u001b[38;5;33mDense\u001b[0m)                   │ (\u001b[38;5;45mNone\u001b[0m, \u001b[38;5;34m64\u001b[0m)             │       \u001b[38;5;34m102,464\u001b[0m │\n",
       "├─────────────────────────────────┼────────────────────────┼───────────────┤\n",
       "│ dense_1 (\u001b[38;5;33mDense\u001b[0m)                 │ (\u001b[38;5;45mNone\u001b[0m, \u001b[38;5;34m10\u001b[0m)             │           \u001b[38;5;34m650\u001b[0m │\n",
       "└─────────────────────────────────┴────────────────────────┴───────────────┘\n"
      ]
     },
     "metadata": {},
     "output_type": "display_data"
    },
    {
     "data": {
      "text/html": [
       "<pre style=\"white-space:pre;overflow-x:auto;line-height:normal;font-family:Menlo,'DejaVu Sans Mono',consolas,'Courier New',monospace\"><span style=\"font-weight: bold\"> Total params: </span><span style=\"color: #00af00; text-decoration-color: #00af00\">121,930</span> (476.29 KB)\n",
       "</pre>\n"
      ],
      "text/plain": [
       "\u001b[1m Total params: \u001b[0m\u001b[38;5;34m121,930\u001b[0m (476.29 KB)\n"
      ]
     },
     "metadata": {},
     "output_type": "display_data"
    },
    {
     "data": {
      "text/html": [
       "<pre style=\"white-space:pre;overflow-x:auto;line-height:normal;font-family:Menlo,'DejaVu Sans Mono',consolas,'Courier New',monospace\"><span style=\"font-weight: bold\"> Trainable params: </span><span style=\"color: #00af00; text-decoration-color: #00af00\">121,930</span> (476.29 KB)\n",
       "</pre>\n"
      ],
      "text/plain": [
       "\u001b[1m Trainable params: \u001b[0m\u001b[38;5;34m121,930\u001b[0m (476.29 KB)\n"
      ]
     },
     "metadata": {},
     "output_type": "display_data"
    },
    {
     "data": {
      "text/html": [
       "<pre style=\"white-space:pre;overflow-x:auto;line-height:normal;font-family:Menlo,'DejaVu Sans Mono',consolas,'Courier New',monospace\"><span style=\"font-weight: bold\"> Non-trainable params: </span><span style=\"color: #00af00; text-decoration-color: #00af00\">0</span> (0.00 B)\n",
       "</pre>\n"
      ],
      "text/plain": [
       "\u001b[1m Non-trainable params: \u001b[0m\u001b[38;5;34m0\u001b[0m (0.00 B)\n"
      ]
     },
     "metadata": {},
     "output_type": "display_data"
    }
   ],
   "source": [
    "# Definindo a arquitetura da CNN\n",
    "model = models.Sequential([\n",
    "    layers.Conv2D(32, (3,3), activation='relu', input_shape=(28,28,1)),\n",
    "    layers.MaxPooling2D((2,2)),\n",
    "    layers.Conv2D(64, (3,3), activation='relu'),\n",
    "    layers.MaxPooling2D((2,2)),\n",
    "    layers.Flatten(),\n",
    "    layers.Dense(64, activation='relu'),\n",
    "    layers.Dense(num_classes, activation='softmax')\n",
    "])\n",
    "\n",
    "# Exibindo o resumo da arquitetura\n",
    "model.summary()"
   ]
  },
  {
   "cell_type": "markdown",
   "id": "1e851dd1",
   "metadata": {},
   "source": [
    "## 4. Compilação e Treinamento do Modelo\n",
    "\n",
    "Antes de treinar, precisamos compilar o modelo, especificando:\n",
    "\n",
    "- **Otimizador**: Algoritmo que ajusta os pesos da rede (ex: Adam).\n",
    "- **Função de perda**: Mede o erro entre as previsões e os rótulos reais (ex: categorical_crossentropy).\n",
    "- **Métricas**: Critérios para avaliar o desempenho (ex: accuracy).\n",
    "\n",
    "O treinamento é realizado com o método `fit`, onde definimos o número de épocas, tamanho do batch e a validação em cada época."
   ]
  },
  {
   "cell_type": "code",
   "execution_count": null,
   "id": "2a6077ab",
   "metadata": {},
   "outputs": [
    {
     "name": "stdout",
     "output_type": "stream",
     "text": [
      "Epoch 1/10\n",
      "422/422 - 10s - 24ms/step - accuracy: 0.9239 - loss: 0.2568 - val_accuracy: 0.9745 - val_loss: 0.0848\n",
      "Epoch 2/10\n",
      "422/422 - 10s - 25ms/step - accuracy: 0.9779 - loss: 0.0709 - val_accuracy: 0.9862 - val_loss: 0.0474\n",
      "Epoch 3/10\n"
     ]
    }
   ],
   "source": [
    "# Compilando o modelo\n",
    "model.compile(\n",
    "    optimizer='adam',\n",
    "    loss='categorical_crossentropy',\n",
    "    metrics=['accuracy']\n",
    ")\n",
    "\n",
    "# Treinando o modelo\n",
    "history = model.fit(\n",
    "    X_train, y_train_cat,\n",
    "    epochs=10,\n",
    "    batch_size=128,\n",
    "    validation_split=0.1,\n",
    "    verbose=2\n",
    ")"
   ]
  },
  {
   "cell_type": "markdown",
   "id": "17d3a342",
   "metadata": {},
   "source": [
    "## 5. Avaliação do Modelo\n",
    "\n",
    "Após o treinamento, avaliamos o desempenho do modelo no conjunto de teste.\n",
    "\n",
    "- **Loss (Perda)**: Indica o quão distante as previsões estão dos valores reais.\n",
    "- **Accuracy (Acurácia)**: Proporção de previsões corretas.\n",
    "\n",
    "É importante analisar se há overfitting (modelo vai muito bem no treino, mas mal no teste) ou underfitting (modelo não aprende bem nem no treino)."
   ]
  },
  {
   "cell_type": "code",
   "execution_count": null,
   "id": "35255841",
   "metadata": {},
   "outputs": [],
   "source": [
    "# Avaliando o modelo no conjunto de teste\n",
    "test_loss, test_acc = model.evaluate(X_test, y_test_cat, verbose=0)\n",
    "print(f\"Acurácia no conjunto de teste: {test_acc:.4f}\")\n",
    "print(f\"Perda no conjunto de teste: {test_loss:.4f}\")"
   ]
  },
  {
   "cell_type": "markdown",
   "id": "7c5d62c0",
   "metadata": {},
   "source": [
    "## 6. Visualização dos Resultados\n",
    "\n",
    "Vamos visualizar a evolução da acurácia e da perda durante o treinamento e validação.\n",
    "\n",
    "- **Curva de Acurácia**: Mostra como a precisão evolui ao longo das épocas.\n",
    "- **Curva de Perda**: Mostra como o erro diminui (ou não) durante o treinamento.\n",
    "\n",
    "Esses gráficos ajudam a identificar problemas como overfitting (quando a acurácia de validação para de melhorar ou piora enquanto a de treino continua subindo)."
   ]
  },
  {
   "cell_type": "code",
   "execution_count": null,
   "id": "bcda2f47",
   "metadata": {},
   "outputs": [],
   "source": [
    "# Plotando as curvas de acurácia e perda\n",
    "plt.figure(figsize=(12,5))\n",
    "\n",
    "plt.subplot(1,2,1)\n",
    "plt.plot(history.history['accuracy'], label='Treinamento')\n",
    "plt.plot(history.history['val_accuracy'], label='Validação')\n",
    "plt.title('Acurácia durante o treinamento')\n",
    "plt.xlabel('Época')\n",
    "plt.ylabel('Acurácia')\n",
    "plt.legend()\n",
    "\n",
    "plt.subplot(1,2,2)\n",
    "plt.plot(history.history['loss'], label='Treinamento')\n",
    "plt.plot(history.history['val_loss'], label='Validação')\n",
    "plt.title('Perda durante o treinamento')\n",
    "plt.xlabel('Época')\n",
    "plt.ylabel('Perda')\n",
    "plt.legend()\n",
    "\n",
    "plt.tight_layout()\n",
    "plt.show()"
   ]
  },
  {
   "cell_type": "markdown",
   "id": "2c9629a9",
   "metadata": {},
   "source": [
    "## 7. Realizando Previsões com Novos Dados\n",
    "\n",
    "Agora, vamos utilizar o modelo treinado para fazer previsões em novas imagens.\n",
    "\n",
    "### Passos:\n",
    "- **Selecionar uma imagem do conjunto de teste**.\n",
    "- **Processar a imagem**: Garantir que está no formato correto.\n",
    "- **Realizar a predição**: O modelo retorna as probabilidades para cada classe.\n",
    "- **Interpretar o resultado**: Exibir a imagem, a classe prevista e as probabilidades.\n",
    "\n",
    "Vamos mostrar exemplos práticos:"
   ]
  },
  {
   "cell_type": "code",
   "execution_count": null,
   "id": "598d9a41",
   "metadata": {},
   "outputs": [],
   "source": [
    "# Selecionando algumas imagens do conjunto de teste\n",
    "num_examples = 5\n",
    "indices = np.random.choice(len(X_test), num_examples, replace=False)\n",
    "images = X_test[indices]\n",
    "labels = y_test[indices]\n",
    "\n",
    "# Fazendo previsões\n",
    "predictions = model.predict(images)\n",
    "\n",
    "plt.figure(figsize=(12,3))\n",
    "for i in range(num_examples):\n",
    "    plt.subplot(1, num_examples, i+1)\n",
    "    plt.imshow(images[i].reshape(28,28), cmap='gray')\n",
    "    pred_label = np.argmax(predictions[i])\n",
    "    true_label = labels[i]\n",
    "    prob = np.max(predictions[i])\n",
    "    plt.title(f\"Verdadeiro: {true_label}\\nPrevisto: {pred_label}\\nProb: {prob:.2f}\")\n",
    "    plt.axis('off')\n",
    "plt.suptitle(\"Previsões do modelo em novas imagens\")\n",
    "plt.show()"
   ]
  },
  {
   "cell_type": "markdown",
   "id": "11976f90",
   "metadata": {},
   "source": [
    "# Conclusão\n",
    "\n",
    "Neste notebook, percorremos todas as etapas fundamentais para construir, treinar e avaliar uma Rede Neural Convolucional (CNN) para classificação de imagens. Exploramos desde a preparação dos dados até a análise dos resultados, incluindo visualizações e exemplos práticos de predição. Esse fluxo pode ser adaptado para outros datasets e arquiteturas mais complexas, conforme a necessidade do seu projeto."
   ]
  }
 ],
 "metadata": {
  "kernelspec": {
   "display_name": "venv",
   "language": "python",
   "name": "python3"
  },
  "language_info": {
   "codemirror_mode": {
    "name": "ipython",
    "version": 3
   },
   "file_extension": ".py",
   "mimetype": "text/x-python",
   "name": "python",
   "nbconvert_exporter": "python",
   "pygments_lexer": "ipython3",
   "version": "3.10.12"
  }
 },
 "nbformat": 4,
 "nbformat_minor": 5
}
