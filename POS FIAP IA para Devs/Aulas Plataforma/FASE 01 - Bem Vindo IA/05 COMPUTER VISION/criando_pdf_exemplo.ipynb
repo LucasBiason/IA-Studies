{
 "cells": [
  {
   "cell_type": "code",
   "execution_count": 3,
   "id": "fb015fc1",
   "metadata": {},
   "outputs": [
    {
     "name": "stdout",
     "output_type": "stream",
     "text": [
      "Requirement already satisfied: reportlab in /home/lucas/Study/projects/IA-Studies/venv/lib/python3.10/site-packages (4.4.1)\n",
      "Requirement already satisfied: chardet in /home/lucas/Study/projects/IA-Studies/venv/lib/python3.10/site-packages (from reportlab) (5.2.0)\n",
      "Requirement already satisfied: pillow>=9.0.0 in /home/lucas/Study/projects/IA-Studies/venv/lib/python3.10/site-packages (from reportlab) (11.1.0)\n"
     ]
    }
   ],
   "source": [
    "!pip install reportlab"
   ]
  },
  {
   "cell_type": "code",
   "execution_count": 4,
   "id": "8cce9f89",
   "metadata": {},
   "outputs": [],
   "source": [
    "from reportlab.lib.pagesizes import A4\n",
    "from reportlab.platypus import SimpleDocTemplate, Paragraph, Spacer, Image\n",
    "from reportlab.lib.styles import getSampleStyleSheet\n",
    "from reportlab.lib.units import cm\n",
    "from reportlab.lib.enums import TA_CENTER\n",
    "import os\n",
    "\n",
    "def criar_pdf_conta_enel(nome_arquivo, dados_conta):\n",
    "    \"\"\"\n",
    "    Cria um arquivo PDF simulando uma conta da Enel com os dados fornecidos.\n",
    "\n",
    "    Args:\n",
    "        nome_arquivo (str): O nome do arquivo PDF a ser gerado (ex: \"conta_enel_ficticia.pdf\").\n",
    "        dados_conta (dict): Um dicionário contendo as informações da conta.\n",
    "            Deve incluir: \"Nome do Cliente\", \"CPF/CNPJ\", \"Número do cliente\",\n",
    "            \"Data de vencimento\", \"Valor total\", \"Referência do faturamento\",\n",
    "            \"QR Code presente\" (embora o QR Code seja um placeholder aqui).\n",
    "    \"\"\"\n",
    "\n",
    "    doc = SimpleDocTemplate(nome_arquivo, pagesize=A4)\n",
    "    styles = getSampleStyleSheet()\n",
    "    story = []\n",
    "\n",
    "    # Estilos\n",
    "    style_h1 = styles['h1']\n",
    "    style_h2 = styles['h2']\n",
    "    style_body = styles['Normal']\n",
    "    style_center = styles['Normal']\n",
    "    style_center.alignment = TA_CENTER\n",
    "\n",
    "    # Título da Conta\n",
    "    story.append(Paragraph(\"ENEL DISTRIBUIÇÃO\", style_h1))\n",
    "    story.append(Paragraph(\"Rua Fictícia, 123 - Centro - Cidade Fictícia - SP\", style_body))\n",
    "    story.append(Spacer(1, 0.5 * cm))\n",
    "\n",
    "    # ---\n",
    "    story.append(Spacer(1, 0.5 * cm)) # Espaçador antes do traço\n",
    "    story.append(Paragraph(\"-\" * 80, style_body)) # Traço separador\n",
    "    story.append(Spacer(1, 0.5 * cm)) # Espaçador depois do traço\n",
    "\n",
    "    # Dados do Cliente\n",
    "    story.append(Paragraph(\"<b>DADOS DO CLIENTE</b>\", style_h2))\n",
    "    story.append(Paragraph(f\"<b>Nome do Cliente:</b> {dados_conta['Nome do Cliente']}\", style_body))\n",
    "    story.append(Paragraph(f\"<b>CPF/CNPJ:</b> {dados_conta['CPF/CNPJ']}\", style_body))\n",
    "    story.append(Paragraph(f\"<b>Número do cliente:</b> {dados_conta['Número do cliente']}\", style_body))\n",
    "    story.append(Spacer(1, 0.7 * cm))\n",
    "\n",
    "    # Dados da Conta\n",
    "    story.append(Paragraph(\"<b>DADOS DA CONTA</b>\", style_h2))\n",
    "    story.append(Paragraph(f\"<b>Data de vencimento:</b> {dados_conta['Data de vencimento']}\", style_body))\n",
    "    story.append(Paragraph(f\"<b>Valor total a pagar:</b> R$ {dados_conta['Valor total']:.2f}\", style_body))\n",
    "    story.append(Paragraph(f\"<b>Referência do faturamento:</b> {dados_conta['Referência do faturamento']}\", style_body))\n",
    "    story.append(Spacer(1, 1.0 * cm))\n",
    "\n",
    "    # QR Code (Placeholder)\n",
    "    # Você precisaria gerar um QR Code como imagem (ex: usando a biblioteca 'qrcode')\n",
    "    # e depois carregar essa imagem aqui.\n",
    "    # Por agora, vou adicionar um texto indicando onde o QR Code estaria.\n",
    "    story.append(Paragraph(\"--- ESPAÇO PARA QR CODE ---\", style_center))\n",
    "    # Se você tiver um arquivo de imagem QR Code (ex: \"qrcode_ficticio.png\"), pode usar:\n",
    "    # try:\n",
    "    #     if os.path.exists(\"qrcode_ficticio.png\"):\n",
    "    #         qr_image = Image(\"qrcode_ficticio.png\")\n",
    "    #         qr_image.drawWidth = 4 * cm # Ajuste o tamanho conforme necessário\n",
    "    #         qr_image.drawHeight = 4 * cm\n",
    "    #         story.append(qr_image)\n",
    "    #     else:\n",
    "    #         story.append(Paragraph(\"(Imagem do QR Code não encontrada)\", style_center))\n",
    "    # except Exception as e:\n",
    "    #     story.append(Paragraph(f\"(Erro ao carregar QR Code: {e})\", style_center))\n",
    "\n",
    "    story.append(Spacer(1, 1.0 * cm))\n",
    "    story.append(Paragraph(\"<i>Esta é uma conta fictícia gerada para fins de demonstração de OCR.</i>\", style_center))\n",
    "\n",
    "    # Constrói o PDF\n",
    "    try:\n",
    "        doc.build(story)\n",
    "        print(f\"PDF '{nome_arquivo}' criado com sucesso!\")\n",
    "    except Exception as e:\n",
    "        print(f\"Erro ao criar o PDF: {e}\")\n",
    "\n"
   ]
  },
  {
   "cell_type": "code",
   "execution_count": 5,
   "id": "bb328922",
   "metadata": {},
   "outputs": [
    {
     "name": "stdout",
     "output_type": "stream",
     "text": [
      "PDF 'conta_enel_ficticia.pdf' criado com sucesso!\n",
      "\n",
      "Agora você pode usar o arquivo 'conta_enel_ficticia.pdf' com a função de OCR que te passei anteriormente!\n"
     ]
    }
   ],
   "source": [
    "\n",
    "# Dados da conta que você forneceu\n",
    "dados_da_conta_ficticia = {\n",
    "    \"Nome do Cliente\": \"Bruno Eliseo Alcantara\",\n",
    "    \"CPF/CNPJ\": \"112.343.433-01\",\n",
    "    \"Número do cliente\": \"5942541\",\n",
    "    \"Data de vencimento\": \"04/2024 10/05/2024\",\n",
    "    \"Valor total\": 264.48,\n",
    "    \"Referência do faturamento\": \"05/2024 10/05/2024\",\n",
    "    \"QR Code presente\": True # O código vai adicionar um placeholder para isso\n",
    "}\n",
    "\n",
    "nome_do_arquivo_pdf = \"conta_enel_ficticia.pdf\"\n",
    "criar_pdf_conta_enel(nome_do_arquivo_pdf, dados_da_conta_ficticia)\n",
    "\n",
    "print(f\"\\nAgora você pode usar o arquivo '{nome_do_arquivo_pdf}' com a função de OCR que te passei anteriormente!\")"
   ]
  }
 ],
 "metadata": {
  "kernelspec": {
   "display_name": "venv",
   "language": "python",
   "name": "python3"
  },
  "language_info": {
   "codemirror_mode": {
    "name": "ipython",
    "version": 3
   },
   "file_extension": ".py",
   "mimetype": "text/x-python",
   "name": "python",
   "nbconvert_exporter": "python",
   "pygments_lexer": "ipython3",
   "version": "3.10.12"
  }
 },
 "nbformat": 4,
 "nbformat_minor": 5
}
