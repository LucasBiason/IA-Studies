{
 "cells": [
  {
   "cell_type": "markdown",
   "metadata": {},
   "source": [
    "# Aula 03 - Fundamentos Deep learning"
   ]
  },
  {
   "cell_type": "code",
   "execution_count": 17,
   "metadata": {},
   "outputs": [],
   "source": [
    "import torch\n",
    "import torch.nn as nn \n",
    "import torch.optim as optim"
   ]
  },
  {
   "cell_type": "code",
   "execution_count": 18,
   "metadata": {},
   "outputs": [
    {
     "name": "stdout",
     "output_type": "stream",
     "text": [
      "x shape: torch.Size([20, 1])\n",
      "y shape: torch.Size([20, 1])\n"
     ]
    }
   ],
   "source": [
    "x = torch.tensor([[5.0], [10.0], [10.0], [5.0], [10.0],  \n",
    "                  [5.0], [10.0], [10.0], [5.0], [10.0],\n",
    "                  [5.0], [10.0], [10.0], [5.0], [10.0], \n",
    "                  [5.0], [10.0], [10.0], [5.0], [10.0]], dtype=torch.float32)\n",
    "\n",
    "y = torch.tensor([[30.5], [63.0], [67.0], [29.0], [62.0], \n",
    "                  [30.5], [63.0], [67.0], [29.0], [62.0], \n",
    "                  [30.5], [63.0], [67.0], [29.0], [62.0], \n",
    "                  [30.5], [63.0], [67.0], [29.0], [62.0]], dtype=torch.float32)\n",
    "\n",
    "print(\"x shape:\", x.shape)\n",
    "print(\"y shape:\", y.shape)"
   ]
  },
  {
   "cell_type": "code",
   "execution_count": 19,
   "metadata": {},
   "outputs": [],
   "source": [
    "\n",
    "class Net(nn.Module):\n",
    "    def __init__(self):\n",
    "        super(Net, self).__init__()\n",
    "        # Atualizando para aceitar apenas 1 valor de entrada, pois agora temos apenas a distância\n",
    "        self.fc1 = nn.Linear(1, 5)  # De 2 para 1 na entrada\n",
    "        self.fc2 = nn.Linear(5, 1)\n",
    "\n",
    "    def forward(self, x):\n",
    "        x = torch.relu(self.fc1(x))\n",
    "        x = self.fc2(x)\n",
    "        return x"
   ]
  },
  {
   "cell_type": "code",
   "execution_count": 20,
   "metadata": {},
   "outputs": [],
   "source": [
    "model = Net()\n",
    "criterion = nn.MSELoss()\n",
    "optimizer = optim.SGD(model.parameters(), lr=0.01)"
   ]
  },
  {
   "cell_type": "code",
   "execution_count": 21,
   "metadata": {},
   "outputs": [
    {
     "name": "stdout",
     "output_type": "stream",
     "text": [
      "Epoch 100, Loss: 335.511474609375\n",
      "Epoch 200, Loss: 285.45611572265625\n",
      "Epoch 300, Loss: 284.5757751464844\n",
      "Epoch 400, Loss: 284.56024169921875\n",
      "Epoch 500, Loss: 284.55999755859375\n",
      "Epoch 600, Loss: 284.55999755859375\n",
      "Epoch 700, Loss: 284.55999755859375\n",
      "Epoch 800, Loss: 284.55999755859375\n",
      "Epoch 900, Loss: 284.55999755859375\n",
      "Epoch 1000, Loss: 284.55999755859375\n"
     ]
    }
   ],
   "source": [
    "for epoch in range(1000):\n",
    "    optimizer.zero_grad()\n",
    "    outputs = model(x)\n",
    "    loss = criterion(outputs, y)\n",
    "    loss.backward()\n",
    "    optimizer.step()\n",
    "\n",
    "    if epoch % 100 == 99:\n",
    "        print(f'Epoch {epoch+1}, Loss: {loss.item()}')"
   ]
  }
 ],
 "metadata": {
  "kernelspec": {
   "display_name": "Python 3",
   "language": "python",
   "name": "python3"
  },
  "language_info": {
   "codemirror_mode": {
    "name": "ipython",
    "version": 3
   },
   "file_extension": ".py",
   "mimetype": "text/x-python",
   "name": "python",
   "nbconvert_exporter": "python",
   "pygments_lexer": "ipython3",
   "version": "3.10.12"
  }
 },
 "nbformat": 4,
 "nbformat_minor": 2
}
