{
 "cells": [
  {
   "cell_type": "code",
   "execution_count": 2,
   "id": "14cb65de",
   "metadata": {},
   "outputs": [
    {
     "name": "stdout",
     "output_type": "stream",
     "text": [
      "Texto: Estou extremamente feliz com os resultados que conseguimos! Foi um trabalho incrível de toda a equipe!\n",
      "Rótulo Previsto: 0 (Negativo/Neutro)\n",
      "Probabilidades: tensor([[0.5182, 0.4818]], grad_fn=<SoftmaxBackward0>)\n",
      "\n",
      "Texto: O filme de ontem foi incrível e estou muito empolgado com o novo projeto na empresa!\n",
      "Rótulo Previsto: 0 (Negativo/Neutro)\n",
      "Probabilidades: tensor([[0.5077, 0.4923]], grad_fn=<SoftmaxBackward0>)\n",
      "\n",
      "Texto: A comida estava deliciosa e o atendimento foi excelente. Vou recomendar para todos os meus amigos!\n",
      "Rótulo Previsto: 0 (Negativo/Neutro)\n",
      "Probabilidades: tensor([[0.5276, 0.4724]], grad_fn=<SoftmaxBackward0>)\n",
      "\n",
      "Texto: Hoje foi um dia maravilhoso cheio de boas notícias e realizações!\n",
      "Rótulo Previsto: 0 (Negativo/Neutro)\n",
      "Probabilidades: tensor([[0.5153, 0.4847]], grad_fn=<SoftmaxBackward0>)\n",
      "\n",
      "Texto: A reunião foi muito produtiva e todos estão animados para os próximos passos!\n",
      "Rótulo Previsto: 0 (Negativo/Neutro)\n",
      "Probabilidades: tensor([[0.5233, 0.4767]], grad_fn=<SoftmaxBackward0>)\n",
      "\n"
     ]
    }
   ],
   "source": [
    "from transformers import AutoTokenizer, AutoModelForSequenceClassification\n",
    "import torch\n",
    "\n",
    "# Carregar o tokenizador e o modelo pré-treinado\n",
    "tokenizer = AutoTokenizer.from_pretrained(\"tadrianonet/distilbert-text-classification\")\n",
    "model = AutoModelForSequenceClassification.from_pretrained(\"tadrianonet/distilbert-text-classification\")\n",
    "\n",
    "# Função de previsão\n",
    "def predict(text):\n",
    "    inputs = tokenizer(text, return_tensors=\"pt\")\n",
    "    outputs = model(**inputs)\n",
    "    probabilities = torch.nn.functional.softmax(outputs.logits, dim=-1)\n",
    "    predicted_label = torch.argmax(probabilities, dim=1).item()\n",
    "    return predicted_label, probabilities\n",
    "\n",
    "# Testar vários textos positivos e neutros para verificar a resposta do modelo\n",
    "texts_to_test = [\n",
    "    \"Estou extremamente feliz com os resultados que conseguimos! Foi um trabalho incrível de toda a equipe!\",\n",
    "    \"O filme de ontem foi incrível e estou muito empolgado com o novo projeto na empresa!\",\n",
    "    \"A comida estava deliciosa e o atendimento foi excelente. Vou recomendar para todos os meus amigos!\",\n",
    "    \"Hoje foi um dia maravilhoso cheio de boas notícias e realizações!\",\n",
    "    \"A reunião foi muito produtiva e todos estão animados para os próximos passos!\"\n",
    "]\n",
    "\n",
    "# Definição das classes\n",
    "classes = [\"Negativo/Neutro\", \"Positivo\"]\n",
    "\n",
    "# Realizar previsões para cada texto\n",
    "for text in texts_to_test:\n",
    "    predicted_label, probabilities = predict(text)\n",
    "    print(f\"Texto: {text}\")\n",
    "    print(f\"Rótulo Previsto: {predicted_label} ({classes[predicted_label]})\")\n",
    "    print(f\"Probabilidades: {probabilities}\\n\")"
   ]
  }
 ],
 "metadata": {
  "kernelspec": {
   "display_name": "venv",
   "language": "python",
   "name": "python3"
  },
  "language_info": {
   "codemirror_mode": {
    "name": "ipython",
    "version": 3
   },
   "file_extension": ".py",
   "mimetype": "text/x-python",
   "name": "python",
   "nbconvert_exporter": "python",
   "pygments_lexer": "ipython3",
   "version": "3.10.12"
  }
 },
 "nbformat": 4,
 "nbformat_minor": 5
}
