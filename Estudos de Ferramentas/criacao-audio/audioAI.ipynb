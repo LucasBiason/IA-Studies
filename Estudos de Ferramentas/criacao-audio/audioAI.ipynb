{
 "cells": [
  {
   "cell_type": "code",
   "execution_count": 2,
   "metadata": {},
   "outputs": [],
   "source": [
    "from openai import OpenAI\n",
    "from dotenv import load_dotenv\n",
    "import base64\n",
    "\n",
    "load_dotenv()\n",
    "cliente = OpenAI()"
   ]
  },
  {
   "cell_type": "code",
   "execution_count": 3,
   "metadata": {},
   "outputs": [],
   "source": [
    "# criar um audio para mim de acordo com um pedido/prompt\n",
    "resposta = cliente.chat.completions.create(\n",
    "    model=\"gpt-4o-audio-preview\",\n",
    "    modalities=[\"text\", \"audio\"],\n",
    "    audio={\"format\": \"wav\", \"voice\": \"alloy\"},\n",
    "    messages=[\n",
    "        {\n",
    "            \"role\": \"user\", \n",
    "            \"content\": \"Crie um áudio convidando as pessoas para a minha festa de aniversário.\"\n",
    "        }\n",
    "    ]\n",
    ")\n",
    "\n",
    "faixa_audio = resposta.choices[0].message.audio.data\n",
    "faixa_audio_bytes = base64.b64decode(faixa_audio)\n",
    "\n",
    "with open(\"audio.wav\", \"wb\") as arquivo_audio:\n",
    "    arquivo_audio.write(faixa_audio_bytes)\n"
   ]
  },
  {
   "cell_type": "code",
   "execution_count": 4,
   "metadata": {},
   "outputs": [],
   "source": [
    "# gerar um áudio a partir de um texto\n",
    "resposta = cliente.audio.speech.create(\n",
    "    model=\"tts-1\",\n",
    "    voice=\"alloy\",\n",
    "    response_format=\"wav\",\n",
    "    input=\"Isso é um teste mais complexo sobre audios, eu quero saber se esse audio esta sendo viável ou não\"\n",
    ")\n",
    "resposta.write_to_file(\"audio2.wav\")"
   ]
  }
 ],
 "metadata": {
  "kernelspec": {
   "display_name": ".venv",
   "language": "python",
   "name": "python3"
  },
  "language_info": {
   "codemirror_mode": {
    "name": "ipython",
    "version": 3
   },
   "file_extension": ".py",
   "mimetype": "text/x-python",
   "name": "python",
   "nbconvert_exporter": "python",
   "pygments_lexer": "ipython3",
   "version": "3.10.12"
  }
 },
 "nbformat": 4,
 "nbformat_minor": 2
}
