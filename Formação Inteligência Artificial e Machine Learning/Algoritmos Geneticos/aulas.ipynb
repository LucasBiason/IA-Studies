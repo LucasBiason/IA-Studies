{
 "cells": [
  {
   "cell_type": "code",
   "execution_count": 21,
   "id": "d7019823",
   "metadata": {},
   "outputs": [
    {
     "name": "stdout",
     "output_type": "stream",
     "text": [
      "Requirement already satisfied: pygad in /home/lucas-biason/Estudos/IA-Studies/venv/lib/python3.13/site-packages (3.4.0)\n",
      "Requirement already satisfied: cloudpickle in /home/lucas-biason/Estudos/IA-Studies/venv/lib/python3.13/site-packages (from pygad) (3.1.1)\n",
      "Requirement already satisfied: matplotlib in /home/lucas-biason/Estudos/IA-Studies/venv/lib/python3.13/site-packages (from pygad) (3.10.3)\n",
      "Requirement already satisfied: numpy in /home/lucas-biason/Estudos/IA-Studies/venv/lib/python3.13/site-packages (from pygad) (2.3.1)\n",
      "Requirement already satisfied: contourpy>=1.0.1 in /home/lucas-biason/Estudos/IA-Studies/venv/lib/python3.13/site-packages (from matplotlib->pygad) (1.3.2)\n",
      "Requirement already satisfied: cycler>=0.10 in /home/lucas-biason/Estudos/IA-Studies/venv/lib/python3.13/site-packages (from matplotlib->pygad) (0.12.1)\n",
      "Requirement already satisfied: fonttools>=4.22.0 in /home/lucas-biason/Estudos/IA-Studies/venv/lib/python3.13/site-packages (from matplotlib->pygad) (4.58.4)\n",
      "Requirement already satisfied: kiwisolver>=1.3.1 in /home/lucas-biason/Estudos/IA-Studies/venv/lib/python3.13/site-packages (from matplotlib->pygad) (1.4.8)\n",
      "Requirement already satisfied: packaging>=20.0 in /home/lucas-biason/Estudos/IA-Studies/venv/lib/python3.13/site-packages (from matplotlib->pygad) (25.0)\n",
      "Requirement already satisfied: pillow>=8 in /home/lucas-biason/Estudos/IA-Studies/venv/lib/python3.13/site-packages (from matplotlib->pygad) (11.2.1)\n",
      "Requirement already satisfied: pyparsing>=2.3.1 in /home/lucas-biason/Estudos/IA-Studies/venv/lib/python3.13/site-packages (from matplotlib->pygad) (3.2.3)\n",
      "Requirement already satisfied: python-dateutil>=2.7 in /home/lucas-biason/Estudos/IA-Studies/venv/lib/python3.13/site-packages (from matplotlib->pygad) (2.9.0.post0)\n",
      "Requirement already satisfied: six>=1.5 in /home/lucas-biason/Estudos/IA-Studies/venv/lib/python3.13/site-packages (from python-dateutil>=2.7->matplotlib->pygad) (1.17.0)\n"
     ]
    }
   ],
   "source": [
    "!pip install pygad"
   ]
  },
  {
   "cell_type": "code",
   "execution_count": 22,
   "id": "0ec4a13e",
   "metadata": {},
   "outputs": [],
   "source": [
    "import pygad\n",
    "import numpy as np"
   ]
  },
  {
   "cell_type": "markdown",
   "id": "353601d0",
   "metadata": {},
   "source": [
    "## Binario"
   ]
  },
  {
   "cell_type": "code",
   "execution_count": null,
   "id": "300b5d40",
   "metadata": {},
   "outputs": [
    {
     "name": "stdout",
     "output_type": "stream",
     "text": [
      "Melhor solução [0 1 0 1 1 0 1]\n",
      "Pontos:  82\n"
     ]
    }
   ],
   "source": [
    "# Temos uma restrição de 15kilos, para levar o maior numero de itens possiveis e priorizar os mais importantes.add()\n",
    "# Item | Pontos | Peso\n",
    "itens = [\n",
    "    (\"canivete\",10,1),\n",
    "    (\"feijão\",20,5),\n",
    "    (\"batatas\",15, 10),\n",
    "    (\"lanterna\",2,1),\n",
    "    (\"saco de dormir\", 30, 7),\n",
    "    (\"corda\",10,5),\n",
    "    (\"bussula\",30,1)\n",
    "    ]\n",
    "limite_peso = 15\n",
    "\n",
    "def fintness_func(ga_instance,solution,solution_idx):\n",
    "  pontos = 0\n",
    "  peso = 0\n",
    "  for i in range(len(solution)):\n",
    "    if solution[i] == 1:\n",
    "      pontos += itens[i][1]\n",
    "      peso += itens[i][2]\n",
    "  if peso > limite_peso:\n",
    "    return -1\n",
    "  return pontos\n",
    "\n",
    "\n",
    "ga_instance = pygad.GA(\n",
    "    num_generations=500,\n",
    "    num_parents_mating=5,\n",
    "    fitness_func=fintness_func,\n",
    "    sol_per_pop=50,\n",
    "    num_genes=len(itens),\n",
    "    gene_type=int,\n",
    "    init_range_low=0,\n",
    "    init_range_high=2,\n",
    "    mutation_type=None\n",
    ")\n",
    "\n",
    "ga_instance.run()\n",
    "solution, solution_fitness, _ = ga_instance.best_solution()\n",
    "print(\"Melhor solução\", solution)\n",
    "print(\"Pontos: \", solution_fitness)\n",
    "#1 1 0 0 1 0 1"
   ]
  },
  {
   "cell_type": "markdown",
   "id": "cfeea30f",
   "metadata": {},
   "source": [
    "## Valor Real"
   ]
  },
  {
   "cell_type": "code",
   "execution_count": 24,
   "id": "a4122932",
   "metadata": {},
   "outputs": [
    {
     "name": "stdout",
     "output_type": "stream",
     "text": [
      "0.028571428579591836\n",
      "0.040000000016\n",
      "0.06666666671111111\n",
      "0.2000000004\n",
      "100000000.0\n",
      "0.1999999996\n",
      "0.14285714265306124\n"
     ]
    }
   ],
   "source": [
    "#  2 * x + 5 = 20\n",
    "def equation_func(solution):\n",
    "  x = solution[0]\n",
    "  equation_output = 2 * x + 5\n",
    "  target_output = 20\n",
    "  fitness = 1.0 / np.abs(equation_output - target_output  + 1e-8)\n",
    "  return fitness\n",
    "\n",
    "lista = [-10,-5,0,5,7.5, 10, 11]\n",
    "for value in lista:\n",
    "  result = equation_func([value])\n",
    "  print(result)"
   ]
  },
  {
   "cell_type": "code",
   "execution_count": 25,
   "id": "eea1c40d",
   "metadata": {},
   "outputs": [
    {
     "data": {
      "image/png": "[encoded data removed]",
      "text/plain": [
       "<Figure size 640x480 with 1 Axes>"
      ]
     },
     "metadata": {},
     "output_type": "display_data"
    },
    {
     "name": "stdout",
     "output_type": "stream",
     "text": [
      "Melhor solução:  7.5\n",
      "Pontos:  1714.1817753385965\n"
     ]
    }
   ],
   "source": [
    "def equation_func(ga_instance,solution,solution_idx):\n",
    "  x = solution[0]\n",
    "  equation_output = 2 * x + 5\n",
    "  target_output = 20\n",
    "  fitness = 1.0 / np.abs(equation_output - target_output  + 1e-8)\n",
    "  return fitness\n",
    "\n",
    "ga_instance = pygad.GA(\n",
    "    num_generations=50,\n",
    "    num_parents_mating=10,\n",
    "    fitness_func=equation_func,\n",
    "    sol_per_pop = 20,\n",
    "    num_genes=1,\n",
    "    gene_type=float,\n",
    "    init_range_low = -10,\n",
    "    init_range_high=10\n",
    ")\n",
    "\n",
    "ga_instance.run()\n",
    "#ga_instance.plot_result()\n",
    "ga_instance.plot_fitness()\n",
    "solution, solution_fitness, _ = ga_instance.best_solution()\n",
    "print(\"Melhor solução: \", round(solution[0],1))\n",
    "print(\"Pontos: \", solution_fitness)"
   ]
  }
 ],
 "metadata": {
  "kernelspec": {
   "display_name": "venv",
   "language": "python",
   "name": "python3"
  },
  "language_info": {
   "codemirror_mode": {
    "name": "ipython",
    "version": 3
   },
   "file_extension": ".py",
   "mimetype": "text/x-python",
   "name": "python",
   "nbconvert_exporter": "python",
   "pygments_lexer": "ipython3",
   "version": "3.13.3"
  }
 },
 "nbformat": 4,
 "nbformat_minor": 5
}
