{
  "cells": [
    {
      "cell_type": "code",
      "execution_count": 1,
      "metadata": {
        "id": "nmE6ku5PH_1S"
      },
      "outputs": [],
      "source": [
        "import pandas as pd\n",
        "from sklearn.model_selection import train_test_split\n",
        "from sklearn.naive_bayes import GaussianNB\n",
        "from sklearn.metrics import accuracy_score\n",
        "from sklearn.feature_selection import chi2, SelectKBest"
      ]
    },
    {
      "cell_type": "code",
      "execution_count": 2,
      "metadata": {
        "colab": {
          "base_uri": "https://localhost:8080/"
        },
        "id": "2XbS-VsGSKVX",
        "outputId": "dd27e436-218d-4795-fcd3-2290451afe9a"
      },
      "outputs": [
        {
          "data": {
            "text/plain": [
              "(3279, 1559)"
            ]
          },
          "execution_count": 2,
          "metadata": {},
          "output_type": "execute_result"
        }
      ],
      "source": [
        "# E este arquivo é um conjunto de dados com 155 atributos\n",
        "# incluem informações como categoria do produto, o tipo de anúncio, seu anúncio de texto, anúncio,\n",
        "# imagem, o tamanho do anúncio, a cor de fundo, a fonte, o local na página que o anúncio foi publicado, entre outras informações.\n",
        "# Então são 155 características do anúncio e o objetivo é prever se o anúncio vai ser clicado ou não pelo usuário do site.\n",
        "anuncio = pd.read_csv('ad.data', header=None)\n",
        "anuncio.shape"
      ]
    },
    {
      "cell_type": "code",
      "execution_count": 3,
      "metadata": {
        "id": "WqAsn7E-SpN2"
      },
      "outputs": [
        {
          "name": "stdout",
          "output_type": "stream",
          "text": [
            "[[125.     125.       1.     ...   0.       0.       0.    ]\n",
            " [ 57.     468.       8.2105 ...   0.       0.       0.    ]\n",
            " [ 33.     230.       6.9696 ...   0.       0.       0.    ]\n",
            " ...\n",
            " [ 23.     120.       5.2173 ...   0.       0.       0.    ]\n",
            " [  0.       0.       0.     ...   0.       0.       0.    ]\n",
            " [ 40.      40.       1.     ...   0.       0.       0.    ]]\n",
            "['ad.' 'ad.' 'ad.' ... 'nonad.' 'nonad.' 'nonad.']\n"
          ]
        }
      ],
      "source": [
        "X = anuncio.iloc[:,:-1].values #todas as linhas menos a ultima coluna\n",
        "y = anuncio.iloc[:,-1].values\n",
        "print(X) # As colunas 0 1 são valores logicos/ booleans\n",
        "print(y) # ad -> clica no anuncio, nonad -> não clica no anuncio"
      ]
    },
    {
      "cell_type": "code",
      "execution_count": 4,
      "metadata": {
        "id": "GB2APor0TMen"
      },
      "outputs": [],
      "source": [
        "X_treinamento, X_teste, y_treinamento, y_teste = train_test_split(X,y, test_size = 0.3, random_state=0)"
      ]
    },
    {
      "cell_type": "code",
      "execution_count": null,
      "metadata": {
        "colab": {
          "base_uri": "https://localhost:8080/"
        },
        "id": "GidCEz53TZpn",
        "outputId": "0e2ba4b5-da89-435d-960b-f37fb2837e51"
      },
      "outputs": [
        {
          "name": "stdout",
          "output_type": "stream",
          "text": [
            "0.7764227642276422\n"
          ]
        }
      ],
      "source": [
        "modelo1 = GaussianNB()\n",
        "modelo1.fit(X_treinamento,y_treinamento)\n",
        "previsoes1 = modelo1.predict(X_teste)\n",
        "# comparando o que de fato aconteceu com o que eu previ para o mesmo conjunto de dados, para as mesmas linhas\n",
        "# por isso que eu consigo medir a performance.\n",
        "print(accuracy_score(y_teste,previsoes1))"
      ]
    },
    {
      "cell_type": "code",
      "execution_count": 7,
      "metadata": {
        "id": "AGCglhLZT3dw"
      },
      "outputs": [
        {
          "name": "stdout",
          "output_type": "stream",
          "text": [
            "> X_novo:  [[125.     125.       1.     ...   1.       0.       1.    ]\n",
            " [ 57.     468.       8.2105 ...   1.       0.       0.    ]\n",
            " [ 33.     230.       6.9696 ...   0.       0.       0.    ]\n",
            " ...\n",
            " [ 23.     120.       5.2173 ...   0.       0.       0.    ]\n",
            " [  0.       0.       0.     ...   0.       0.       0.    ]\n",
            " [ 40.      40.       1.     ...   0.       0.       0.    ]]\n",
            "> X_novo.shape:  (3279, 7)\n",
            "[ True  True  True ... False False False]\n"
          ]
        }
      ],
      "source": [
        "selecao = SelectKBest(chi2,k=7) # Vamos selecionar os mlehores atributos\n",
        "X_novo = selecao.fit_transform(X,y)\n",
        "print(\"> X_novo: \", X_novo)\n",
        "print(\"> X_novo.shape: \", X_novo.shape)\n",
        "print(selecao.get_support())"
      ]
    },
    {
      "cell_type": "code",
      "execution_count": 8,
      "metadata": {
        "id": "7nkUtDHsUtVm"
      },
      "outputs": [],
      "source": [
        "X_treinamento, X_teste, y_treinamento, y_teste = train_test_split(X_novo,y, test_size = 0.3, random_state=0)"
      ]
    },
    {
      "cell_type": "code",
      "execution_count": 9,
      "metadata": {
        "colab": {
          "base_uri": "https://localhost:8080/"
        },
        "id": "0-uKc-XfU5TP",
        "outputId": "cb88b2a6-db6d-49a8-fb9a-3fc68d005464"
      },
      "outputs": [
        {
          "name": "stdout",
          "output_type": "stream",
          "text": [
            "0.9451219512195121\n"
          ]
        }
      ],
      "source": [
        "modelo2 = GaussianNB()\n",
        "modelo2.fit(X_treinamento,y_treinamento)\n",
        "previsoes2 = modelo2.predict(X_teste)\n",
        "print(accuracy_score(y_teste,previsoes2))"
      ]
    },
    {
      "cell_type": "code",
      "execution_count": null,
      "metadata": {
        "id": "h38tDiOiVIS-"
      },
      "outputs": [],
      "source": []
    }
  ],
  "metadata": {
    "colab": {
      "provenance": []
    },
    "kernelspec": {
      "display_name": ".venv",
      "language": "python",
      "name": "python3"
    },
    "language_info": {
      "codemirror_mode": {
        "name": "ipython",
        "version": 3
      },
      "file_extension": ".py",
      "mimetype": "text/x-python",
      "name": "python",
      "nbconvert_exporter": "python",
      "pygments_lexer": "ipython3",
      "version": "3.10.12"
    }
  },
  "nbformat": 4,
  "nbformat_minor": 0
}
