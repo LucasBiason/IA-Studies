{
  "cells": [
    {
      "cell_type": "code",
      "execution_count": 65,
      "metadata": {
        "id": "gCcoKU_SW878"
      },
      "outputs": [],
      "source": [
        "import pandas as pd\n",
        "from sklearn.preprocessing import LabelEncoder, StandardScaler"
      ]
    },
    {
      "cell_type": "code",
      "execution_count": 66,
      "metadata": {
        "colab": {
          "base_uri": "https://localhost:8080/"
        },
        "id": "8aFyqnN_XS88",
        "outputId": "ca9cfba6-c0be-458a-fe4b-a120bbc614d8"
      },
      "outputs": [
        {
          "data": {
            "text/plain": [
              "(1000, 8)"
            ]
          },
          "execution_count": 66,
          "metadata": {},
          "output_type": "execute_result"
        }
      ],
      "source": [
        "dataset = pd.read_csv('credit_simple.csv', sep=';')\n",
        "dataset.shape"
      ]
    },
    {
      "cell_type": "code",
      "execution_count": 67,
      "metadata": {
        "colab": {
          "base_uri": "https://localhost:8080/",
          "height": 206
        },
        "id": "XcW26TISXnsZ",
        "outputId": "f4efbe31-f503-42f0-fbb1-b80f0661193f"
      },
      "outputs": [
        {
          "data": {
            "text/html": [
              "<div>\n",
              "<style scoped>\n",
              "    .dataframe tbody tr th:only-of-type {\n",
              "        vertical-align: middle;\n",
              "    }\n",
              "\n",
              "    .dataframe tbody tr th {\n",
              "        vertical-align: top;\n",
              "    }\n",
              "\n",
              "    .dataframe thead th {\n",
              "        text-align: right;\n",
              "    }\n",
              "</style>\n",
              "<table border=\"1\" class=\"dataframe\">\n",
              "  <thead>\n",
              "    <tr style=\"text-align: right;\">\n",
              "      <th></th>\n",
              "      <th>SALDO_ATUAL</th>\n",
              "      <th>RESIDENCIADESDE</th>\n",
              "      <th>IDADE</th>\n",
              "      <th>OUTROSPLANOSPGTO</th>\n",
              "      <th>DATA</th>\n",
              "      <th>ESTADOCIVIL</th>\n",
              "      <th>PROPOSITO</th>\n",
              "      <th>CLASSE</th>\n",
              "    </tr>\n",
              "  </thead>\n",
              "  <tbody>\n",
              "    <tr>\n",
              "      <th>0</th>\n",
              "      <td>1169.0</td>\n",
              "      <td>4</td>\n",
              "      <td>67</td>\n",
              "      <td>nenhum</td>\n",
              "      <td>01/01/2019</td>\n",
              "      <td>masculino solteiro</td>\n",
              "      <td>radio/tv</td>\n",
              "      <td>bom</td>\n",
              "    </tr>\n",
              "    <tr>\n",
              "      <th>1</th>\n",
              "      <td>5951.0</td>\n",
              "      <td>2</td>\n",
              "      <td>22</td>\n",
              "      <td>nenhum</td>\n",
              "      <td>01/01/2020</td>\n",
              "      <td>fem div/cas</td>\n",
              "      <td>radio/tv</td>\n",
              "      <td>ruim</td>\n",
              "    </tr>\n",
              "    <tr>\n",
              "      <th>2</th>\n",
              "      <td>2096.0</td>\n",
              "      <td>3</td>\n",
              "      <td>49</td>\n",
              "      <td>nenhum</td>\n",
              "      <td>02/01/2020</td>\n",
              "      <td>masculino solteiro</td>\n",
              "      <td>educação</td>\n",
              "      <td>bom</td>\n",
              "    </tr>\n",
              "    <tr>\n",
              "      <th>3</th>\n",
              "      <td>7882.0</td>\n",
              "      <td>4</td>\n",
              "      <td>45</td>\n",
              "      <td>nenhum</td>\n",
              "      <td>02/01/2019</td>\n",
              "      <td>masculino solteiro</td>\n",
              "      <td>mobilia/equipamento</td>\n",
              "      <td>bom</td>\n",
              "    </tr>\n",
              "    <tr>\n",
              "      <th>4</th>\n",
              "      <td>4870.0</td>\n",
              "      <td>4</td>\n",
              "      <td>53</td>\n",
              "      <td>nenhum</td>\n",
              "      <td>03/01/2018</td>\n",
              "      <td>masculino solteiro</td>\n",
              "      <td>carro novo</td>\n",
              "      <td>ruim</td>\n",
              "    </tr>\n",
              "  </tbody>\n",
              "</table>\n",
              "</div>"
            ],
            "text/plain": [
              "   SALDO_ATUAL  RESIDENCIADESDE  IDADE OUTROSPLANOSPGTO        DATA  \\\n",
              "0       1169.0                4     67           nenhum  01/01/2019   \n",
              "1       5951.0                2     22           nenhum  01/01/2020   \n",
              "2       2096.0                3     49           nenhum  02/01/2020   \n",
              "3       7882.0                4     45           nenhum  02/01/2019   \n",
              "4       4870.0                4     53           nenhum  03/01/2018   \n",
              "\n",
              "          ESTADOCIVIL            PROPOSITO CLASSE  \n",
              "0  masculino solteiro             radio/tv    bom  \n",
              "1         fem div/cas             radio/tv   ruim  \n",
              "2  masculino solteiro             educação    bom  \n",
              "3  masculino solteiro  mobilia/equipamento    bom  \n",
              "4  masculino solteiro           carro novo   ruim  "
            ]
          },
          "execution_count": 67,
          "metadata": {},
          "output_type": "execute_result"
        }
      ],
      "source": [
        "dataset.head()"
      ]
    },
    {
      "cell_type": "code",
      "execution_count": 68,
      "metadata": {
        "id": "doYiwjGRYCgH"
      },
      "outputs": [],
      "source": [
        "y = dataset['CLASSE']\n",
        "X = dataset.iloc[:,:-1]"
      ]
    },
    {
      "cell_type": "code",
      "execution_count": 69,
      "metadata": {
        "colab": {
          "base_uri": "https://localhost:8080/"
        },
        "id": "MCIjkPw1YQ9W",
        "outputId": "33abf6f7-c78d-4831-9239-6733649406a9"
      },
      "outputs": [
        {
          "data": {
            "text/plain": [
              "SALDO_ATUAL         7\n",
              "RESIDENCIADESDE     0\n",
              "IDADE               0\n",
              "OUTROSPLANOSPGTO    0\n",
              "DATA                0\n",
              "ESTADOCIVIL         8\n",
              "PROPOSITO           0\n",
              "dtype: int64"
            ]
          },
          "execution_count": 69,
          "metadata": {},
          "output_type": "execute_result"
        }
      ],
      "source": [
        "X.isnull().sum() # Somar os atributos que o a nulos para cada coluna"
      ]
    },
    {
      "cell_type": "code",
      "execution_count": 70,
      "metadata": {
        "colab": {
          "base_uri": "https://localhost:8080/"
        },
        "id": "U4iwMlo3YSxF",
        "outputId": "d546a628-4a30-4760-8e28-c26d15aac619"
      },
      "outputs": [
        {
          "data": {
            "text/plain": [
              "np.float64(2323.0)"
            ]
          },
          "execution_count": 70,
          "metadata": {},
          "output_type": "execute_result"
        }
      ],
      "source": [
        "mediana = X['SALDO_ATUAL'].median() # Podemos preencher os valores nulos com a mediana que não esta sucetivel a valores extremos.\n",
        "# Ela não se influencia por valores muito acima ou abaixo da média, assim calculamos a mediana e preenchemos os valores nulo com ela.\n",
        "# Isso é feito porque o modelo não considera linha por linha e sim pelo coletivo.\n",
        "# Isso NÂO deve ser feito no banco de dados de produção. È feito apenas para treinamento do modelo.\n",
        "mediana"
      ]
    },
    {
      "cell_type": "code",
      "execution_count": 71,
      "metadata": {
        "colab": {
          "base_uri": "https://localhost:8080/"
        },
        "id": "0HVfJx2YZJlA",
        "outputId": "90caa57e-ea36-4b27-fc64-5931f5f57648"
      },
      "outputs": [
        {
          "name": "stderr",
          "output_type": "stream",
          "text": [
            "/tmp/ipykernel_2137661/3134462504.py:1: FutureWarning: A value is trying to be set on a copy of a DataFrame or Series through chained assignment using an inplace method.\n",
            "The behavior will change in pandas 3.0. This inplace method will never work because the intermediate object on which we are setting values always behaves as a copy.\n",
            "\n",
            "For example, when doing 'df[col].method(value, inplace=True)', try using 'df.method({col: value}, inplace=True)' or df[col] = df[col].method(value) instead, to perform the operation inplace on the original object.\n",
            "\n",
            "\n",
            "  X['SALDO_ATUAL'].fillna(mediana,inplace=True)\n"
          ]
        },
        {
          "data": {
            "text/plain": [
              "SALDO_ATUAL         0\n",
              "RESIDENCIADESDE     0\n",
              "IDADE               0\n",
              "OUTROSPLANOSPGTO    0\n",
              "DATA                0\n",
              "ESTADOCIVIL         8\n",
              "PROPOSITO           0\n",
              "dtype: int64"
            ]
          },
          "execution_count": 71,
          "metadata": {},
          "output_type": "execute_result"
        }
      ],
      "source": [
        "X['SALDO_ATUAL'].fillna(mediana,inplace=True)\n",
        "# inplace=True -> Ele não vai atualizar os arquivos originais sem isso, ele só vai gerar um conjunto de dados com o valor\n",
        "X.isnull().sum()"
      ]
    },
    {
      "cell_type": "code",
      "execution_count": 72,
      "metadata": {
        "colab": {
          "base_uri": "https://localhost:8080/"
        },
        "id": "fsLseHR5ZXiH",
        "outputId": "a7b0afdf-2429-465f-d752-9ac946f927ba"
      },
      "outputs": [
        {
          "data": {
            "text/plain": [
              "ESTADOCIVIL\n",
              "fem div/cas               308\n",
              "masculino casado/viuvo     92\n",
              "masculino div/sep          50\n",
              "masculino solteiro        542\n",
              "dtype: int64"
            ]
          },
          "execution_count": 72,
          "metadata": {},
          "output_type": "execute_result"
        }
      ],
      "source": [
        "agrupado = X.groupby(['ESTADOCIVIL']).size()\n",
        "# Uma possibilidade interessante é usar a Mode, o valor mais comum.\n",
        "# Podemos agrupar por estado civil e pegar o valor mais comum e usar ele para preencher os nulos.\n",
        "agrupado"
      ]
    },
    {
      "cell_type": "code",
      "execution_count": 73,
      "metadata": {
        "colab": {
          "base_uri": "https://localhost:8080/"
        },
        "id": "Dn9sMMvWZqI-",
        "outputId": "f1f805ae-31ef-452c-9930-a95c31e65925"
      },
      "outputs": [
        {
          "name": "stderr",
          "output_type": "stream",
          "text": [
            "/tmp/ipykernel_2137661/1274388989.py:1: FutureWarning: A value is trying to be set on a copy of a DataFrame or Series through chained assignment using an inplace method.\n",
            "The behavior will change in pandas 3.0. This inplace method will never work because the intermediate object on which we are setting values always behaves as a copy.\n",
            "\n",
            "For example, when doing 'df[col].method(value, inplace=True)', try using 'df.method({col: value}, inplace=True)' or df[col] = df[col].method(value) instead, to perform the operation inplace on the original object.\n",
            "\n",
            "\n",
            "  X['ESTADOCIVIL'].fillna('masculino solteiro', inplace=True)\n"
          ]
        },
        {
          "data": {
            "text/plain": [
              "SALDO_ATUAL         0\n",
              "RESIDENCIADESDE     0\n",
              "IDADE               0\n",
              "OUTROSPLANOSPGTO    0\n",
              "DATA                0\n",
              "ESTADOCIVIL         0\n",
              "PROPOSITO           0\n",
              "dtype: int64"
            ]
          },
          "execution_count": 73,
          "metadata": {},
          "output_type": "execute_result"
        }
      ],
      "source": [
        "X['ESTADOCIVIL'].fillna('masculino solteiro', inplace=True)\n",
        "X.isnull().sum()"
      ]
    },
    {
      "cell_type": "code",
      "execution_count": 74,
      "metadata": {
        "colab": {
          "base_uri": "https://localhost:8080/"
        },
        "id": "-HTyg8eiZ93O",
        "outputId": "40bc9cc7-32af-4f3e-a131-30a1219efa3d"
      },
      "outputs": [
        {
          "data": {
            "text/plain": [
              "np.float64(685936688.9820067)"
            ]
          },
          "execution_count": 74,
          "metadata": {},
          "output_type": "execute_result"
        }
      ],
      "source": [
        "# Uma outra coisa que pode verificar é outliers, valores fora do padrão.\n",
        "# imagine se você vai criar um modelo de regressão linear utilizando o saldo atual, \n",
        "# a sua variável independente é saldo atual.\n",
        "# Se você tem um alto layer, ou seja, apenas um registro com um valor discrepante, por exemplo,\n",
        "# um bilionário com o saldo atual dele milhões de vezes acima dos demais, isso vai mudar completamente o seu modelo.\n",
        "# retirar esse saldo atual para que não afete a previsão de todos osoutros que vão solicitar empréstimo utilizando esse modelo.\n",
        "desv = X['SALDO_ATUAL'].std()\n",
        "desv"
      ]
    },
    {
      "cell_type": "code",
      "execution_count": 75,
      "metadata": {
        "colab": {
          "base_uri": "https://localhost:8080/"
        },
        "id": "qCwVGPJHavW_",
        "outputId": "604f19e1-2a1e-4cf7-8938-2f6e6fca2ffd"
      },
      "outputs": [
        {
          "data": {
            "text/plain": [
              "127    2.541111e+09\n",
              "160    2.154441e+10\n",
              "Name: SALDO_ATUAL, dtype: float64"
            ]
          },
          "execution_count": 75,
          "metadata": {},
          "output_type": "execute_result"
        }
      ],
      "source": [
        "X.loc[X['SALDO_ATUAL']>= 2 * desv, 'SALDO_ATUAL'] # Vamos utilizar uma tecnica onde o valor é maior que duas vezes o desvio padrão do saldo atual."
      ]
    },
    {
      "cell_type": "code",
      "execution_count": 76,
      "metadata": {
        "colab": {
          "base_uri": "https://localhost:8080/"
        },
        "id": "8ldQ85Xca61Y",
        "outputId": "99e68ff0-330a-40ab-8ef8-97ac718a97cd"
      },
      "outputs": [
        {
          "data": {
            "text/plain": [
              "np.float64(2323.0)"
            ]
          },
          "execution_count": 76,
          "metadata": {},
          "output_type": "execute_result"
        }
      ],
      "source": [
        "mediana = X['SALDO_ATUAL'].median() # Vamos atualizar as duas linhas acima com a mediana.\n",
        "mediana"
      ]
    },
    {
      "cell_type": "code",
      "execution_count": 77,
      "metadata": {
        "colab": {
          "base_uri": "https://localhost:8080/",
          "height": 49
        },
        "id": "mYsB9VeWbOD-",
        "outputId": "cb1faae7-78bb-47af-a782-5cb9d7677a2e"
      },
      "outputs": [
        {
          "data": {
            "text/html": [
              "<div>\n",
              "<style scoped>\n",
              "    .dataframe tbody tr th:only-of-type {\n",
              "        vertical-align: middle;\n",
              "    }\n",
              "\n",
              "    .dataframe tbody tr th {\n",
              "        vertical-align: top;\n",
              "    }\n",
              "\n",
              "    .dataframe thead th {\n",
              "        text-align: right;\n",
              "    }\n",
              "</style>\n",
              "<table border=\"1\" class=\"dataframe\">\n",
              "  <thead>\n",
              "    <tr style=\"text-align: right;\">\n",
              "      <th></th>\n",
              "      <th>SALDO_ATUAL</th>\n",
              "      <th>RESIDENCIADESDE</th>\n",
              "      <th>IDADE</th>\n",
              "      <th>OUTROSPLANOSPGTO</th>\n",
              "      <th>DATA</th>\n",
              "      <th>ESTADOCIVIL</th>\n",
              "      <th>PROPOSITO</th>\n",
              "    </tr>\n",
              "  </thead>\n",
              "  <tbody>\n",
              "  </tbody>\n",
              "</table>\n",
              "</div>"
            ],
            "text/plain": [
              "Empty DataFrame\n",
              "Columns: [SALDO_ATUAL, RESIDENCIADESDE, IDADE, OUTROSPLANOSPGTO, DATA, ESTADOCIVIL, PROPOSITO]\n",
              "Index: []"
            ]
          },
          "execution_count": 77,
          "metadata": {},
          "output_type": "execute_result"
        }
      ],
      "source": [
        "X.loc[X['SALDO_ATUAL']>= 2 * desv, 'SALDO_ATUAL'] = mediana\n",
        "X.loc[X['SALDO_ATUAL']>= 2 * desv]"
      ]
    },
    {
      "cell_type": "code",
      "execution_count": 78,
      "metadata": {
        "colab": {
          "base_uri": "https://localhost:8080/"
        },
        "id": "NqjIQnuybet4",
        "outputId": "341533a7-8610-4f05-aa30-576f969096fc"
      },
      "outputs": [
        {
          "data": {
            "text/plain": [
              "PROPOSITO\n",
              "Eletrodomésticos        12\n",
              "carro novo             234\n",
              "carro usado            103\n",
              "educação                50\n",
              "mobilia/equipamento    181\n",
              "negócios                97\n",
              "obras                   22\n",
              "outros                  12\n",
              "qualificação             9\n",
              "radio/tv               280\n",
              "dtype: int64"
            ]
          },
          "execution_count": 78,
          "metadata": {},
          "output_type": "execute_result"
        }
      ],
      "source": [
        "# O que é o Data Binding?\n",
        "# Remover itens que são duplicados como a digitação errada.\n",
        "# Então eles significam a mesma coisa, mas foram digitada de forma diferente ou itens que têm pouca relevância.\n",
        "# então com o database a gente transforma estes essas instâncias com uma única categoria.\n",
        "# Por exemplo, a gente pode atribuir tudo a outros.\n",
        "agrupado = X.groupby(['PROPOSITO']).size()\n",
        "agrupado"
      ]
    },
    {
      "cell_type": "code",
      "execution_count": 79,
      "metadata": {
        "colab": {
          "base_uri": "https://localhost:8080/"
        },
        "id": "Qdh8VeNUccon",
        "outputId": "73415df1-2fd9-46f1-e027-772c5c05f49b"
      },
      "outputs": [
        {
          "data": {
            "text/plain": [
              "PROPOSITO\n",
              "carro novo             234\n",
              "carro usado            103\n",
              "educação                50\n",
              "mobilia/equipamento    181\n",
              "negócios                97\n",
              "obras                   22\n",
              "outros                  33\n",
              "radio/tv               280\n",
              "dtype: int64"
            ]
          },
          "execution_count": 79,
          "metadata": {},
          "output_type": "execute_result"
        }
      ],
      "source": [
        "# Pegamos os menos representados e colocamos no grupo Outros.\n",
        "X.loc[X['PROPOSITO']=='Eletrodomésticos','PROPOSITO'] = 'outros'\n",
        "X.loc[X['PROPOSITO']=='qualificação','PROPOSITO'] = 'outros'\n",
        "agrupado = X.groupby(['PROPOSITO']).size()\n",
        "agrupado"
      ]
    },
    {
      "cell_type": "code",
      "execution_count": 80,
      "metadata": {
        "colab": {
          "base_uri": "https://localhost:8080/"
        },
        "id": "jualtKo1dDHw",
        "outputId": "c5aa6892-290b-44ca-8c29-3741560a3e11"
      },
      "outputs": [
        {
          "data": {
            "text/plain": [
              "0      01/01/2019\n",
              "1      01/01/2020\n",
              "2      02/01/2020\n",
              "3      02/01/2019\n",
              "4      03/01/2018\n",
              "          ...    \n",
              "995    29/06/2018\n",
              "996    30/06/2018\n",
              "997    03/07/2018\n",
              "998    04/07/2019\n",
              "999    05/07/2018\n",
              "Name: DATA, Length: 1000, dtype: object"
            ]
          },
          "execution_count": 80,
          "metadata": {},
          "output_type": "execute_result"
        }
      ],
      "source": [
        "X['DATA'] # No geral é tratada como categoria, alguns algoritmos podem entender.\n",
        "# Vamos criar três atributos: dia, mês e ano"
      ]
    },
    {
      "cell_type": "code",
      "execution_count": 81,
      "metadata": {
        "id": "bj74w6VUdPP_"
      },
      "outputs": [],
      "source": [
        "X['DATA'] = pd.to_datetime(X['DATA'], format='%d/%m/%Y')"
      ]
    },
    {
      "cell_type": "code",
      "execution_count": 82,
      "metadata": {
        "colab": {
          "base_uri": "https://localhost:8080/"
        },
        "id": "DM2nkaUYd2aQ",
        "outputId": "49a3e7ba-b777-463a-911e-6bdc1b82555e"
      },
      "outputs": [
        {
          "data": {
            "text/plain": [
              "0     2019-01-01\n",
              "1     2020-01-01\n",
              "2     2020-01-02\n",
              "3     2019-01-02\n",
              "4     2018-01-03\n",
              "         ...    \n",
              "995   2018-06-29\n",
              "996   2018-06-30\n",
              "997   2018-07-03\n",
              "998   2019-07-04\n",
              "999   2018-07-05\n",
              "Name: DATA, Length: 1000, dtype: datetime64[ns]"
            ]
          },
          "execution_count": 82,
          "metadata": {},
          "output_type": "execute_result"
        }
      ],
      "source": [
        "X['DATA']"
      ]
    },
    {
      "cell_type": "code",
      "execution_count": 83,
      "metadata": {
        "id": "TTWWlthfeC2w"
      },
      "outputs": [],
      "source": [
        "X['ANO'] = X['DATA'].dt.year\n",
        "X['MES'] = X['DATA'].dt.month\n",
        "X['DIASEMANA'] = X['DATA'].dt.day_name()"
      ]
    },
    {
      "cell_type": "code",
      "execution_count": 84,
      "metadata": {
        "colab": {
          "base_uri": "https://localhost:8080/"
        },
        "id": "o5uoh5PQeViZ",
        "outputId": "dc9ad653-d0d9-4ab8-9e8a-f97dc0d2635f"
      },
      "outputs": [
        {
          "data": {
            "text/plain": [
              "0        Tuesday\n",
              "1      Wednesday\n",
              "2       Thursday\n",
              "3      Wednesday\n",
              "4      Wednesday\n",
              "         ...    \n",
              "995       Friday\n",
              "996     Saturday\n",
              "997      Tuesday\n",
              "998     Thursday\n",
              "999     Thursday\n",
              "Name: DIASEMANA, Length: 1000, dtype: object"
            ]
          },
          "execution_count": 84,
          "metadata": {},
          "output_type": "execute_result"
        }
      ],
      "source": [
        "X['DIASEMANA']"
      ]
    },
    {
      "cell_type": "code",
      "execution_count": 85,
      "metadata": {
        "colab": {
          "base_uri": "https://localhost:8080/"
        },
        "id": "Ci1WZt_zeXuy",
        "outputId": "f12c033e-6a9a-4473-ecbc-c3ddf844ba8b"
      },
      "outputs": [
        {
          "data": {
            "text/plain": [
              "array(['masculino solteiro', 'fem div/cas', 'masculino div/sep',\n",
              "       'masculino casado/viuvo'], dtype=object)"
            ]
          },
          "execution_count": 85,
          "metadata": {},
          "output_type": "execute_result"
        }
      ],
      "source": [
        "X['ESTADOCIVIL'].unique()"
      ]
    },
    {
      "cell_type": "code",
      "execution_count": 86,
      "metadata": {
        "colab": {
          "base_uri": "https://localhost:8080/"
        },
        "id": "Uyh9Yc-ZetBz",
        "outputId": "bf167ee9-202f-4325-f0d7-82c4efd8fe48"
      },
      "outputs": [
        {
          "data": {
            "text/plain": [
              "array(['radio/tv', 'educação', 'mobilia/equipamento', 'carro novo',\n",
              "       'carro usado', 'negócios', 'outros', 'obras'], dtype=object)"
            ]
          },
          "execution_count": 86,
          "metadata": {},
          "output_type": "execute_result"
        }
      ],
      "source": [
        "X['PROPOSITO'].unique()"
      ]
    },
    {
      "cell_type": "code",
      "execution_count": 87,
      "metadata": {
        "colab": {
          "base_uri": "https://localhost:8080/"
        },
        "id": "utRUkROqezOB",
        "outputId": "4557897b-4e3b-47a1-e692-e69e20e8a5ce"
      },
      "outputs": [
        {
          "data": {
            "text/plain": [
              "array(['Tuesday', 'Wednesday', 'Thursday', 'Saturday', 'Sunday', 'Monday',\n",
              "       'Friday'], dtype=object)"
            ]
          },
          "execution_count": 87,
          "metadata": {},
          "output_type": "execute_result"
        }
      ],
      "source": [
        "X['DIASEMANA'].unique()"
      ]
    },
    {
      "cell_type": "code",
      "execution_count": 88,
      "metadata": {
        "id": "79q7jjBYe7QB"
      },
      "outputs": [],
      "source": [
        "# No lugard e usar a OneHotEncoding (que criar uma coluna para cada categoria) vamos usar a LabelEncoder\n",
        "# Isso para não criar muitas colunas pois isso pode aumentar a complexidade do modelo.\n",
        "# A LabelEncoder transforma cada categoria em um número.\n",
        "labelencoder1 = LabelEncoder()\n",
        "X['ESTADOCIVIL'] = labelencoder1.fit_transform(X['ESTADOCIVIL'])\n",
        "X['PROPOSITO'] = labelencoder1.fit_transform(X['PROPOSITO'])\n",
        "X['DIASEMANA'] = labelencoder1.fit_transform(X['DIASEMANA']) "
      ]
    },
    {
      "cell_type": "code",
      "execution_count": 89,
      "metadata": {
        "colab": {
          "base_uri": "https://localhost:8080/",
          "height": 206
        },
        "id": "exdZs2CbfjrL",
        "outputId": "6bbf7e8b-ea5f-4a45-d346-f0b685fc84c5"
      },
      "outputs": [
        {
          "data": {
            "text/html": [
              "<div>\n",
              "<style scoped>\n",
              "    .dataframe tbody tr th:only-of-type {\n",
              "        vertical-align: middle;\n",
              "    }\n",
              "\n",
              "    .dataframe tbody tr th {\n",
              "        vertical-align: top;\n",
              "    }\n",
              "\n",
              "    .dataframe thead th {\n",
              "        text-align: right;\n",
              "    }\n",
              "</style>\n",
              "<table border=\"1\" class=\"dataframe\">\n",
              "  <thead>\n",
              "    <tr style=\"text-align: right;\">\n",
              "      <th></th>\n",
              "      <th>SALDO_ATUAL</th>\n",
              "      <th>RESIDENCIADESDE</th>\n",
              "      <th>IDADE</th>\n",
              "      <th>OUTROSPLANOSPGTO</th>\n",
              "      <th>DATA</th>\n",
              "      <th>ESTADOCIVIL</th>\n",
              "      <th>PROPOSITO</th>\n",
              "      <th>ANO</th>\n",
              "      <th>MES</th>\n",
              "      <th>DIASEMANA</th>\n",
              "    </tr>\n",
              "  </thead>\n",
              "  <tbody>\n",
              "    <tr>\n",
              "      <th>0</th>\n",
              "      <td>1169.0</td>\n",
              "      <td>4</td>\n",
              "      <td>67</td>\n",
              "      <td>nenhum</td>\n",
              "      <td>2019-01-01</td>\n",
              "      <td>3</td>\n",
              "      <td>7</td>\n",
              "      <td>2019</td>\n",
              "      <td>1</td>\n",
              "      <td>5</td>\n",
              "    </tr>\n",
              "    <tr>\n",
              "      <th>1</th>\n",
              "      <td>5951.0</td>\n",
              "      <td>2</td>\n",
              "      <td>22</td>\n",
              "      <td>nenhum</td>\n",
              "      <td>2020-01-01</td>\n",
              "      <td>0</td>\n",
              "      <td>7</td>\n",
              "      <td>2020</td>\n",
              "      <td>1</td>\n",
              "      <td>6</td>\n",
              "    </tr>\n",
              "    <tr>\n",
              "      <th>2</th>\n",
              "      <td>2096.0</td>\n",
              "      <td>3</td>\n",
              "      <td>49</td>\n",
              "      <td>nenhum</td>\n",
              "      <td>2020-01-02</td>\n",
              "      <td>3</td>\n",
              "      <td>2</td>\n",
              "      <td>2020</td>\n",
              "      <td>1</td>\n",
              "      <td>4</td>\n",
              "    </tr>\n",
              "    <tr>\n",
              "      <th>3</th>\n",
              "      <td>7882.0</td>\n",
              "      <td>4</td>\n",
              "      <td>45</td>\n",
              "      <td>nenhum</td>\n",
              "      <td>2019-01-02</td>\n",
              "      <td>3</td>\n",
              "      <td>3</td>\n",
              "      <td>2019</td>\n",
              "      <td>1</td>\n",
              "      <td>6</td>\n",
              "    </tr>\n",
              "    <tr>\n",
              "      <th>4</th>\n",
              "      <td>4870.0</td>\n",
              "      <td>4</td>\n",
              "      <td>53</td>\n",
              "      <td>nenhum</td>\n",
              "      <td>2018-01-03</td>\n",
              "      <td>3</td>\n",
              "      <td>0</td>\n",
              "      <td>2018</td>\n",
              "      <td>1</td>\n",
              "      <td>6</td>\n",
              "    </tr>\n",
              "  </tbody>\n",
              "</table>\n",
              "</div>"
            ],
            "text/plain": [
              "   SALDO_ATUAL  RESIDENCIADESDE  IDADE OUTROSPLANOSPGTO       DATA  \\\n",
              "0       1169.0                4     67           nenhum 2019-01-01   \n",
              "1       5951.0                2     22           nenhum 2020-01-01   \n",
              "2       2096.0                3     49           nenhum 2020-01-02   \n",
              "3       7882.0                4     45           nenhum 2019-01-02   \n",
              "4       4870.0                4     53           nenhum 2018-01-03   \n",
              "\n",
              "   ESTADOCIVIL  PROPOSITO   ANO  MES  DIASEMANA  \n",
              "0            3          7  2019    1          5  \n",
              "1            0          7  2020    1          6  \n",
              "2            3          2  2020    1          4  \n",
              "3            3          3  2019    1          6  \n",
              "4            3          0  2018    1          6  "
            ]
          },
          "execution_count": 89,
          "metadata": {},
          "output_type": "execute_result"
        }
      ],
      "source": [
        "X.head()"
      ]
    },
    {
      "cell_type": "code",
      "execution_count": 90,
      "metadata": {
        "colab": {
          "base_uri": "https://localhost:8080/"
        },
        "id": "ZrT-vufDfrnQ",
        "outputId": "27273b84-4cf0-49c7-8dfa-e00dc4ce6d92"
      },
      "outputs": [
        {
          "data": {
            "text/plain": [
              "array(['nenhum', 'banco', 'stores'], dtype=object)"
            ]
          },
          "execution_count": 90,
          "metadata": {},
          "output_type": "execute_result"
        }
      ],
      "source": [
        "outros = X['OUTROSPLANOSPGTO'].unique()\n",
        "outros"
      ]
    },
    {
      "cell_type": "code",
      "execution_count": 91,
      "metadata": {
        "id": "1O4iVCshf8eg"
      },
      "outputs": [
        {
          "data": {
            "text/html": [
              "<div>\n",
              "<style scoped>\n",
              "    .dataframe tbody tr th:only-of-type {\n",
              "        vertical-align: middle;\n",
              "    }\n",
              "\n",
              "    .dataframe tbody tr th {\n",
              "        vertical-align: top;\n",
              "    }\n",
              "\n",
              "    .dataframe thead th {\n",
              "        text-align: right;\n",
              "    }\n",
              "</style>\n",
              "<table border=\"1\" class=\"dataframe\">\n",
              "  <thead>\n",
              "    <tr style=\"text-align: right;\">\n",
              "      <th></th>\n",
              "      <th>OUTROS_banco</th>\n",
              "      <th>OUTROS_nenhum</th>\n",
              "      <th>OUTROS_stores</th>\n",
              "    </tr>\n",
              "  </thead>\n",
              "  <tbody>\n",
              "    <tr>\n",
              "      <th>0</th>\n",
              "      <td>False</td>\n",
              "      <td>True</td>\n",
              "      <td>False</td>\n",
              "    </tr>\n",
              "    <tr>\n",
              "      <th>1</th>\n",
              "      <td>False</td>\n",
              "      <td>True</td>\n",
              "      <td>False</td>\n",
              "    </tr>\n",
              "    <tr>\n",
              "      <th>2</th>\n",
              "      <td>False</td>\n",
              "      <td>True</td>\n",
              "      <td>False</td>\n",
              "    </tr>\n",
              "    <tr>\n",
              "      <th>3</th>\n",
              "      <td>False</td>\n",
              "      <td>True</td>\n",
              "      <td>False</td>\n",
              "    </tr>\n",
              "    <tr>\n",
              "      <th>4</th>\n",
              "      <td>False</td>\n",
              "      <td>True</td>\n",
              "      <td>False</td>\n",
              "    </tr>\n",
              "    <tr>\n",
              "      <th>...</th>\n",
              "      <td>...</td>\n",
              "      <td>...</td>\n",
              "      <td>...</td>\n",
              "    </tr>\n",
              "    <tr>\n",
              "      <th>995</th>\n",
              "      <td>False</td>\n",
              "      <td>True</td>\n",
              "      <td>False</td>\n",
              "    </tr>\n",
              "    <tr>\n",
              "      <th>996</th>\n",
              "      <td>False</td>\n",
              "      <td>True</td>\n",
              "      <td>False</td>\n",
              "    </tr>\n",
              "    <tr>\n",
              "      <th>997</th>\n",
              "      <td>False</td>\n",
              "      <td>True</td>\n",
              "      <td>False</td>\n",
              "    </tr>\n",
              "    <tr>\n",
              "      <th>998</th>\n",
              "      <td>False</td>\n",
              "      <td>True</td>\n",
              "      <td>False</td>\n",
              "    </tr>\n",
              "    <tr>\n",
              "      <th>999</th>\n",
              "      <td>False</td>\n",
              "      <td>True</td>\n",
              "      <td>False</td>\n",
              "    </tr>\n",
              "  </tbody>\n",
              "</table>\n",
              "<p>1000 rows × 3 columns</p>\n",
              "</div>"
            ],
            "text/plain": [
              "     OUTROS_banco  OUTROS_nenhum  OUTROS_stores\n",
              "0           False           True          False\n",
              "1           False           True          False\n",
              "2           False           True          False\n",
              "3           False           True          False\n",
              "4           False           True          False\n",
              "..            ...            ...            ...\n",
              "995         False           True          False\n",
              "996         False           True          False\n",
              "997         False           True          False\n",
              "998         False           True          False\n",
              "999         False           True          False\n",
              "\n",
              "[1000 rows x 3 columns]"
            ]
          },
          "execution_count": 91,
          "metadata": {},
          "output_type": "execute_result"
        }
      ],
      "source": [
        "z = pd.get_dummies(X['OUTROSPLANOSPGTO'], prefix = 'OUTROS')\n",
        "z"
      ]
    },
    {
      "cell_type": "code",
      "execution_count": 92,
      "metadata": {
        "colab": {
          "base_uri": "https://localhost:8080/"
        },
        "id": "PTcdeQ6Yg7OP",
        "outputId": "0e3729ca-eb2c-4b7c-a6e1-3b41fe00e727"
      },
      "outputs": [
        {
          "data": {
            "text/plain": [
              "array([[-0.74551643,  1.04698668,  1.6392759 ],\n",
              "       [ 0.95774038, -0.76597727, -0.74024139],\n",
              "       [-0.41533679,  0.14050471,  0.68746898],\n",
              "       ...,\n",
              "       [-0.87552244,  1.04698668,  0.1058092 ],\n",
              "       [-0.50473818,  1.04698668, -0.68736323],\n",
              "       [ 0.46799171,  1.04698668, -0.47585058]], shape=(1000, 3))"
            ]
          },
          "execution_count": 92,
          "metadata": {},
          "output_type": "execute_result"
        }
      ],
      "source": [
        "sc = StandardScaler() # Vamos padronizar os dados numericos para que eles fiquem na mesma escala antes de unir os dados de z\n",
        "m = sc.fit_transform(X.iloc[:,0:3])\n",
        "m"
      ]
    },
    {
      "cell_type": "code",
      "execution_count": 93,
      "metadata": {
        "id": "3QzIt2KjhNsI"
      },
      "outputs": [],
      "source": [
        "X = pd.concat([X,z,pd.DataFrame(m,columns=['SALDO_ATUAL_N','RESIDENCEADESDE_N','IDADE_N'])],axis=1)\n",
        "# Para m, como não tem nome das colunas e é um objeto do numpy, vamos transformar ele num dataframe e colocar o nome das colunas."
      ]
    },
    {
      "cell_type": "code",
      "execution_count": 94,
      "metadata": {
        "colab": {
          "base_uri": "https://localhost:8080/",
          "height": 357
        },
        "id": "wzMGJplKh0OP",
        "outputId": "9834d403-d653-470c-b2cf-8540e92d35ff"
      },
      "outputs": [
        {
          "data": {
            "text/html": [
              "<div>\n",
              "<style scoped>\n",
              "    .dataframe tbody tr th:only-of-type {\n",
              "        vertical-align: middle;\n",
              "    }\n",
              "\n",
              "    .dataframe tbody tr th {\n",
              "        vertical-align: top;\n",
              "    }\n",
              "\n",
              "    .dataframe thead th {\n",
              "        text-align: right;\n",
              "    }\n",
              "</style>\n",
              "<table border=\"1\" class=\"dataframe\">\n",
              "  <thead>\n",
              "    <tr style=\"text-align: right;\">\n",
              "      <th></th>\n",
              "      <th>SALDO_ATUAL</th>\n",
              "      <th>RESIDENCIADESDE</th>\n",
              "      <th>IDADE</th>\n",
              "      <th>OUTROSPLANOSPGTO</th>\n",
              "      <th>DATA</th>\n",
              "      <th>ESTADOCIVIL</th>\n",
              "      <th>PROPOSITO</th>\n",
              "      <th>ANO</th>\n",
              "      <th>MES</th>\n",
              "      <th>DIASEMANA</th>\n",
              "      <th>OUTROS_banco</th>\n",
              "      <th>OUTROS_nenhum</th>\n",
              "      <th>OUTROS_stores</th>\n",
              "      <th>SALDO_ATUAL_N</th>\n",
              "      <th>RESIDENCEADESDE_N</th>\n",
              "      <th>IDADE_N</th>\n",
              "    </tr>\n",
              "  </thead>\n",
              "  <tbody>\n",
              "    <tr>\n",
              "      <th>0</th>\n",
              "      <td>1169.0</td>\n",
              "      <td>4</td>\n",
              "      <td>67</td>\n",
              "      <td>nenhum</td>\n",
              "      <td>2019-01-01</td>\n",
              "      <td>3</td>\n",
              "      <td>7</td>\n",
              "      <td>2019</td>\n",
              "      <td>1</td>\n",
              "      <td>5</td>\n",
              "      <td>False</td>\n",
              "      <td>True</td>\n",
              "      <td>False</td>\n",
              "      <td>-0.745516</td>\n",
              "      <td>1.046987</td>\n",
              "      <td>1.639276</td>\n",
              "    </tr>\n",
              "    <tr>\n",
              "      <th>1</th>\n",
              "      <td>5951.0</td>\n",
              "      <td>2</td>\n",
              "      <td>22</td>\n",
              "      <td>nenhum</td>\n",
              "      <td>2020-01-01</td>\n",
              "      <td>0</td>\n",
              "      <td>7</td>\n",
              "      <td>2020</td>\n",
              "      <td>1</td>\n",
              "      <td>6</td>\n",
              "      <td>False</td>\n",
              "      <td>True</td>\n",
              "      <td>False</td>\n",
              "      <td>0.957740</td>\n",
              "      <td>-0.765977</td>\n",
              "      <td>-0.740241</td>\n",
              "    </tr>\n",
              "    <tr>\n",
              "      <th>2</th>\n",
              "      <td>2096.0</td>\n",
              "      <td>3</td>\n",
              "      <td>49</td>\n",
              "      <td>nenhum</td>\n",
              "      <td>2020-01-02</td>\n",
              "      <td>3</td>\n",
              "      <td>2</td>\n",
              "      <td>2020</td>\n",
              "      <td>1</td>\n",
              "      <td>4</td>\n",
              "      <td>False</td>\n",
              "      <td>True</td>\n",
              "      <td>False</td>\n",
              "      <td>-0.415337</td>\n",
              "      <td>0.140505</td>\n",
              "      <td>0.687469</td>\n",
              "    </tr>\n",
              "    <tr>\n",
              "      <th>3</th>\n",
              "      <td>7882.0</td>\n",
              "      <td>4</td>\n",
              "      <td>45</td>\n",
              "      <td>nenhum</td>\n",
              "      <td>2019-01-02</td>\n",
              "      <td>3</td>\n",
              "      <td>3</td>\n",
              "      <td>2019</td>\n",
              "      <td>1</td>\n",
              "      <td>6</td>\n",
              "      <td>False</td>\n",
              "      <td>True</td>\n",
              "      <td>False</td>\n",
              "      <td>1.645526</td>\n",
              "      <td>1.046987</td>\n",
              "      <td>0.475956</td>\n",
              "    </tr>\n",
              "    <tr>\n",
              "      <th>4</th>\n",
              "      <td>4870.0</td>\n",
              "      <td>4</td>\n",
              "      <td>53</td>\n",
              "      <td>nenhum</td>\n",
              "      <td>2018-01-03</td>\n",
              "      <td>3</td>\n",
              "      <td>0</td>\n",
              "      <td>2018</td>\n",
              "      <td>1</td>\n",
              "      <td>6</td>\n",
              "      <td>False</td>\n",
              "      <td>True</td>\n",
              "      <td>False</td>\n",
              "      <td>0.572709</td>\n",
              "      <td>1.046987</td>\n",
              "      <td>0.898982</td>\n",
              "    </tr>\n",
              "  </tbody>\n",
              "</table>\n",
              "</div>"
            ],
            "text/plain": [
              "   SALDO_ATUAL  RESIDENCIADESDE  IDADE OUTROSPLANOSPGTO       DATA  \\\n",
              "0       1169.0                4     67           nenhum 2019-01-01   \n",
              "1       5951.0                2     22           nenhum 2020-01-01   \n",
              "2       2096.0                3     49           nenhum 2020-01-02   \n",
              "3       7882.0                4     45           nenhum 2019-01-02   \n",
              "4       4870.0                4     53           nenhum 2018-01-03   \n",
              "\n",
              "   ESTADOCIVIL  PROPOSITO   ANO  MES  DIASEMANA  OUTROS_banco  OUTROS_nenhum  \\\n",
              "0            3          7  2019    1          5         False           True   \n",
              "1            0          7  2020    1          6         False           True   \n",
              "2            3          2  2020    1          4         False           True   \n",
              "3            3          3  2019    1          6         False           True   \n",
              "4            3          0  2018    1          6         False           True   \n",
              "\n",
              "   OUTROS_stores  SALDO_ATUAL_N  RESIDENCEADESDE_N   IDADE_N  \n",
              "0          False      -0.745516           1.046987  1.639276  \n",
              "1          False       0.957740          -0.765977 -0.740241  \n",
              "2          False      -0.415337           0.140505  0.687469  \n",
              "3          False       1.645526           1.046987  0.475956  \n",
              "4          False       0.572709           1.046987  0.898982  "
            ]
          },
          "execution_count": 94,
          "metadata": {},
          "output_type": "execute_result"
        }
      ],
      "source": [
        "X.head()"
      ]
    },
    {
      "cell_type": "code",
      "execution_count": 95,
      "metadata": {
        "id": "PA9MxpQhiCQA"
      },
      "outputs": [
        {
          "data": {
            "text/html": [
              "<div>\n",
              "<style scoped>\n",
              "    .dataframe tbody tr th:only-of-type {\n",
              "        vertical-align: middle;\n",
              "    }\n",
              "\n",
              "    .dataframe tbody tr th {\n",
              "        vertical-align: top;\n",
              "    }\n",
              "\n",
              "    .dataframe thead th {\n",
              "        text-align: right;\n",
              "    }\n",
              "</style>\n",
              "<table border=\"1\" class=\"dataframe\">\n",
              "  <thead>\n",
              "    <tr style=\"text-align: right;\">\n",
              "      <th></th>\n",
              "      <th>ESTADOCIVIL</th>\n",
              "      <th>PROPOSITO</th>\n",
              "      <th>ANO</th>\n",
              "      <th>MES</th>\n",
              "      <th>DIASEMANA</th>\n",
              "      <th>OUTROS_nenhum</th>\n",
              "      <th>OUTROS_stores</th>\n",
              "      <th>SALDO_ATUAL_N</th>\n",
              "      <th>RESIDENCEADESDE_N</th>\n",
              "      <th>IDADE_N</th>\n",
              "    </tr>\n",
              "  </thead>\n",
              "  <tbody>\n",
              "    <tr>\n",
              "      <th>0</th>\n",
              "      <td>3</td>\n",
              "      <td>7</td>\n",
              "      <td>2019</td>\n",
              "      <td>1</td>\n",
              "      <td>5</td>\n",
              "      <td>True</td>\n",
              "      <td>False</td>\n",
              "      <td>-0.745516</td>\n",
              "      <td>1.046987</td>\n",
              "      <td>1.639276</td>\n",
              "    </tr>\n",
              "    <tr>\n",
              "      <th>1</th>\n",
              "      <td>0</td>\n",
              "      <td>7</td>\n",
              "      <td>2020</td>\n",
              "      <td>1</td>\n",
              "      <td>6</td>\n",
              "      <td>True</td>\n",
              "      <td>False</td>\n",
              "      <td>0.957740</td>\n",
              "      <td>-0.765977</td>\n",
              "      <td>-0.740241</td>\n",
              "    </tr>\n",
              "    <tr>\n",
              "      <th>2</th>\n",
              "      <td>3</td>\n",
              "      <td>2</td>\n",
              "      <td>2020</td>\n",
              "      <td>1</td>\n",
              "      <td>4</td>\n",
              "      <td>True</td>\n",
              "      <td>False</td>\n",
              "      <td>-0.415337</td>\n",
              "      <td>0.140505</td>\n",
              "      <td>0.687469</td>\n",
              "    </tr>\n",
              "    <tr>\n",
              "      <th>3</th>\n",
              "      <td>3</td>\n",
              "      <td>3</td>\n",
              "      <td>2019</td>\n",
              "      <td>1</td>\n",
              "      <td>6</td>\n",
              "      <td>True</td>\n",
              "      <td>False</td>\n",
              "      <td>1.645526</td>\n",
              "      <td>1.046987</td>\n",
              "      <td>0.475956</td>\n",
              "    </tr>\n",
              "    <tr>\n",
              "      <th>4</th>\n",
              "      <td>3</td>\n",
              "      <td>0</td>\n",
              "      <td>2018</td>\n",
              "      <td>1</td>\n",
              "      <td>6</td>\n",
              "      <td>True</td>\n",
              "      <td>False</td>\n",
              "      <td>0.572709</td>\n",
              "      <td>1.046987</td>\n",
              "      <td>0.898982</td>\n",
              "    </tr>\n",
              "    <tr>\n",
              "      <th>...</th>\n",
              "      <td>...</td>\n",
              "      <td>...</td>\n",
              "      <td>...</td>\n",
              "      <td>...</td>\n",
              "      <td>...</td>\n",
              "      <td>...</td>\n",
              "      <td>...</td>\n",
              "      <td>...</td>\n",
              "      <td>...</td>\n",
              "      <td>...</td>\n",
              "    </tr>\n",
              "    <tr>\n",
              "      <th>995</th>\n",
              "      <td>0</td>\n",
              "      <td>3</td>\n",
              "      <td>2018</td>\n",
              "      <td>6</td>\n",
              "      <td>0</td>\n",
              "      <td>True</td>\n",
              "      <td>False</td>\n",
              "      <td>-0.543562</td>\n",
              "      <td>1.046987</td>\n",
              "      <td>-0.264338</td>\n",
              "    </tr>\n",
              "    <tr>\n",
              "      <th>996</th>\n",
              "      <td>2</td>\n",
              "      <td>1</td>\n",
              "      <td>2018</td>\n",
              "      <td>6</td>\n",
              "      <td>2</td>\n",
              "      <td>True</td>\n",
              "      <td>False</td>\n",
              "      <td>0.211898</td>\n",
              "      <td>1.046987</td>\n",
              "      <td>0.211566</td>\n",
              "    </tr>\n",
              "    <tr>\n",
              "      <th>997</th>\n",
              "      <td>3</td>\n",
              "      <td>7</td>\n",
              "      <td>2018</td>\n",
              "      <td>7</td>\n",
              "      <td>5</td>\n",
              "      <td>True</td>\n",
              "      <td>False</td>\n",
              "      <td>-0.875522</td>\n",
              "      <td>1.046987</td>\n",
              "      <td>0.105809</td>\n",
              "    </tr>\n",
              "    <tr>\n",
              "      <th>998</th>\n",
              "      <td>3</td>\n",
              "      <td>7</td>\n",
              "      <td>2019</td>\n",
              "      <td>7</td>\n",
              "      <td>4</td>\n",
              "      <td>True</td>\n",
              "      <td>False</td>\n",
              "      <td>-0.504738</td>\n",
              "      <td>1.046987</td>\n",
              "      <td>-0.687363</td>\n",
              "    </tr>\n",
              "    <tr>\n",
              "      <th>999</th>\n",
              "      <td>3</td>\n",
              "      <td>1</td>\n",
              "      <td>2018</td>\n",
              "      <td>7</td>\n",
              "      <td>4</td>\n",
              "      <td>True</td>\n",
              "      <td>False</td>\n",
              "      <td>0.467992</td>\n",
              "      <td>1.046987</td>\n",
              "      <td>-0.475851</td>\n",
              "    </tr>\n",
              "  </tbody>\n",
              "</table>\n",
              "<p>1000 rows × 10 columns</p>\n",
              "</div>"
            ],
            "text/plain": [
              "     ESTADOCIVIL  PROPOSITO   ANO  MES  DIASEMANA  OUTROS_nenhum  \\\n",
              "0              3          7  2019    1          5           True   \n",
              "1              0          7  2020    1          6           True   \n",
              "2              3          2  2020    1          4           True   \n",
              "3              3          3  2019    1          6           True   \n",
              "4              3          0  2018    1          6           True   \n",
              "..           ...        ...   ...  ...        ...            ...   \n",
              "995            0          3  2018    6          0           True   \n",
              "996            2          1  2018    6          2           True   \n",
              "997            3          7  2018    7          5           True   \n",
              "998            3          7  2019    7          4           True   \n",
              "999            3          1  2018    7          4           True   \n",
              "\n",
              "     OUTROS_stores  SALDO_ATUAL_N  RESIDENCEADESDE_N   IDADE_N  \n",
              "0            False      -0.745516           1.046987  1.639276  \n",
              "1            False       0.957740          -0.765977 -0.740241  \n",
              "2            False      -0.415337           0.140505  0.687469  \n",
              "3            False       1.645526           1.046987  0.475956  \n",
              "4            False       0.572709           1.046987  0.898982  \n",
              "..             ...            ...                ...       ...  \n",
              "995          False      -0.543562           1.046987 -0.264338  \n",
              "996          False       0.211898           1.046987  0.211566  \n",
              "997          False      -0.875522           1.046987  0.105809  \n",
              "998          False      -0.504738           1.046987 -0.687363  \n",
              "999          False       0.467992           1.046987 -0.475851  \n",
              "\n",
              "[1000 rows x 10 columns]"
            ]
          },
          "execution_count": 95,
          "metadata": {},
          "output_type": "execute_result"
        }
      ],
      "source": [
        "X.drop(columns=['SALDO_ATUAL','RESIDENCIADESDE','IDADE','OUTROSPLANOSPGTO','DATA','OUTROS_banco'], inplace=True)\n",
        "X"
      ]
    },
    {
      "cell_type": "code",
      "execution_count": null,
      "metadata": {
        "id": "4NJg4fOxi3YI"
      },
      "outputs": [],
      "source": []
    }
  ],
  "metadata": {
    "colab": {
      "provenance": []
    },
    "kernelspec": {
      "display_name": ".venv",
      "language": "python",
      "name": "python3"
    },
    "language_info": {
      "codemirror_mode": {
        "name": "ipython",
        "version": 3
      },
      "file_extension": ".py",
      "mimetype": "text/x-python",
      "name": "python",
      "nbconvert_exporter": "python",
      "pygments_lexer": "ipython3",
      "version": "3.10.12"
    }
  },
  "nbformat": 4,
  "nbformat_minor": 0
}
