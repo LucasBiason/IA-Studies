{
 "cells": [
  {
   "cell_type": "code",
   "execution_count": 1,
   "metadata": {},
   "outputs": [],
   "source": [
    "from skmultilearn.adapt import MLARAM\n",
    "\n",
    "from skmultilearn.problem_transform import BinaryRelevance, ClassifierChain, LabelPowerset\n",
    "from sklearn.svm import SVC\n",
    "\n",
    "from sklearn.model_selection import train_test_split\n",
    "from sklearn.metrics import hamming_loss\n",
    "import pandas as pd"
   ]
  },
  {
   "cell_type": "code",
   "execution_count": 3,
   "metadata": {},
   "outputs": [
    {
     "data": {
      "text/html": [
       "<div>\n",
       "<style scoped>\n",
       "    .dataframe tbody tr th:only-of-type {\n",
       "        vertical-align: middle;\n",
       "    }\n",
       "\n",
       "    .dataframe tbody tr th {\n",
       "        vertical-align: top;\n",
       "    }\n",
       "\n",
       "    .dataframe thead th {\n",
       "        text-align: right;\n",
       "    }\n",
       "</style>\n",
       "<table border=\"1\" class=\"dataframe\">\n",
       "  <thead>\n",
       "    <tr style=\"text-align: right;\">\n",
       "      <th></th>\n",
       "      <th>amazed-suprised</th>\n",
       "      <th>happy-pleased</th>\n",
       "      <th>relaxing-clam</th>\n",
       "      <th>quiet-still</th>\n",
       "      <th>sad-lonely</th>\n",
       "      <th>angry-aggresive</th>\n",
       "      <th>Mean_Acc1298_Mean_Mem40_Centroid</th>\n",
       "      <th>Mean_Acc1298_Mean_Mem40_Rolloff</th>\n",
       "      <th>Mean_Acc1298_Mean_Mem40_Flux</th>\n",
       "      <th>Mean_Acc1298_Mean_Mem40_MFCC_0</th>\n",
       "      <th>...</th>\n",
       "      <th>Std_Acc1298_Std_Mem40_MFCC_10</th>\n",
       "      <th>Std_Acc1298_Std_Mem40_MFCC_11</th>\n",
       "      <th>Std_Acc1298_Std_Mem40_MFCC_12</th>\n",
       "      <th>BH_LowPeakAmp</th>\n",
       "      <th>BH_LowPeakBPM</th>\n",
       "      <th>BH_HighPeakAmp</th>\n",
       "      <th>BH_HighPeakBPM</th>\n",
       "      <th>BHSUM1</th>\n",
       "      <th>BHSUM2</th>\n",
       "      <th>BHSUM3</th>\n",
       "    </tr>\n",
       "  </thead>\n",
       "  <tbody>\n",
       "    <tr>\n",
       "      <th>0</th>\n",
       "      <td>0</td>\n",
       "      <td>1</td>\n",
       "      <td>1</td>\n",
       "      <td>0</td>\n",
       "      <td>0</td>\n",
       "      <td>0</td>\n",
       "      <td>0.132498</td>\n",
       "      <td>0.077848</td>\n",
       "      <td>0.229227</td>\n",
       "      <td>0.602629</td>\n",
       "      <td>...</td>\n",
       "      <td>0.197026</td>\n",
       "      <td>0.196244</td>\n",
       "      <td>0.164323</td>\n",
       "      <td>0.030017</td>\n",
       "      <td>0.253968</td>\n",
       "      <td>0.008473</td>\n",
       "      <td>0.240602</td>\n",
       "      <td>0.136735</td>\n",
       "      <td>0.058442</td>\n",
       "      <td>0.107594</td>\n",
       "    </tr>\n",
       "    <tr>\n",
       "      <th>1</th>\n",
       "      <td>1</td>\n",
       "      <td>0</td>\n",
       "      <td>0</td>\n",
       "      <td>0</td>\n",
       "      <td>0</td>\n",
       "      <td>1</td>\n",
       "      <td>0.384281</td>\n",
       "      <td>0.355249</td>\n",
       "      <td>0.167190</td>\n",
       "      <td>0.853089</td>\n",
       "      <td>...</td>\n",
       "      <td>0.093526</td>\n",
       "      <td>0.085649</td>\n",
       "      <td>0.025101</td>\n",
       "      <td>0.182955</td>\n",
       "      <td>0.285714</td>\n",
       "      <td>0.156764</td>\n",
       "      <td>0.270677</td>\n",
       "      <td>0.191377</td>\n",
       "      <td>0.153728</td>\n",
       "      <td>0.197951</td>\n",
       "    </tr>\n",
       "    <tr>\n",
       "      <th>2</th>\n",
       "      <td>0</td>\n",
       "      <td>1</td>\n",
       "      <td>0</td>\n",
       "      <td>0</td>\n",
       "      <td>0</td>\n",
       "      <td>1</td>\n",
       "      <td>0.541782</td>\n",
       "      <td>0.356491</td>\n",
       "      <td>0.152246</td>\n",
       "      <td>0.791142</td>\n",
       "      <td>...</td>\n",
       "      <td>0.198082</td>\n",
       "      <td>0.108067</td>\n",
       "      <td>0.140574</td>\n",
       "      <td>0.099303</td>\n",
       "      <td>0.142857</td>\n",
       "      <td>0.000000</td>\n",
       "      <td>0.593985</td>\n",
       "      <td>0.105114</td>\n",
       "      <td>0.025555</td>\n",
       "      <td>0.122965</td>\n",
       "    </tr>\n",
       "    <tr>\n",
       "      <th>3</th>\n",
       "      <td>0</td>\n",
       "      <td>0</td>\n",
       "      <td>1</td>\n",
       "      <td>0</td>\n",
       "      <td>0</td>\n",
       "      <td>0</td>\n",
       "      <td>0.174288</td>\n",
       "      <td>0.243935</td>\n",
       "      <td>0.254326</td>\n",
       "      <td>0.438987</td>\n",
       "      <td>...</td>\n",
       "      <td>0.235793</td>\n",
       "      <td>0.220195</td>\n",
       "      <td>0.235834</td>\n",
       "      <td>0.024988</td>\n",
       "      <td>0.222222</td>\n",
       "      <td>0.117169</td>\n",
       "      <td>0.210526</td>\n",
       "      <td>0.057288</td>\n",
       "      <td>0.134575</td>\n",
       "      <td>0.091509</td>\n",
       "    </tr>\n",
       "    <tr>\n",
       "      <th>4</th>\n",
       "      <td>0</td>\n",
       "      <td>0</td>\n",
       "      <td>0</td>\n",
       "      <td>1</td>\n",
       "      <td>0</td>\n",
       "      <td>0</td>\n",
       "      <td>0.347436</td>\n",
       "      <td>0.155448</td>\n",
       "      <td>0.100047</td>\n",
       "      <td>0.126026</td>\n",
       "      <td>...</td>\n",
       "      <td>0.715683</td>\n",
       "      <td>0.573359</td>\n",
       "      <td>0.412368</td>\n",
       "      <td>0.016398</td>\n",
       "      <td>0.761905</td>\n",
       "      <td>0.081703</td>\n",
       "      <td>0.721805</td>\n",
       "      <td>0.108737</td>\n",
       "      <td>0.172882</td>\n",
       "      <td>0.189934</td>\n",
       "    </tr>\n",
       "  </tbody>\n",
       "</table>\n",
       "<p>5 rows × 77 columns</p>\n",
       "</div>"
      ],
      "text/plain": [
       "   amazed-suprised  happy-pleased  relaxing-clam  quiet-still  sad-lonely  \\\n",
       "0                0              1              1            0           0   \n",
       "1                1              0              0            0           0   \n",
       "2                0              1              0            0           0   \n",
       "3                0              0              1            0           0   \n",
       "4                0              0              0            1           0   \n",
       "\n",
       "   angry-aggresive  Mean_Acc1298_Mean_Mem40_Centroid  \\\n",
       "0                0                          0.132498   \n",
       "1                1                          0.384281   \n",
       "2                1                          0.541782   \n",
       "3                0                          0.174288   \n",
       "4                0                          0.347436   \n",
       "\n",
       "   Mean_Acc1298_Mean_Mem40_Rolloff  Mean_Acc1298_Mean_Mem40_Flux  \\\n",
       "0                         0.077848                      0.229227   \n",
       "1                         0.355249                      0.167190   \n",
       "2                         0.356491                      0.152246   \n",
       "3                         0.243935                      0.254326   \n",
       "4                         0.155448                      0.100047   \n",
       "\n",
       "   Mean_Acc1298_Mean_Mem40_MFCC_0  ...  Std_Acc1298_Std_Mem40_MFCC_10  \\\n",
       "0                        0.602629  ...                       0.197026   \n",
       "1                        0.853089  ...                       0.093526   \n",
       "2                        0.791142  ...                       0.198082   \n",
       "3                        0.438987  ...                       0.235793   \n",
       "4                        0.126026  ...                       0.715683   \n",
       "\n",
       "   Std_Acc1298_Std_Mem40_MFCC_11  Std_Acc1298_Std_Mem40_MFCC_12  \\\n",
       "0                       0.196244                       0.164323   \n",
       "1                       0.085649                       0.025101   \n",
       "2                       0.108067                       0.140574   \n",
       "3                       0.220195                       0.235834   \n",
       "4                       0.573359                       0.412368   \n",
       "\n",
       "   BH_LowPeakAmp  BH_LowPeakBPM  BH_HighPeakAmp  BH_HighPeakBPM    BHSUM1  \\\n",
       "0       0.030017       0.253968        0.008473        0.240602  0.136735   \n",
       "1       0.182955       0.285714        0.156764        0.270677  0.191377   \n",
       "2       0.099303       0.142857        0.000000        0.593985  0.105114   \n",
       "3       0.024988       0.222222        0.117169        0.210526  0.057288   \n",
       "4       0.016398       0.761905        0.081703        0.721805  0.108737   \n",
       "\n",
       "     BHSUM2    BHSUM3  \n",
       "0  0.058442  0.107594  \n",
       "1  0.153728  0.197951  \n",
       "2  0.025555  0.122965  \n",
       "3  0.134575  0.091509  \n",
       "4  0.172882  0.189934  \n",
       "\n",
       "[5 rows x 77 columns]"
      ]
     },
     "execution_count": 3,
     "metadata": {},
     "output_type": "execute_result"
    }
   ],
   "source": [
    "musica = pd.read_csv(\"Musica.csv\")\n",
    "musica.head()"
   ]
  },
  {
   "cell_type": "code",
   "execution_count": 4,
   "metadata": {},
   "outputs": [
    {
     "data": {
      "text/plain": [
       "array([[0, 1, 1, 0, 0, 0],\n",
       "       [1, 0, 0, 0, 0, 1],\n",
       "       [0, 1, 0, 0, 0, 1],\n",
       "       ...,\n",
       "       [0, 0, 1, 1, 1, 0],\n",
       "       [0, 1, 1, 0, 0, 0],\n",
       "       [0, 1, 0, 0, 0, 0]])"
      ]
     },
     "execution_count": 4,
     "metadata": {},
     "output_type": "execute_result"
    }
   ],
   "source": [
    "classe = musica.iloc[:,0:6].values\n",
    "previsores = musica.iloc[:,7:78].values\n",
    "classe"
   ]
  },
  {
   "cell_type": "code",
   "execution_count": 6,
   "metadata": {},
   "outputs": [
    {
     "data": {
      "text/html": [
       "<style>#sk-container-id-1 {color: black;background-color: white;}#sk-container-id-1 pre{padding: 0;}#sk-container-id-1 div.sk-toggleable {background-color: white;}#sk-container-id-1 label.sk-toggleable__label {cursor: pointer;display: block;width: 100%;margin-bottom: 0;padding: 0.3em;box-sizing: border-box;text-align: center;}#sk-container-id-1 label.sk-toggleable__label-arrow:before {content: \"▸\";float: left;margin-right: 0.25em;color: #696969;}#sk-container-id-1 label.sk-toggleable__label-arrow:hover:before {color: black;}#sk-container-id-1 div.sk-estimator:hover label.sk-toggleable__label-arrow:before {color: black;}#sk-container-id-1 div.sk-toggleable__content {max-height: 0;max-width: 0;overflow: hidden;text-align: left;background-color: #f0f8ff;}#sk-container-id-1 div.sk-toggleable__content pre {margin: 0.2em;color: black;border-radius: 0.25em;background-color: #f0f8ff;}#sk-container-id-1 input.sk-toggleable__control:checked~div.sk-toggleable__content {max-height: 200px;max-width: 100%;overflow: auto;}#sk-container-id-1 input.sk-toggleable__control:checked~label.sk-toggleable__label-arrow:before {content: \"▾\";}#sk-container-id-1 div.sk-estimator input.sk-toggleable__control:checked~label.sk-toggleable__label {background-color: #d4ebff;}#sk-container-id-1 div.sk-label input.sk-toggleable__control:checked~label.sk-toggleable__label {background-color: #d4ebff;}#sk-container-id-1 input.sk-hidden--visually {border: 0;clip: rect(1px 1px 1px 1px);clip: rect(1px, 1px, 1px, 1px);height: 1px;margin: -1px;overflow: hidden;padding: 0;position: absolute;width: 1px;}#sk-container-id-1 div.sk-estimator {font-family: monospace;background-color: #f0f8ff;border: 1px dotted black;border-radius: 0.25em;box-sizing: border-box;margin-bottom: 0.5em;}#sk-container-id-1 div.sk-estimator:hover {background-color: #d4ebff;}#sk-container-id-1 div.sk-parallel-item::after {content: \"\";width: 100%;border-bottom: 1px solid gray;flex-grow: 1;}#sk-container-id-1 div.sk-label:hover label.sk-toggleable__label {background-color: #d4ebff;}#sk-container-id-1 div.sk-serial::before {content: \"\";position: absolute;border-left: 1px solid gray;box-sizing: border-box;top: 0;bottom: 0;left: 50%;z-index: 0;}#sk-container-id-1 div.sk-serial {display: flex;flex-direction: column;align-items: center;background-color: white;padding-right: 0.2em;padding-left: 0.2em;position: relative;}#sk-container-id-1 div.sk-item {position: relative;z-index: 1;}#sk-container-id-1 div.sk-parallel {display: flex;align-items: stretch;justify-content: center;background-color: white;position: relative;}#sk-container-id-1 div.sk-item::before, #sk-container-id-1 div.sk-parallel-item::before {content: \"\";position: absolute;border-left: 1px solid gray;box-sizing: border-box;top: 0;bottom: 0;left: 50%;z-index: -1;}#sk-container-id-1 div.sk-parallel-item {display: flex;flex-direction: column;z-index: 1;position: relative;background-color: white;}#sk-container-id-1 div.sk-parallel-item:first-child::after {align-self: flex-end;width: 50%;}#sk-container-id-1 div.sk-parallel-item:last-child::after {align-self: flex-start;width: 50%;}#sk-container-id-1 div.sk-parallel-item:only-child::after {width: 0;}#sk-container-id-1 div.sk-dashed-wrapped {border: 1px dashed gray;margin: 0 0.4em 0.5em 0.4em;box-sizing: border-box;padding-bottom: 0.4em;background-color: white;}#sk-container-id-1 div.sk-label label {font-family: monospace;font-weight: bold;display: inline-block;line-height: 1.2em;}#sk-container-id-1 div.sk-label-container {text-align: center;}#sk-container-id-1 div.sk-container {/* jupyter's `normalize.less` sets `[hidden] { display: none; }` but bootstrap.min.css set `[hidden] { display: none !important; }` so we also need the `!important` here to be able to override the default hidden behavior on the sphinx rendered scikit-learn.org. See: https://github.com/scikit-learn/scikit-learn/issues/21755 */display: inline-block !important;position: relative;}#sk-container-id-1 div.sk-text-repr-fallback {display: none;}</style><div id=\"sk-container-id-1\" class=\"sk-top-container\"><div class=\"sk-text-repr-fallback\"><pre>MLARAM(neurons=[&lt;skmultilearn.adapt.mlaram.Neuron object at 0x7aad08b0c2e0&gt;,\n",
       "                &lt;skmultilearn.adapt.mlaram.Neuron object at 0x7aad06143220&gt;,\n",
       "                &lt;skmultilearn.adapt.mlaram.Neuron object at 0x7aad06143880&gt;,\n",
       "                &lt;skmultilearn.adapt.mlaram.Neuron object at 0x7aad08b47610&gt;,\n",
       "                &lt;skmultilearn.adapt.mlaram.Neuron object at 0x7aad74364b20&gt;,\n",
       "                &lt;skmultilearn.adapt.mlaram.Neuron object at 0x7aad74...\n",
       "                &lt;skmultilearn.adapt.mlaram.Neuron object at 0x7aad061e0340&gt;,\n",
       "                &lt;skmultilearn.adapt.mlaram.Neuron object at 0x7aad061e06a0&gt;,\n",
       "                &lt;skmultilearn.adapt.mlaram.Neuron object at 0x7aad061e0d90&gt;,\n",
       "                &lt;skmultilearn.adapt.mlaram.Neuron object at 0x7aad061e0b50&gt;,\n",
       "                &lt;skmultilearn.adapt.mlaram.Neuron object at 0x7aad061e0dc0&gt;,\n",
       "                &lt;skmultilearn.adapt.mlaram.Neuron object at 0x7aad061e0be0&gt;,\n",
       "                &lt;skmultilearn.adapt.mlaram.Neuron object at 0x7aad061e0ee0&gt;, ...])</pre><b>In a Jupyter environment, please rerun this cell to show the HTML representation or trust the notebook. <br />On GitHub, the HTML representation is unable to render, please try loading this page with nbviewer.org.</b></div><div class=\"sk-container\" hidden><div class=\"sk-item\"><div class=\"sk-estimator sk-toggleable\"><input class=\"sk-toggleable__control sk-hidden--visually\" id=\"sk-estimator-id-1\" type=\"checkbox\" checked><label for=\"sk-estimator-id-1\" class=\"sk-toggleable__label sk-toggleable__label-arrow\">MLARAM</label><div class=\"sk-toggleable__content\"><pre>MLARAM(neurons=[&lt;skmultilearn.adapt.mlaram.Neuron object at 0x7aad08b0c2e0&gt;,\n",
       "                &lt;skmultilearn.adapt.mlaram.Neuron object at 0x7aad06143220&gt;,\n",
       "                &lt;skmultilearn.adapt.mlaram.Neuron object at 0x7aad06143880&gt;,\n",
       "                &lt;skmultilearn.adapt.mlaram.Neuron object at 0x7aad08b47610&gt;,\n",
       "                &lt;skmultilearn.adapt.mlaram.Neuron object at 0x7aad74364b20&gt;,\n",
       "                &lt;skmultilearn.adapt.mlaram.Neuron object at 0x7aad74...\n",
       "                &lt;skmultilearn.adapt.mlaram.Neuron object at 0x7aad061e0340&gt;,\n",
       "                &lt;skmultilearn.adapt.mlaram.Neuron object at 0x7aad061e06a0&gt;,\n",
       "                &lt;skmultilearn.adapt.mlaram.Neuron object at 0x7aad061e0d90&gt;,\n",
       "                &lt;skmultilearn.adapt.mlaram.Neuron object at 0x7aad061e0b50&gt;,\n",
       "                &lt;skmultilearn.adapt.mlaram.Neuron object at 0x7aad061e0dc0&gt;,\n",
       "                &lt;skmultilearn.adapt.mlaram.Neuron object at 0x7aad061e0be0&gt;,\n",
       "                &lt;skmultilearn.adapt.mlaram.Neuron object at 0x7aad061e0ee0&gt;, ...])</pre></div></div></div></div></div>"
      ],
      "text/plain": [
       "MLARAM(neurons=[<skmultilearn.adapt.mlaram.Neuron object at 0x7aad08b0c2e0>,\n",
       "                <skmultilearn.adapt.mlaram.Neuron object at 0x7aad06143220>,\n",
       "                <skmultilearn.adapt.mlaram.Neuron object at 0x7aad06143880>,\n",
       "                <skmultilearn.adapt.mlaram.Neuron object at 0x7aad08b47610>,\n",
       "                <skmultilearn.adapt.mlaram.Neuron object at 0x7aad74364b20>,\n",
       "                <skmultilearn.adapt.mlaram.Neuron object at 0x7aad74...\n",
       "                <skmultilearn.adapt.mlaram.Neuron object at 0x7aad061e0340>,\n",
       "                <skmultilearn.adapt.mlaram.Neuron object at 0x7aad061e06a0>,\n",
       "                <skmultilearn.adapt.mlaram.Neuron object at 0x7aad061e0d90>,\n",
       "                <skmultilearn.adapt.mlaram.Neuron object at 0x7aad061e0b50>,\n",
       "                <skmultilearn.adapt.mlaram.Neuron object at 0x7aad061e0dc0>,\n",
       "                <skmultilearn.adapt.mlaram.Neuron object at 0x7aad061e0be0>,\n",
       "                <skmultilearn.adapt.mlaram.Neuron object at 0x7aad061e0ee0>, ...])"
      ]
     },
     "execution_count": 6,
     "metadata": {},
     "output_type": "execute_result"
    }
   ],
   "source": [
    "X_treinamento, X_teste, y_treinamento, y_teste = train_test_split(previsores, classe, test_size=0.3, random_state=0)\n",
    "ann = MLARAM()\n",
    "ann.fit(X_treinamento, y_treinamento)"
   ]
  },
  {
   "cell_type": "code",
   "execution_count": null,
   "metadata": {},
   "outputs": [
    {
     "name": "stdout",
     "output_type": "stream",
     "text": [
      "0.24906367041198502\n"
     ]
    }
   ],
   "source": [
    "previsto = ann.predict(X_teste)\n",
    "print(hamming_loss(y_teste,previsto))  # Quanto mais proximo de zero, melhor, mais proximo de 1 pior. - eh uma metrica de perda"
   ]
  },
  {
   "cell_type": "code",
   "execution_count": 8,
   "metadata": {},
   "outputs": [
    {
     "name": "stdout",
     "output_type": "stream",
     "text": [
      "0.199438202247191\n"
     ]
    }
   ],
   "source": [
    "binary = BinaryRelevance(classifier=SVC())\n",
    "binary.fit(X_treinamento, y_treinamento)\n",
    "previsao = binary.predict(X_teste)\n",
    "print(hamming_loss(y_teste,previsao))"
   ]
  },
  {
   "cell_type": "code",
   "execution_count": 9,
   "metadata": {},
   "outputs": [
    {
     "name": "stdout",
     "output_type": "stream",
     "text": [
      "0.2340823970037453\n"
     ]
    }
   ],
   "source": [
    "chain = ClassifierChain(classifier=SVC())\n",
    "chain.fit(X_treinamento, y_treinamento)\n",
    "previsoes = chain.predict(X_teste)\n",
    "print(hamming_loss(y_teste,previsoes))"
   ]
  },
  {
   "cell_type": "code",
   "execution_count": 10,
   "metadata": {},
   "outputs": [
    {
     "name": "stdout",
     "output_type": "stream",
     "text": [
      "0.2209737827715356\n"
     ]
    }
   ],
   "source": [
    "label = LabelPowerset(classifier = SVC())\n",
    "label.fit(X_treinamento, y_treinamento)\n",
    "previsoes = label.predict(X_teste)\n",
    "print(hamming_loss(y_teste, previsoes))"
   ]
  }
 ],
 "metadata": {
  "kernelspec": {
   "display_name": ".venv",
   "language": "python",
   "name": "python3"
  },
  "language_info": {
   "codemirror_mode": {
    "name": "ipython",
    "version": 3
   },
   "file_extension": ".py",
   "mimetype": "text/x-python",
   "name": "python",
   "nbconvert_exporter": "python",
   "pygments_lexer": "ipython3",
   "version": "3.10.12"
  }
 },
 "nbformat": 4,
 "nbformat_minor": 2
}
