{
 "cells": [
  {
   "cell_type": "code",
   "execution_count": 1,
   "metadata": {
    "executionInfo": {
     "elapsed": 592,
     "status": "ok",
     "timestamp": 1733850276465,
     "user": {
      "displayName": "Lucas “The Crazy Fox” Biason",
      "userId": "04427321186985543553"
     },
     "user_tz": 180
    },
    "id": "EAuQB_tuNvJZ"
   },
   "outputs": [],
   "source": [
    "from numpy import *\n",
    "\n",
    "class LinearRegression:\n",
    "    def __init__(self, x, y):\n",
    "        self.x = x\n",
    "        self.y = y\n",
    "        self.__correlation_coefficient = self.__correlacao()\n",
    "        self.__inclination = self.__inclinacao()\n",
    "        self.__intercept = self.__interceptacao()\n",
    "\n",
    "    def __correlacao(self):\n",
    "        covariacao = cov(self.x, self.y, bias=True)[0][1]\n",
    "        # cov gera uma matriz e pegamos a covariação nesse ponto\n",
    "        variancia_x = var(self.x)\n",
    "        variancia_y = var(self.y)\n",
    "        return covariacao / sqrt(variancia_x * variancia_y)\n",
    "\n",
    "    def __inclinacao(self):\n",
    "        stdx = std(self.x)\n",
    "        stdy = std(self.y)\n",
    "        return self.__correlation_coefficient * (stdy/stdx)\n",
    "\n",
    "    def __interceptacao(self):\n",
    "        mediax = mean(self.x)\n",
    "        mediay = mean(self.y)\n",
    "        return mediay - mediax * self.__inclination\n",
    "\n",
    "    def previsao(self, valor):\n",
    "        return self.__intercept + (self.__inclination * valor)\n",
    "\n"
   ]
  },
  {
   "cell_type": "code",
   "execution_count": 2,
   "metadata": {
    "colab": {
     "base_uri": "https://localhost:8080/"
    },
    "executionInfo": {
     "elapsed": 508,
     "status": "ok",
     "timestamp": 1733850415126,
     "user": {
      "displayName": "Lucas “The Crazy Fox” Biason",
      "userId": "04427321186985543553"
     },
     "user_tz": 180
    },
    "id": "54ugDgxXfkOt",
    "outputId": "a7e51382-a681-4822-eff7-512231b078a2"
   },
   "outputs": [
    {
     "name": "stdout",
     "output_type": "stream",
     "text": [
      "12.0\n"
     ]
    }
   ],
   "source": [
    "x = array([1,2,3,4,5])\n",
    "y = array([2,4,6,8,10])\n",
    "\n",
    "lr = LinearRegression(x,y)\n",
    "previsao = lr.previsao(6)\n",
    "print(previsao)"
   ]
  }
 ],
 "metadata": {
  "colab": {
   "authorship_tag": "ABX9TyN8U/jSgkhSuOy92CunXRZ3",
   "provenance": [],
   "toc_visible": true
  },
  "kernelspec": {
   "display_name": ".venv",
   "language": "python",
   "name": "python3"
  },
  "language_info": {
   "codemirror_mode": {
    "name": "ipython",
    "version": 3
   },
   "file_extension": ".py",
   "mimetype": "text/x-python",
   "name": "python",
   "nbconvert_exporter": "python",
   "pygments_lexer": "ipython3",
   "version": "3.10.12"
  }
 },
 "nbformat": 4,
 "nbformat_minor": 0
}
