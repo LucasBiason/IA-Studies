{
 "cells": [
  {
   "cell_type": "code",
   "execution_count": 4,
   "metadata": {},
   "outputs": [],
   "source": [
    "import pandas as pd\n",
    "import numpy as np\n",
    "from sklearn.preprocessing import LabelEncoder\n",
    "from imblearn.over_sampling import SMOTENC # pip3 install imblearn --ignore-installed scikit-learn"
   ]
  },
  {
   "cell_type": "code",
   "execution_count": 3,
   "metadata": {},
   "outputs": [
    {
     "data": {
      "text/html": [
       "<div>\n",
       "<style scoped>\n",
       "    .dataframe tbody tr th:only-of-type {\n",
       "        vertical-align: middle;\n",
       "    }\n",
       "\n",
       "    .dataframe tbody tr th {\n",
       "        vertical-align: top;\n",
       "    }\n",
       "\n",
       "    .dataframe thead th {\n",
       "        text-align: right;\n",
       "    }\n",
       "</style>\n",
       "<table border=\"1\" class=\"dataframe\">\n",
       "  <thead>\n",
       "    <tr style=\"text-align: right;\">\n",
       "      <th></th>\n",
       "      <th>SALDO_ATUAL</th>\n",
       "      <th>RESIDENCIADESDE</th>\n",
       "      <th>IDADE</th>\n",
       "      <th>OUTROSPLANOSPGTO</th>\n",
       "      <th>DATA</th>\n",
       "      <th>ESTADOCIVIL</th>\n",
       "      <th>PROPOSITO</th>\n",
       "      <th>CLASSE</th>\n",
       "    </tr>\n",
       "  </thead>\n",
       "  <tbody>\n",
       "    <tr>\n",
       "      <th>0</th>\n",
       "      <td>1169.0</td>\n",
       "      <td>4</td>\n",
       "      <td>67</td>\n",
       "      <td>nenhum</td>\n",
       "      <td>01/01/2019</td>\n",
       "      <td>masculino solteiro</td>\n",
       "      <td>radio/tv</td>\n",
       "      <td>bom</td>\n",
       "    </tr>\n",
       "    <tr>\n",
       "      <th>1</th>\n",
       "      <td>5951.0</td>\n",
       "      <td>2</td>\n",
       "      <td>22</td>\n",
       "      <td>nenhum</td>\n",
       "      <td>01/01/2020</td>\n",
       "      <td>fem div/cas</td>\n",
       "      <td>radio/tv</td>\n",
       "      <td>ruim</td>\n",
       "    </tr>\n",
       "    <tr>\n",
       "      <th>2</th>\n",
       "      <td>2096.0</td>\n",
       "      <td>3</td>\n",
       "      <td>49</td>\n",
       "      <td>nenhum</td>\n",
       "      <td>02/01/2020</td>\n",
       "      <td>masculino solteiro</td>\n",
       "      <td>educação</td>\n",
       "      <td>bom</td>\n",
       "    </tr>\n",
       "    <tr>\n",
       "      <th>3</th>\n",
       "      <td>7882.0</td>\n",
       "      <td>4</td>\n",
       "      <td>45</td>\n",
       "      <td>nenhum</td>\n",
       "      <td>02/01/2019</td>\n",
       "      <td>masculino solteiro</td>\n",
       "      <td>mobilia/equipamento</td>\n",
       "      <td>bom</td>\n",
       "    </tr>\n",
       "    <tr>\n",
       "      <th>4</th>\n",
       "      <td>4870.0</td>\n",
       "      <td>4</td>\n",
       "      <td>53</td>\n",
       "      <td>nenhum</td>\n",
       "      <td>03/01/2018</td>\n",
       "      <td>masculino solteiro</td>\n",
       "      <td>carro novo</td>\n",
       "      <td>ruim</td>\n",
       "    </tr>\n",
       "  </tbody>\n",
       "</table>\n",
       "</div>"
      ],
      "text/plain": [
       "   SALDO_ATUAL  RESIDENCIADESDE  IDADE OUTROSPLANOSPGTO        DATA  \\\n",
       "0       1169.0                4     67           nenhum  01/01/2019   \n",
       "1       5951.0                2     22           nenhum  01/01/2020   \n",
       "2       2096.0                3     49           nenhum  02/01/2020   \n",
       "3       7882.0                4     45           nenhum  02/01/2019   \n",
       "4       4870.0                4     53           nenhum  03/01/2018   \n",
       "\n",
       "          ESTADOCIVIL            PROPOSITO CLASSE  \n",
       "0  masculino solteiro             radio/tv    bom  \n",
       "1         fem div/cas             radio/tv   ruim  \n",
       "2  masculino solteiro             educação    bom  \n",
       "3  masculino solteiro  mobilia/equipamento    bom  \n",
       "4  masculino solteiro           carro novo   ruim  "
      ]
     },
     "execution_count": 3,
     "metadata": {},
     "output_type": "execute_result"
    }
   ],
   "source": [
    "credito = pd.read_csv(\"credit_simple.csv\", sep=';')\n",
    "credito.head()"
   ]
  },
  {
   "cell_type": "code",
   "execution_count": 5,
   "metadata": {},
   "outputs": [
    {
     "data": {
      "text/plain": [
       "CLASSE\n",
       "bom     700\n",
       "ruim    300\n",
       "dtype: int64"
      ]
     },
     "execution_count": 5,
     "metadata": {},
     "output_type": "execute_result"
    }
   ],
   "source": [
    "count = credito.groupby(['CLASSE']).size()\n",
    "count"
   ]
  },
  {
   "cell_type": "code",
   "execution_count": 6,
   "metadata": {},
   "outputs": [],
   "source": [
    "y = credito['CLASSE'].values\n",
    "X = credito.iloc[:,:-1].values"
   ]
  },
  {
   "cell_type": "code",
   "execution_count": null,
   "metadata": {},
   "outputs": [],
   "source": [
    "labelencoder = LabelEncoder()\n",
    "for i in range(X.shape[1]):\n",
    "  if X[:,i].dtype == 'object': # Se a coluna for categorica, transforma em numerica\n",
    "    X[:,i] = labelencoder.fit_transform(X[:,i])"
   ]
  },
  {
   "cell_type": "code",
   "execution_count": 8,
   "metadata": {},
   "outputs": [
    {
     "data": {
      "text/plain": [
       "array([[140.0, 3.0, 49.0, ..., 0.0, 3, 9],\n",
       "       [765.0, 1.0, 4.0, ..., 1.0, 0, 9],\n",
       "       [388.0, 2.0, 31.0, ..., 13.0, 3, 3],\n",
       "       ...,\n",
       "       [80.39981214000933, 1.7996242800186615, 4.200375719981339, ...,\n",
       "        34.99248560037323, 0, 1],\n",
       "       [897.9858495639895, 3.0, 26.042451308031378, ...,\n",
       "        140.35691739335076, 0, 2],\n",
       "       [462.1024631463796, 1.9658456178734771, 5.6894362547510156, ...,\n",
       "        297.2700607509019, 0, 4]], dtype=object)"
      ]
     },
     "execution_count": 8,
     "metadata": {},
     "output_type": "execute_result"
    }
   ],
   "source": [
    "sm = SMOTENC(random_state=0, categorical_features=[3,5,6])\n",
    "X_res, y_res = sm.fit_resample(X,y)\n",
    "X_res"
   ]
  },
  {
   "cell_type": "code",
   "execution_count": 9,
   "metadata": {},
   "outputs": [
    {
     "data": {
      "text/plain": [
       "CLASSE\n",
       "bom       700\n",
       "ruim      700\n",
       "Name: count, dtype: int64"
      ]
     },
     "execution_count": 9,
     "metadata": {},
     "output_type": "execute_result"
    }
   ],
   "source": [
    "df = pd.DataFrame({'CLASSE': y_res})\n",
    "df.value_counts()"
   ]
  }
 ],
 "metadata": {
  "kernelspec": {
   "display_name": "usr",
   "language": "python",
   "name": "python3"
  },
  "language_info": {
   "codemirror_mode": {
    "name": "ipython",
    "version": 3
   },
   "file_extension": ".py",
   "mimetype": "text/x-python",
   "name": "python",
   "nbconvert_exporter": "python",
   "pygments_lexer": "ipython3",
   "version": "3.10.12"
  }
 },
 "nbformat": 4,
 "nbformat_minor": 2
}
