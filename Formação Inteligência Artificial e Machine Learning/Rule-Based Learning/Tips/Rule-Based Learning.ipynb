{
 "cells": [
  {
   "cell_type": "markdown",
   "metadata": {},
   "source": [
    "#  Rule-Based Classification \n",
    "\n",
    "Rule-Based Classification is a method of categorizing data using predefined logical rules and conditions. This approach stands as one of the most fundamental and comprehensible classification methods in the machine learning world.\n",
    "\n",
    "The greatest advantage of this method lies in its transparency and understandability. Even individuals without data science expertise can easily comprehend and modify the rules. However, when dealing with complex problems, the method might require numerous rules, which can make management more challenging. \n",
    "\n",
    "### The Business Problem \n",
    "\n",
    "* Create new sales definitions: Develop (level-based) sales definitions and create new segments based on these definitions.\n",
    "* Segment Analysis: Establish new customer segments and analyze them to predict potential revenue.\n",
    "* Revenue Prediction: Determine how much a company can earn on average from prospective customers.\n",
    "\n",
    "For example, if a customer plans to visit an All-Inclusive hotel in Antalya during a busy season, the goal is to predict the average revenue the company can generate from such a customer. \n",
    "\n",
    "### The Data Set Story \n",
    "\n",
    "The dataset provides information about sales transactions made by the Gezinomi company. It contains records of sales prices and various details about each transaction. This data can be used to analyze and predict revenue, customer behavior, and seasonal trends. \n",
    "\n",
    " Key Features in the Dataset:\n",
    "\n",
    "* SaleId: Unique identifier for each sales transaction.\n",
    "* SaleDate: The date when the sale was made.\n",
    "* Price: The amount paid for the sale.\n",
    "* ConceptName: Information about the hotel concept.\n",
    "* SaleCityName: The city where the hotel is located.\n",
    "* CheckInDate: The date when the customer checked into the hotel.\n",
    "* CInDay: The day of the week of the customer's check-in.\n",
    "* SaleCheckInDayDiff: The number of days between the sale date and the check-in date.\n",
    "* Season: The season of the check-in date.\n"
   ]
  },
  {
   "cell_type": "code",
   "execution_count": 14,
   "metadata": {},
   "outputs": [],
   "source": [
    "import pandas as pd\n",
    "import numpy as np\n",
    "import seaborn as sns\n",
    "import matplotlib.pyplot as plt\n",
    "import plotly.express as px\n",
    "import warnings\n",
    "warnings.simplefilter(action=\"ignore\")"
   ]
  },
  {
   "cell_type": "code",
   "execution_count": 15,
   "metadata": {},
   "outputs": [
    {
     "data": {
      "text/html": [
       "<div>\n",
       "<style scoped>\n",
       "    .dataframe tbody tr th:only-of-type {\n",
       "        vertical-align: middle;\n",
       "    }\n",
       "\n",
       "    .dataframe tbody tr th {\n",
       "        vertical-align: top;\n",
       "    }\n",
       "\n",
       "    .dataframe thead th {\n",
       "        text-align: right;\n",
       "    }\n",
       "</style>\n",
       "<table border=\"1\" class=\"dataframe\">\n",
       "  <thead>\n",
       "    <tr style=\"text-align: right;\">\n",
       "      <th></th>\n",
       "      <th>SaleId</th>\n",
       "      <th>SaleDate</th>\n",
       "      <th>CheckInDate</th>\n",
       "      <th>Price</th>\n",
       "      <th>ConceptName</th>\n",
       "      <th>SaleCityName</th>\n",
       "      <th>CInDay</th>\n",
       "      <th>SaleCheckInDayDiff</th>\n",
       "      <th>Seasons</th>\n",
       "    </tr>\n",
       "  </thead>\n",
       "  <tbody>\n",
       "    <tr>\n",
       "      <th>0</th>\n",
       "      <td>415122</td>\n",
       "      <td>2022-12-03</td>\n",
       "      <td>2022-12-03</td>\n",
       "      <td>79.30</td>\n",
       "      <td>Herşey Dahil</td>\n",
       "      <td>Antalya</td>\n",
       "      <td>Saturday</td>\n",
       "      <td>0</td>\n",
       "      <td>Low</td>\n",
       "    </tr>\n",
       "    <tr>\n",
       "      <th>1</th>\n",
       "      <td>415103</td>\n",
       "      <td>2022-12-03</td>\n",
       "      <td>2022-12-03</td>\n",
       "      <td>45.97</td>\n",
       "      <td>Yarım Pansiyon</td>\n",
       "      <td>Antalya</td>\n",
       "      <td>Saturday</td>\n",
       "      <td>0</td>\n",
       "      <td>Low</td>\n",
       "    </tr>\n",
       "    <tr>\n",
       "      <th>2</th>\n",
       "      <td>404034</td>\n",
       "      <td>2022-09-12</td>\n",
       "      <td>2022-09-13</td>\n",
       "      <td>77.84</td>\n",
       "      <td>Herşey Dahil</td>\n",
       "      <td>Antalya</td>\n",
       "      <td>Tuesday</td>\n",
       "      <td>1</td>\n",
       "      <td>High</td>\n",
       "    </tr>\n",
       "    <tr>\n",
       "      <th>3</th>\n",
       "      <td>415094</td>\n",
       "      <td>2022-12-03</td>\n",
       "      <td>2022-12-10</td>\n",
       "      <td>222.71</td>\n",
       "      <td>Yarım Pansiyon</td>\n",
       "      <td>İzmir</td>\n",
       "      <td>Saturday</td>\n",
       "      <td>7</td>\n",
       "      <td>Low</td>\n",
       "    </tr>\n",
       "    <tr>\n",
       "      <th>4</th>\n",
       "      <td>414951</td>\n",
       "      <td>2022-12-01</td>\n",
       "      <td>2022-12-03</td>\n",
       "      <td>140.48</td>\n",
       "      <td>Yarım Pansiyon</td>\n",
       "      <td>İzmir</td>\n",
       "      <td>Saturday</td>\n",
       "      <td>2</td>\n",
       "      <td>Low</td>\n",
       "    </tr>\n",
       "  </tbody>\n",
       "</table>\n",
       "</div>"
      ],
      "text/plain": [
       "   SaleId   SaleDate CheckInDate  Price     ConceptName SaleCityName  \\\n",
       "0  415122 2022-12-03  2022-12-03  79.30    Herşey Dahil      Antalya   \n",
       "1  415103 2022-12-03  2022-12-03  45.97  Yarım Pansiyon      Antalya   \n",
       "2  404034 2022-09-12  2022-09-13  77.84    Herşey Dahil      Antalya   \n",
       "3  415094 2022-12-03  2022-12-10 222.71  Yarım Pansiyon        İzmir   \n",
       "4  414951 2022-12-01  2022-12-03 140.48  Yarım Pansiyon        İzmir   \n",
       "\n",
       "     CInDay  SaleCheckInDayDiff Seasons  \n",
       "0  Saturday                   0     Low  \n",
       "1  Saturday                   0     Low  \n",
       "2   Tuesday                   1    High  \n",
       "3  Saturday                   7     Low  \n",
       "4  Saturday                   2     Low  "
      ]
     },
     "execution_count": 15,
     "metadata": {},
     "output_type": "execute_result"
    }
   ],
   "source": [
    "# Adjusting Row Column Settings\n",
    "pd.set_option(\"display.max_rows\", None)\n",
    "pd.set_option(\"display.max_columns\", None)\n",
    "pd.set_option(\"display.float_format\", lambda x: '%.2f' % x)\n",
    "\n",
    "# Loading the Data Set\n",
    "df = pd.read_excel(\"input/gezinomi.xlsx\")\n",
    "df.head()\n"
   ]
  },
  {
   "cell_type": "code",
   "execution_count": 16,
   "metadata": {},
   "outputs": [
    {
     "data": {
      "text/html": [
       "<div>\n",
       "<style scoped>\n",
       "    .dataframe tbody tr th:only-of-type {\n",
       "        vertical-align: middle;\n",
       "    }\n",
       "\n",
       "    .dataframe tbody tr th {\n",
       "        vertical-align: top;\n",
       "    }\n",
       "\n",
       "    .dataframe thead th {\n",
       "        text-align: right;\n",
       "    }\n",
       "</style>\n",
       "<table border=\"1\" class=\"dataframe\">\n",
       "  <thead>\n",
       "    <tr style=\"text-align: right;\">\n",
       "      <th></th>\n",
       "      <th>SaleDate</th>\n",
       "      <th>CheckInDate</th>\n",
       "      <th>Price</th>\n",
       "      <th>ConceptName</th>\n",
       "      <th>SaleCityName</th>\n",
       "      <th>CInDay</th>\n",
       "      <th>SaleCheckInDayDiff</th>\n",
       "      <th>Seasons</th>\n",
       "    </tr>\n",
       "  </thead>\n",
       "  <tbody>\n",
       "    <tr>\n",
       "      <th>0</th>\n",
       "      <td>2022-12-03</td>\n",
       "      <td>2022-12-03</td>\n",
       "      <td>79.30</td>\n",
       "      <td>Herşey Dahil</td>\n",
       "      <td>Antalya</td>\n",
       "      <td>Saturday</td>\n",
       "      <td>0</td>\n",
       "      <td>Low</td>\n",
       "    </tr>\n",
       "    <tr>\n",
       "      <th>1</th>\n",
       "      <td>2022-12-03</td>\n",
       "      <td>2022-12-03</td>\n",
       "      <td>45.97</td>\n",
       "      <td>Yarım Pansiyon</td>\n",
       "      <td>Antalya</td>\n",
       "      <td>Saturday</td>\n",
       "      <td>0</td>\n",
       "      <td>Low</td>\n",
       "    </tr>\n",
       "    <tr>\n",
       "      <th>2</th>\n",
       "      <td>2022-09-12</td>\n",
       "      <td>2022-09-13</td>\n",
       "      <td>77.84</td>\n",
       "      <td>Herşey Dahil</td>\n",
       "      <td>Antalya</td>\n",
       "      <td>Tuesday</td>\n",
       "      <td>1</td>\n",
       "      <td>High</td>\n",
       "    </tr>\n",
       "    <tr>\n",
       "      <th>3</th>\n",
       "      <td>2022-12-03</td>\n",
       "      <td>2022-12-10</td>\n",
       "      <td>222.71</td>\n",
       "      <td>Yarım Pansiyon</td>\n",
       "      <td>İzmir</td>\n",
       "      <td>Saturday</td>\n",
       "      <td>7</td>\n",
       "      <td>Low</td>\n",
       "    </tr>\n",
       "    <tr>\n",
       "      <th>4</th>\n",
       "      <td>2022-12-01</td>\n",
       "      <td>2022-12-03</td>\n",
       "      <td>140.48</td>\n",
       "      <td>Yarım Pansiyon</td>\n",
       "      <td>İzmir</td>\n",
       "      <td>Saturday</td>\n",
       "      <td>2</td>\n",
       "      <td>Low</td>\n",
       "    </tr>\n",
       "  </tbody>\n",
       "</table>\n",
       "</div>"
      ],
      "text/plain": [
       "    SaleDate CheckInDate  Price     ConceptName SaleCityName    CInDay  \\\n",
       "0 2022-12-03  2022-12-03  79.30    Herşey Dahil      Antalya  Saturday   \n",
       "1 2022-12-03  2022-12-03  45.97  Yarım Pansiyon      Antalya  Saturday   \n",
       "2 2022-09-12  2022-09-13  77.84    Herşey Dahil      Antalya   Tuesday   \n",
       "3 2022-12-03  2022-12-10 222.71  Yarım Pansiyon        İzmir  Saturday   \n",
       "4 2022-12-01  2022-12-03 140.48  Yarım Pansiyon        İzmir  Saturday   \n",
       "\n",
       "   SaleCheckInDayDiff Seasons  \n",
       "0                   0     Low  \n",
       "1                   0     Low  \n",
       "2                   1    High  \n",
       "3                   7     Low  \n",
       "4                   2     Low  "
      ]
     },
     "execution_count": 16,
     "metadata": {},
     "output_type": "execute_result"
    }
   ],
   "source": [
    "df = df.drop(\"SaleId\", axis=1)\n",
    "df.head()"
   ]
  },
  {
   "cell_type": "code",
   "execution_count": 17,
   "metadata": {},
   "outputs": [
    {
     "data": {
      "text/html": [
       "<div>\n",
       "<style scoped>\n",
       "    .dataframe tbody tr th:only-of-type {\n",
       "        vertical-align: middle;\n",
       "    }\n",
       "\n",
       "    .dataframe tbody tr th {\n",
       "        vertical-align: top;\n",
       "    }\n",
       "\n",
       "    .dataframe thead th {\n",
       "        text-align: right;\n",
       "    }\n",
       "</style>\n",
       "<table border=\"1\" class=\"dataframe\">\n",
       "  <thead>\n",
       "    <tr style=\"text-align: right;\">\n",
       "      <th></th>\n",
       "      <th>CheckInDate</th>\n",
       "      <th>Price</th>\n",
       "      <th>ConceptName</th>\n",
       "      <th>SaleCityName</th>\n",
       "      <th>CInDay</th>\n",
       "      <th>SaleCheckInDayDiff</th>\n",
       "      <th>Seasons</th>\n",
       "      <th>SaleYear</th>\n",
       "      <th>SaleMonth</th>\n",
       "      <th>SaleDay</th>\n",
       "    </tr>\n",
       "  </thead>\n",
       "  <tbody>\n",
       "    <tr>\n",
       "      <th>0</th>\n",
       "      <td>2022-12-03</td>\n",
       "      <td>79.30</td>\n",
       "      <td>Herşey Dahil</td>\n",
       "      <td>Antalya</td>\n",
       "      <td>Saturday</td>\n",
       "      <td>0</td>\n",
       "      <td>Low</td>\n",
       "      <td>2022</td>\n",
       "      <td>12</td>\n",
       "      <td>3</td>\n",
       "    </tr>\n",
       "    <tr>\n",
       "      <th>1</th>\n",
       "      <td>2022-12-03</td>\n",
       "      <td>45.97</td>\n",
       "      <td>Yarım Pansiyon</td>\n",
       "      <td>Antalya</td>\n",
       "      <td>Saturday</td>\n",
       "      <td>0</td>\n",
       "      <td>Low</td>\n",
       "      <td>2022</td>\n",
       "      <td>12</td>\n",
       "      <td>3</td>\n",
       "    </tr>\n",
       "    <tr>\n",
       "      <th>2</th>\n",
       "      <td>2022-09-13</td>\n",
       "      <td>77.84</td>\n",
       "      <td>Herşey Dahil</td>\n",
       "      <td>Antalya</td>\n",
       "      <td>Tuesday</td>\n",
       "      <td>1</td>\n",
       "      <td>High</td>\n",
       "      <td>2022</td>\n",
       "      <td>9</td>\n",
       "      <td>12</td>\n",
       "    </tr>\n",
       "    <tr>\n",
       "      <th>3</th>\n",
       "      <td>2022-12-10</td>\n",
       "      <td>222.71</td>\n",
       "      <td>Yarım Pansiyon</td>\n",
       "      <td>İzmir</td>\n",
       "      <td>Saturday</td>\n",
       "      <td>7</td>\n",
       "      <td>Low</td>\n",
       "      <td>2022</td>\n",
       "      <td>12</td>\n",
       "      <td>3</td>\n",
       "    </tr>\n",
       "    <tr>\n",
       "      <th>4</th>\n",
       "      <td>2022-12-03</td>\n",
       "      <td>140.48</td>\n",
       "      <td>Yarım Pansiyon</td>\n",
       "      <td>İzmir</td>\n",
       "      <td>Saturday</td>\n",
       "      <td>2</td>\n",
       "      <td>Low</td>\n",
       "      <td>2022</td>\n",
       "      <td>12</td>\n",
       "      <td>1</td>\n",
       "    </tr>\n",
       "  </tbody>\n",
       "</table>\n",
       "</div>"
      ],
      "text/plain": [
       "  CheckInDate  Price     ConceptName SaleCityName    CInDay  \\\n",
       "0  2022-12-03  79.30    Herşey Dahil      Antalya  Saturday   \n",
       "1  2022-12-03  45.97  Yarım Pansiyon      Antalya  Saturday   \n",
       "2  2022-09-13  77.84    Herşey Dahil      Antalya   Tuesday   \n",
       "3  2022-12-10 222.71  Yarım Pansiyon        İzmir  Saturday   \n",
       "4  2022-12-03 140.48  Yarım Pansiyon        İzmir  Saturday   \n",
       "\n",
       "   SaleCheckInDayDiff Seasons  SaleYear  SaleMonth  SaleDay  \n",
       "0                   0     Low      2022         12        3  \n",
       "1                   0     Low      2022         12        3  \n",
       "2                   1    High      2022          9       12  \n",
       "3                   7     Low      2022         12        3  \n",
       "4                   2     Low      2022         12        1  "
      ]
     },
     "execution_count": 17,
     "metadata": {},
     "output_type": "execute_result"
    }
   ],
   "source": [
    "# To split the \"SaleDate\" variable into separate year, month, and day variables\n",
    "df['SaleYear'] = df['SaleDate'].dt.year\n",
    "df['SaleMonth'] = df['SaleDate'].dt.month\n",
    "df['SaleDay'] = df['SaleDate'].dt.day\n",
    "df = df.drop(\"SaleDate\", axis=1)\n",
    "df.head()"
   ]
  },
  {
   "cell_type": "code",
   "execution_count": 18,
   "metadata": {},
   "outputs": [
    {
     "data": {
      "text/html": [
       "<div>\n",
       "<style scoped>\n",
       "    .dataframe tbody tr th:only-of-type {\n",
       "        vertical-align: middle;\n",
       "    }\n",
       "\n",
       "    .dataframe tbody tr th {\n",
       "        vertical-align: top;\n",
       "    }\n",
       "\n",
       "    .dataframe thead th {\n",
       "        text-align: right;\n",
       "    }\n",
       "</style>\n",
       "<table border=\"1\" class=\"dataframe\">\n",
       "  <thead>\n",
       "    <tr style=\"text-align: right;\">\n",
       "      <th></th>\n",
       "      <th>CheckInDate</th>\n",
       "      <th>Price</th>\n",
       "      <th>ConceptName</th>\n",
       "      <th>SaleCityName</th>\n",
       "      <th>CInDay</th>\n",
       "      <th>SaleCheckInDayDiff</th>\n",
       "      <th>Seasons</th>\n",
       "      <th>SaleYear</th>\n",
       "      <th>SaleMonth</th>\n",
       "      <th>SaleDay</th>\n",
       "    </tr>\n",
       "  </thead>\n",
       "  <tbody>\n",
       "    <tr>\n",
       "      <th>0</th>\n",
       "      <td>2022-12-03</td>\n",
       "      <td>79.30</td>\n",
       "      <td>Herşey Dahil</td>\n",
       "      <td>Antalya</td>\n",
       "      <td>Saturday</td>\n",
       "      <td>0</td>\n",
       "      <td>Low</td>\n",
       "      <td>2022</td>\n",
       "      <td>12</td>\n",
       "      <td>3</td>\n",
       "    </tr>\n",
       "    <tr>\n",
       "      <th>1</th>\n",
       "      <td>2022-12-03</td>\n",
       "      <td>45.97</td>\n",
       "      <td>Yarım Pansiyon</td>\n",
       "      <td>Antalya</td>\n",
       "      <td>Saturday</td>\n",
       "      <td>0</td>\n",
       "      <td>Low</td>\n",
       "      <td>2022</td>\n",
       "      <td>12</td>\n",
       "      <td>3</td>\n",
       "    </tr>\n",
       "    <tr>\n",
       "      <th>2</th>\n",
       "      <td>2022-09-13</td>\n",
       "      <td>77.84</td>\n",
       "      <td>Herşey Dahil</td>\n",
       "      <td>Antalya</td>\n",
       "      <td>Tuesday</td>\n",
       "      <td>1</td>\n",
       "      <td>High</td>\n",
       "      <td>2022</td>\n",
       "      <td>9</td>\n",
       "      <td>12</td>\n",
       "    </tr>\n",
       "    <tr>\n",
       "      <th>3</th>\n",
       "      <td>2022-12-10</td>\n",
       "      <td>222.71</td>\n",
       "      <td>Yarım Pansiyon</td>\n",
       "      <td>İzmir</td>\n",
       "      <td>Saturday</td>\n",
       "      <td>7</td>\n",
       "      <td>Low</td>\n",
       "      <td>2022</td>\n",
       "      <td>12</td>\n",
       "      <td>3</td>\n",
       "    </tr>\n",
       "    <tr>\n",
       "      <th>4</th>\n",
       "      <td>2022-12-03</td>\n",
       "      <td>140.48</td>\n",
       "      <td>Yarım Pansiyon</td>\n",
       "      <td>İzmir</td>\n",
       "      <td>Saturday</td>\n",
       "      <td>2</td>\n",
       "      <td>Low</td>\n",
       "      <td>2022</td>\n",
       "      <td>12</td>\n",
       "      <td>1</td>\n",
       "    </tr>\n",
       "  </tbody>\n",
       "</table>\n",
       "</div>"
      ],
      "text/plain": [
       "  CheckInDate  Price     ConceptName SaleCityName    CInDay  \\\n",
       "0  2022-12-03  79.30    Herşey Dahil      Antalya  Saturday   \n",
       "1  2022-12-03  45.97  Yarım Pansiyon      Antalya  Saturday   \n",
       "2  2022-09-13  77.84    Herşey Dahil      Antalya   Tuesday   \n",
       "3  2022-12-10 222.71  Yarım Pansiyon        İzmir  Saturday   \n",
       "4  2022-12-03 140.48  Yarım Pansiyon        İzmir  Saturday   \n",
       "\n",
       "   SaleCheckInDayDiff Seasons  SaleYear  SaleMonth  SaleDay  \n",
       "0                   0     Low      2022         12        3  \n",
       "1                   0     Low      2022         12        3  \n",
       "2                   1    High      2022          9       12  \n",
       "3                   7     Low      2022         12        3  \n",
       "4                   2     Low      2022         12        1  "
      ]
     },
     "execution_count": 18,
     "metadata": {},
     "output_type": "execute_result"
    }
   ],
   "source": [
    "# Filling the empty observations of the Price variable with the mean.\n",
    "df['Price'].fillna(df['Price'].mean(), inplace=True)\n",
    "df.head()"
   ]
  },
  {
   "cell_type": "code",
   "execution_count": 19,
   "metadata": {},
   "outputs": [],
   "source": [
    "# Capturing / Detecting Numeric and Categorical Variables\n",
    "def grab_col_names(dataframe, cat_th=10, car_th=20):\n",
    "    \"\"\"\n",
    "    Returns the names of categorical, numeric and categorical but cardinal variables in the data set.\n",
    "    Note Categorical variables include categorical variables with numeric appearance.\n",
    "    Parameters\n",
    "    ------\n",
    "         dataframe: dataframe\n",
    "                Dataframe to get variable names\n",
    "        cat_th: int, optional\n",
    "                class threshold for numeric but categorical variables\n",
    "        car_th: int, optinal\n",
    "                class threshold for categorical but cardinal variables\n",
    "    Returns\n",
    "    ------\n",
    "        cat_cols: list\n",
    "                Categorical variable list\n",
    "        num_cols: list\n",
    "                Numeric variable list\n",
    "        cat_but_car: list\n",
    "                List of cardinal variables with categorical view\n",
    "    Examples\n",
    "    ------\n",
    "        import seaborn as sns\n",
    "        df = sns.load_dataset(\"iris\")\n",
    "        print(grab_col_names(df))\n",
    "    Notes\n",
    "    ------\n",
    "        cat_cols + num_cols + cat_but_car = total number of variables\n",
    "        num_but_cat is inside cat_cols.\n",
    "        The sum of the 3 return lists equals the total number of variables: cat_cols + num_cols + cat_but_car = number of variables\n",
    "    \"\"\"\n",
    "\n",
    "    # cat_cols, cat_but_car\n",
    "    cat_cols = [col for col in dataframe.columns if dataframe[col].dtypes == 'O']\n",
    "    num_but_cat = [col for col in dataframe.columns if dataframe[col].nunique() < cat_th and\n",
    "                   dataframe[col].dtypes != 'O']\n",
    "    cat_but_car = [col for col in dataframe.columns if dataframe[col].nunique() > car_th and\n",
    "                   dataframe[col].dtypes == 'O']\n",
    "    cat_cols = cat_cols + num_but_cat\n",
    "    cat_cols = [col for col in cat_cols if col not in cat_but_car]\n",
    "\n",
    "    # num_cols\n",
    "    num_cols = [col for col in dataframe.columns if dataframe[col].dtypes != 'O']\n",
    "    num_cols = [col for col in num_cols if col not in num_but_cat]\n",
    "\n",
    "    print(f'Observations: {dataframe.shape[0]}')\n",
    "    print(f'Variables: {dataframe.shape[1]}')\n",
    "    print(f'cat_cols: {len(cat_cols)}')\n",
    "    print(f'num_cols: {len(num_cols)}')\n",
    "    print(f'cat_but_car: {len(cat_but_car)}')\n",
    "    print(f'num_but_cat: {len(num_but_cat)}')\n",
    "    return cat_cols, num_cols, cat_but_car, num_but_cat"
   ]
  },
  {
   "cell_type": "code",
   "execution_count": 20,
   "metadata": {},
   "outputs": [
    {
     "name": "stdout",
     "output_type": "stream",
     "text": [
      "Observations: 59164\n",
      "Variables: 10\n",
      "cat_cols: 5\n",
      "num_cols: 5\n",
      "cat_but_car: 0\n",
      "num_but_cat: 1\n"
     ]
    }
   ],
   "source": [
    "cat_cols, num_cols, cat_but_car, num_but_cat = grab_col_names(df)"
   ]
  },
  {
   "cell_type": "code",
   "execution_count": 27,
   "metadata": {},
   "outputs": [
    {
     "name": "stdout",
     "output_type": "stream",
     "text": [
      "                ConceptName  Ratio\n",
      "ConceptName                       \n",
      "Herşey Dahil          53186  89.90\n",
      "Yarım Pansiyon         3559   6.02\n",
      "Oda + Kahvaltı         2419   4.09\n",
      "##########################################\n",
      "              SaleCityName  Ratio\n",
      "SaleCityName                     \n",
      "Antalya              31649  53.49\n",
      "Muğla                10662  18.02\n",
      "Aydın                10646  17.99\n",
      "Diğer                 3245   5.48\n",
      "İzmir                 2507   4.24\n",
      "Girne                  455   0.77\n",
      "##########################################\n",
      "           CInDay  Ratio\n",
      "CInDay                  \n",
      "Monday      12794  21.62\n",
      "Saturday     9967  16.85\n",
      "Friday       8683  14.68\n",
      "Thursday     7314  12.36\n",
      "Sunday       7050  11.92\n",
      "Tuesday      6807  11.51\n",
      "Wednesday    6549  11.07\n",
      "##########################################\n",
      "         Seasons  Ratio\n",
      "Seasons                \n",
      "High       50946  86.11\n",
      "Low         8218  13.89\n",
      "##########################################\n",
      "          SaleYear  Ratio\n",
      "SaleYear                 \n",
      "2022         22536  38.09\n",
      "2021         19159  32.38\n",
      "2020          6992  11.82\n",
      "2016          2892   4.89\n",
      "2018          2723   4.60\n",
      "2017          2656   4.49\n",
      "2019          2206   3.73\n",
      "##########################################\n"
     ]
    }
   ],
   "source": [
    "# Categorical Variable Analysis\n",
    "def cat_summary(dataframe, col_name, plot=False):\n",
    "    print(pd.DataFrame({col_name: dataframe[col_name].value_counts(),\n",
    "                        'Ratio': 100 * dataframe[col_name].value_counts() / len(dataframe)}))\n",
    "    print('##########################################')\n",
    "    if plot:\n",
    "        sns.countplot(x=dataframe[col_name], data=dataframe)\n",
    "        plt.show(block=True)\n",
    "\n",
    "for col in cat_cols:\n",
    "    cat_summary(df, col, plot=False)"
   ]
  },
  {
   "cell_type": "code",
   "execution_count": 26,
   "metadata": {},
   "outputs": [
    {
     "name": "stdout",
     "output_type": "stream",
     "text": [
      "count                            59164\n",
      "mean     2021-03-15 11:23:01.732134400\n",
      "min                2007-07-20 00:00:00\n",
      "5%                 2017-03-13 07:12:00\n",
      "10%                2018-05-04 00:00:00\n",
      "20%                2020-07-30 00:00:00\n",
      "30%      2021-03-16 21:35:59.999999744\n",
      "40%                2021-07-11 00:00:00\n",
      "50%                2021-08-16 00:00:00\n",
      "60%                2021-10-21 00:00:00\n",
      "70%                2022-06-11 00:00:00\n",
      "80%                2022-07-22 00:00:00\n",
      "90%                2022-08-27 00:00:00\n",
      "95%                2022-09-12 00:00:00\n",
      "99%                2022-11-04 00:00:00\n",
      "max                2023-08-16 00:00:00\n",
      "Name: CheckInDate, dtype: object\n",
      "count   59164.00\n",
      "mean       61.35\n",
      "std        51.38\n",
      "min         0.00\n",
      "5%         19.64\n",
      "10%        24.46\n",
      "20%        31.80\n",
      "30%        39.17\n",
      "40%        46.36\n",
      "50%        54.27\n",
      "60%        61.86\n",
      "70%        72.21\n",
      "80%        84.85\n",
      "90%       106.29\n",
      "95%       125.45\n",
      "99%       172.74\n",
      "max      4880.47\n",
      "Name: Price, dtype: float64\n",
      "count   59164.00\n",
      "mean       31.84\n",
      "std        51.49\n",
      "min         0.00\n",
      "5%          0.00\n",
      "10%         1.00\n",
      "20%         2.00\n",
      "30%         3.00\n",
      "40%         6.00\n",
      "50%        10.00\n",
      "60%        16.00\n",
      "70%        26.00\n",
      "80%        46.00\n",
      "90%       103.00\n",
      "95%       157.00\n",
      "99%       223.00\n",
      "max       630.00\n",
      "Name: SaleCheckInDayDiff, dtype: float64\n",
      "count   59164.00\n",
      "mean        6.41\n",
      "std         2.44\n",
      "min         1.00\n",
      "5%          2.00\n",
      "10%         3.00\n",
      "20%         4.00\n",
      "30%         5.00\n",
      "40%         6.00\n",
      "50%         7.00\n",
      "60%         7.00\n",
      "70%         8.00\n",
      "80%         8.00\n",
      "90%         9.00\n",
      "95%        10.00\n",
      "99%        12.00\n",
      "max        12.00\n",
      "Name: SaleMonth, dtype: float64\n",
      "count   59164.00\n",
      "mean       15.88\n",
      "std         8.82\n",
      "min         1.00\n",
      "5%          2.00\n",
      "10%         4.00\n",
      "20%         7.00\n",
      "30%        10.00\n",
      "40%        13.00\n",
      "50%        16.00\n",
      "60%        19.00\n",
      "70%        22.00\n",
      "80%        25.00\n",
      "90%        28.00\n",
      "95%        30.00\n",
      "99%        31.00\n",
      "max        31.00\n",
      "Name: SaleDay, dtype: float64\n"
     ]
    }
   ],
   "source": [
    "# Numerical Variable Analysis\n",
    "def num_summary(dataframe, numerical_col, plot=False):\n",
    "    quantiles = [0.05, 0.10, 0.20, 0.30, 0.40, 0.50, 0.60, 0.70, 0.80, 0.90, 0.95, 0.99]\n",
    "    print(dataframe[numerical_col].describe(quantiles).T)\n",
    "\n",
    "    if plot:\n",
    "        dataframe[numerical_col].hist(bins=20)\n",
    "        plt.xlabel(numerical_col)\n",
    "        plt.title(numerical_col)\n",
    "        plt.show(block=True)\n",
    "\n",
    "for col in num_cols:\n",
    "    num_summary(df, col, plot=False)\n"
   ]
  },
  {
   "cell_type": "code",
   "execution_count": 25,
   "metadata": {},
   "outputs": [
    {
     "name": "stdout",
     "output_type": "stream",
     "text": [
      "                TARGET_MEAN\n",
      "ConceptName                \n",
      "Herşey Dahil          62.67\n",
      "Oda + Kahvaltı        50.27\n",
      "Yarım Pansiyon        49.04\n",
      "\n",
      "\n",
      "              TARGET_MEAN\n",
      "SaleCityName             \n",
      "Antalya             64.52\n",
      "Aydın               53.86\n",
      "Diğer               47.73\n",
      "Girne               59.48\n",
      "Muğla               62.46\n",
      "İzmir               66.26\n",
      "\n",
      "\n",
      "           TARGET_MEAN\n",
      "CInDay                \n",
      "Friday           58.76\n",
      "Monday           61.23\n",
      "Saturday         60.42\n",
      "Sunday           62.97\n",
      "Thursday         60.57\n",
      "Tuesday          63.45\n",
      "Wednesday        63.34\n",
      "\n",
      "\n",
      "         TARGET_MEAN\n",
      "Seasons             \n",
      "High           62.48\n",
      "Low            54.29\n",
      "\n",
      "\n",
      "          TARGET_MEAN\n",
      "SaleYear             \n",
      "2016            71.35\n",
      "2017            67.33\n",
      "2018            61.06\n",
      "2019            76.40\n",
      "2020            52.65\n",
      "2021            60.56\n",
      "2022            61.28\n",
      "\n",
      "\n"
     ]
    }
   ],
   "source": [
    "# Analysis of Categorical Variables by Target Variable\n",
    "\n",
    "def target_summary_with_cat(dataframe, target, categorical_col, plot=False):\n",
    "    print(pd.DataFrame({'TARGET_MEAN': dataframe.groupby(categorical_col)[target].mean()}), end='\\n\\n\\n')\n",
    "    if plot:\n",
    "        sns.barplot(x=categorical_col, y=target, data=dataframe)\n",
    "        plt.show(block=True)\n",
    "\n",
    "for col in cat_cols:\n",
    "    target_summary_with_cat(df, 'Price', col, plot=False)"
   ]
  },
  {
   "cell_type": "code",
   "execution_count": 30,
   "metadata": {},
   "outputs": [
    {
     "data": {
      "image/png": "[encoded data removed]",
      "text/plain": [
       "<Figure size 640x480 with 2 Axes>"
      ]
     },
     "metadata": {},
     "output_type": "display_data"
    },
    {
     "data": {
      "text/plain": [
       "SaleCheckInDayDiff  SaleMonth            0.42\n",
       "SaleMonth           SaleDay              0.10\n",
       "Price               SaleMonth            0.06\n",
       "CheckInDate         Price                0.03\n",
       "SaleCheckInDayDiff  SaleDay              0.03\n",
       "CheckInDate         SaleCheckInDayDiff   0.02\n",
       "                    SaleMonth            0.02\n",
       "Price               SaleCheckInDayDiff   0.02\n",
       "                    SaleDay              0.01\n",
       "CheckInDate         SaleDay              0.00\n",
       "dtype: float64"
      ]
     },
     "execution_count": 30,
     "metadata": {},
     "output_type": "execute_result"
    }
   ],
   "source": [
    "# Correlation Analysis of the Variables\n",
    "\n",
    "def df_corr(dataframe, annot=True):\n",
    "    sns.heatmap(dataframe.corr(), annot=annot, linewidths=.2, cmap='Reds', square=True)\n",
    "    plt.show(block=True)\n",
    "\n",
    "def high_correlated_cols(dataframe,head=10):\n",
    "    corr_matrix = dataframe.corr().abs()\n",
    "    corr_cols = (corr_matrix.where(np.triu(np.ones(corr_matrix.shape), k=1)\n",
    "                                   .astype(bool)).stack().sort_values(ascending=False)).head(head)\n",
    "    return corr_cols\n",
    "\n",
    "df_corr(df[num_cols], annot=False)\n",
    "high_correlated_cols(df[num_cols], 15)\n",
    "\n"
   ]
  },
  {
   "cell_type": "markdown",
   "metadata": {},
   "source": [
    "### Implementation of Rule Based Classification\n",
    "\n",
    "After conducting comprehensive exploratory data analysis and understanding the relationships between variables through correlation analysis, we will now proceed to develop our rule-based classification system. This system will help us categorize potential customer value based on various features such as booking patterns, seasonal preferences, and price sensitivity. The following sections will detail the step-by-step implementation of our classification rules and their business implications.\n"
   ]
  },
  {
   "cell_type": "code",
   "execution_count": null,
   "metadata": {},
   "outputs": [
    {
     "name": "stdout",
     "output_type": "stream",
     "text": [
      "                  Price\n",
      "SaleCityName           \n",
      "Antalya      2042033.79\n",
      "Aydın         573357.35\n",
      "Diğer         154879.02\n",
      "Girne          27065.03\n",
      "Muğla         665964.90\n",
      "İzmir         166118.87\n"
     ]
    },
    {
     "data": {
      "image/png": "[encoded data removed]",
      "text/plain": [
       "<Figure size 1000x600 with 1 Axes>"
      ]
     },
     "metadata": {},
     "output_type": "display_data"
    }
   ],
   "source": [
    "# In this analysis, we are examining the total sales volume by city. \n",
    "# We aim to understand the total financial volume generated by each city. \n",
    "\n",
    "print(df.groupby(\"SaleCityName\").agg({\"Price\": \"sum\"}))\n",
    "sales_by_city = df.groupby(\"SaleCityName\")[\"Price\"].sum()\n",
    "\n",
    "# Setting the x and y axes for the graph\n",
    "x = sales_by_city.index\n",
    "y = sales_by_city.values\n",
    "\n",
    "# Setting the size of the graph\n",
    "plt.figure(figsize=(10, 6))\n",
    "\n",
    "# Plotting the bar chart\n",
    "plt.bar(x, y)\n",
    "\n",
    "# Adding axis labels and a title to the graph\n",
    "plt.xlabel(\"Cities\")\n",
    "plt.ylabel(\"Total Sales Amount\")\n",
    "plt.title(\"Total Revenue by Cities\")\n",
    "\n",
    "# Rotating the axis labels\n",
    "plt.xticks(rotation=45)\n",
    "\n",
    "plt.ticklabel_format(style='plain', axis='y')\n",
    "\n",
    "# Displaying the graph\n",
    "plt.show()"
   ]
  },
  {
   "cell_type": "code",
   "execution_count": 33,
   "metadata": {},
   "outputs": [
    {
     "name": "stdout",
     "output_type": "stream",
     "text": [
      "              Price\n",
      "SaleCityName       \n",
      "Antalya       64.52\n",
      "Aydın         53.86\n",
      "Diğer         47.73\n",
      "Girne         59.48\n",
      "Muğla         62.46\n",
      "İzmir         66.26\n"
     ]
    },
    {
     "data": {
      "image/png": "[encoded data removed]",
      "text/plain": [
       "<Figure size 1000x600 with 1 Axes>"
      ]
     },
     "metadata": {},
     "output_type": "display_data"
    }
   ],
   "source": [
    "# Average Price Analysis by City\n",
    "# In this analysis, we are calculating the average price for each city in our dataset. \n",
    "# We aim to understand the typical pricing levels across different cities to identify \n",
    "# which destinations tend to have higher or lower average prices. \n",
    "\n",
    "print(df.groupby(by=[\"SaleCityName\"]).agg({\"Price\": \"mean\"}))\n",
    "mean_sales_by_city = df.groupby(\"SaleCityName\")[\"Price\"].mean()\n",
    "\n",
    "# Setting up the x and y axes for the plot\n",
    "x = mean_sales_by_city.index\n",
    "y = mean_sales_by_city.values\n",
    "\n",
    "# Adjusting the size of the plot\n",
    "plt.figure(figsize=(10, 6))\n",
    "\n",
    "# Plotting the bar chart\n",
    "plt.bar(x, y)\n",
    "\n",
    "# Adding axis labels and a title to the plot\n",
    "plt.xlabel(\"Cities\")\n",
    "plt.ylabel(\"Average Sales Amount\")\n",
    "plt.title(\"Average Sales Amount by City\")\n",
    "\n",
    "# Rotating the axis labels\n",
    "plt.xticks(rotation=45)\n",
    "\n",
    "# Displaying the plot\n",
    "plt.show()"
   ]
  },
  {
   "cell_type": "code",
   "execution_count": 34,
   "metadata": {},
   "outputs": [
    {
     "name": "stdout",
     "output_type": "stream",
     "text": [
      "                    Price\n",
      "ConceptName              \n",
      "Herşey Dahil   3333278.84\n",
      "Oda + Kahvaltı  121615.08\n",
      "Yarım Pansiyon  174525.04\n"
     ]
    }
   ],
   "source": [
    "# Revenue Analysis by Hotel Concept\n",
    "print(df.groupby(\"ConceptName\").agg({\"Price\": \"sum\"}))\n",
    "# In this analysis, we are examining the total revenue generated by each accommodation concept type (like all-inclusive, half-board, etc.). \n",
    "# We aim to understand which concept types are bringing in the most revenue to help identify the most profitable accommodation formats. "
   ]
  },
  {
   "cell_type": "code",
   "execution_count": 35,
   "metadata": {},
   "outputs": [
    {
     "data": {
      "application/vnd.plotly.v1+json": {
       "config": {
        "plotlyServerURL": "https://plot.ly"
       },
       "data": [
        {
         "alignmentgroup": "True",
         "hovertemplate": "ConceptName=Herşey Dahil<br>SaleCityName=%{x}<br>Price=%{y}<extra></extra>",
         "legendgroup": "Herşey Dahil",
         "marker": {
          "color": "#636efa",
          "pattern": {
           "shape": ""
          }
         },
         "name": "Herşey Dahil",
         "offsetgroup": "Herşey Dahil",
         "orientation": "v",
         "showlegend": true,
         "textposition": "auto",
         "type": "bar",
         "x": [
          "Antalya",
          "Aydın",
          "Diğer",
          "Girne",
          "Muğla",
          "İzmir"
         ],
         "xaxis": "x",
         "y": [
          64.51882154612385,
          53.996162185180424,
          84.724796145936,
          97.68096959520996,
          63.01988270046343,
          74.69185487387786
         ],
         "yaxis": "y"
        },
        {
         "alignmentgroup": "True",
         "hovertemplate": "ConceptName=Oda + Kahvaltı<br>SaleCityName=%{x}<br>Price=%{y}<extra></extra>",
         "legendgroup": "Oda + Kahvaltı",
         "marker": {
          "color": "#EF553B",
          "pattern": {
           "shape": ""
          }
         },
         "name": "Oda + Kahvaltı",
         "offsetgroup": "Oda + Kahvaltı",
         "orientation": "v",
         "showlegend": true,
         "textposition": "auto",
         "type": "bar",
         "x": [
          "Antalya",
          "Aydın",
          "Diğer",
          "Girne",
          "Muğla",
          "İzmir"
         ],
         "xaxis": "x",
         "y": [
          63.50481577568193,
          34.45878713920803,
          37.72389612012639,
          39.775535822489935,
          59.04128537284493,
          41.32034155842363
         ],
         "yaxis": "y"
        },
        {
         "alignmentgroup": "True",
         "hovertemplate": "ConceptName=Yarım Pansiyon<br>SaleCityName=%{x}<br>Price=%{y}<extra></extra>",
         "legendgroup": "Yarım Pansiyon",
         "marker": {
          "color": "#00cc96",
          "pattern": {
           "shape": ""
          }
         },
         "name": "Yarım Pansiyon",
         "offsetgroup": "Yarım Pansiyon",
         "orientation": "v",
         "showlegend": true,
         "textposition": "auto",
         "type": "bar",
         "x": [
          "Antalya",
          "Aydın",
          "Diğer",
          "Girne",
          "Muğla",
          "İzmir"
         ],
         "xaxis": "x",
         "y": [
          67.19061312139907,
          30.016542857776518,
          42.11343977875857,
          53.2478382437815,
          45.12092360018871,
          59.61392180846054
         ],
         "yaxis": "y"
        }
       ],
       "layout": {
        "barmode": "relative",
        "legend": {
         "title": {
          "text": "ConceptName"
         },
         "tracegroupgap": 0
        },
        "template": {
         "data": {
          "bar": [
           {
            "error_x": {
             "color": "#2a3f5f"
            },
            "error_y": {
             "color": "#2a3f5f"
            },
            "marker": {
             "line": {
              "color": "#E5ECF6",
              "width": 0.5
             },
             "pattern": {
              "fillmode": "overlay",
              "size": 10,
              "solidity": 0.2
             }
            },
            "type": "bar"
           }
          ],
          "barpolar": [
           {
            "marker": {
             "line": {
              "color": "#E5ECF6",
              "width": 0.5
             },
             "pattern": {
              "fillmode": "overlay",
              "size": 10,
              "solidity": 0.2
             }
            },
            "type": "barpolar"
           }
          ],
          "carpet": [
           {
            "aaxis": {
             "endlinecolor": "#2a3f5f",
             "gridcolor": "white",
             "linecolor": "white",
             "minorgridcolor": "white",
             "startlinecolor": "#2a3f5f"
            },
            "baxis": {
             "endlinecolor": "#2a3f5f",
             "gridcolor": "white",
             "linecolor": "white",
             "minorgridcolor": "white",
             "startlinecolor": "#2a3f5f"
            },
            "type": "carpet"
           }
          ],
          "choropleth": [
           {
            "colorbar": {
             "outlinewidth": 0,
             "ticks": ""
            },
            "type": "choropleth"
           }
          ],
          "contour": [
           {
            "colorbar": {
             "outlinewidth": 0,
             "ticks": ""
            },
            "colorscale": [
             [
              0,
              "#0d0887"
             ],
             [
              0.1111111111111111,
              "#46039f"
             ],
             [
              0.2222222222222222,
              "#7201a8"
             ],
             [
              0.3333333333333333,
              "#9c179e"
             ],
             [
              0.4444444444444444,
              "#bd3786"
             ],
             [
              0.5555555555555556,
              "#d8576b"
             ],
             [
              0.6666666666666666,
              "#ed7953"
             ],
             [
              0.7777777777777778,
              "#fb9f3a"
             ],
             [
              0.8888888888888888,
              "#fdca26"
             ],
             [
              1,
              "#f0f921"
             ]
            ],
            "type": "contour"
           }
          ],
          "contourcarpet": [
           {
            "colorbar": {
             "outlinewidth": 0,
             "ticks": ""
            },
            "type": "contourcarpet"
           }
          ],
          "heatmap": [
           {
            "colorbar": {
             "outlinewidth": 0,
             "ticks": ""
            },
            "colorscale": [
             [
              0,
              "#0d0887"
             ],
             [
              0.1111111111111111,
              "#46039f"
             ],
             [
              0.2222222222222222,
              "#7201a8"
             ],
             [
              0.3333333333333333,
              "#9c179e"
             ],
             [
              0.4444444444444444,
              "#bd3786"
             ],
             [
              0.5555555555555556,
              "#d8576b"
             ],
             [
              0.6666666666666666,
              "#ed7953"
             ],
             [
              0.7777777777777778,
              "#fb9f3a"
             ],
             [
              0.8888888888888888,
              "#fdca26"
             ],
             [
              1,
              "#f0f921"
             ]
            ],
            "type": "heatmap"
           }
          ],
          "heatmapgl": [
           {
            "colorbar": {
             "outlinewidth": 0,
             "ticks": ""
            },
            "colorscale": [
             [
              0,
              "#0d0887"
             ],
             [
              0.1111111111111111,
              "#46039f"
             ],
             [
              0.2222222222222222,
              "#7201a8"
             ],
             [
              0.3333333333333333,
              "#9c179e"
             ],
             [
              0.4444444444444444,
              "#bd3786"
             ],
             [
              0.5555555555555556,
              "#d8576b"
             ],
             [
              0.6666666666666666,
              "#ed7953"
             ],
             [
              0.7777777777777778,
              "#fb9f3a"
             ],
             [
              0.8888888888888888,
              "#fdca26"
             ],
             [
              1,
              "#f0f921"
             ]
            ],
            "type": "heatmapgl"
           }
          ],
          "histogram": [
           {
            "marker": {
             "pattern": {
              "fillmode": "overlay",
              "size": 10,
              "solidity": 0.2
             }
            },
            "type": "histogram"
           }
          ],
          "histogram2d": [
           {
            "colorbar": {
             "outlinewidth": 0,
             "ticks": ""
            },
            "colorscale": [
             [
              0,
              "#0d0887"
             ],
             [
              0.1111111111111111,
              "#46039f"
             ],
             [
              0.2222222222222222,
              "#7201a8"
             ],
             [
              0.3333333333333333,
              "#9c179e"
             ],
             [
              0.4444444444444444,
              "#bd3786"
             ],
             [
              0.5555555555555556,
              "#d8576b"
             ],
             [
              0.6666666666666666,
              "#ed7953"
             ],
             [
              0.7777777777777778,
              "#fb9f3a"
             ],
             [
              0.8888888888888888,
              "#fdca26"
             ],
             [
              1,
              "#f0f921"
             ]
            ],
            "type": "histogram2d"
           }
          ],
          "histogram2dcontour": [
           {
            "colorbar": {
             "outlinewidth": 0,
             "ticks": ""
            },
            "colorscale": [
             [
              0,
              "#0d0887"
             ],
             [
              0.1111111111111111,
              "#46039f"
             ],
             [
              0.2222222222222222,
              "#7201a8"
             ],
             [
              0.3333333333333333,
              "#9c179e"
             ],
             [
              0.4444444444444444,
              "#bd3786"
             ],
             [
              0.5555555555555556,
              "#d8576b"
             ],
             [
              0.6666666666666666,
              "#ed7953"
             ],
             [
              0.7777777777777778,
              "#fb9f3a"
             ],
             [
              0.8888888888888888,
              "#fdca26"
             ],
             [
              1,
              "#f0f921"
             ]
            ],
            "type": "histogram2dcontour"
           }
          ],
          "mesh3d": [
           {
            "colorbar": {
             "outlinewidth": 0,
             "ticks": ""
            },
            "type": "mesh3d"
           }
          ],
          "parcoords": [
           {
            "line": {
             "colorbar": {
              "outlinewidth": 0,
              "ticks": ""
             }
            },
            "type": "parcoords"
           }
          ],
          "pie": [
           {
            "automargin": true,
            "type": "pie"
           }
          ],
          "scatter": [
           {
            "fillpattern": {
             "fillmode": "overlay",
             "size": 10,
             "solidity": 0.2
            },
            "type": "scatter"
           }
          ],
          "scatter3d": [
           {
            "line": {
             "colorbar": {
              "outlinewidth": 0,
              "ticks": ""
             }
            },
            "marker": {
             "colorbar": {
              "outlinewidth": 0,
              "ticks": ""
             }
            },
            "type": "scatter3d"
           }
          ],
          "scattercarpet": [
           {
            "marker": {
             "colorbar": {
              "outlinewidth": 0,
              "ticks": ""
             }
            },
            "type": "scattercarpet"
           }
          ],
          "scattergeo": [
           {
            "marker": {
             "colorbar": {
              "outlinewidth": 0,
              "ticks": ""
             }
            },
            "type": "scattergeo"
           }
          ],
          "scattergl": [
           {
            "marker": {
             "colorbar": {
              "outlinewidth": 0,
              "ticks": ""
             }
            },
            "type": "scattergl"
           }
          ],
          "scattermapbox": [
           {
            "marker": {
             "colorbar": {
              "outlinewidth": 0,
              "ticks": ""
             }
            },
            "type": "scattermapbox"
           }
          ],
          "scatterpolar": [
           {
            "marker": {
             "colorbar": {
              "outlinewidth": 0,
              "ticks": ""
             }
            },
            "type": "scatterpolar"
           }
          ],
          "scatterpolargl": [
           {
            "marker": {
             "colorbar": {
              "outlinewidth": 0,
              "ticks": ""
             }
            },
            "type": "scatterpolargl"
           }
          ],
          "scatterternary": [
           {
            "marker": {
             "colorbar": {
              "outlinewidth": 0,
              "ticks": ""
             }
            },
            "type": "scatterternary"
           }
          ],
          "surface": [
           {
            "colorbar": {
             "outlinewidth": 0,
             "ticks": ""
            },
            "colorscale": [
             [
              0,
              "#0d0887"
             ],
             [
              0.1111111111111111,
              "#46039f"
             ],
             [
              0.2222222222222222,
              "#7201a8"
             ],
             [
              0.3333333333333333,
              "#9c179e"
             ],
             [
              0.4444444444444444,
              "#bd3786"
             ],
             [
              0.5555555555555556,
              "#d8576b"
             ],
             [
              0.6666666666666666,
              "#ed7953"
             ],
             [
              0.7777777777777778,
              "#fb9f3a"
             ],
             [
              0.8888888888888888,
              "#fdca26"
             ],
             [
              1,
              "#f0f921"
             ]
            ],
            "type": "surface"
           }
          ],
          "table": [
           {
            "cells": {
             "fill": {
              "color": "#EBF0F8"
             },
             "line": {
              "color": "white"
             }
            },
            "header": {
             "fill": {
              "color": "#C8D4E3"
             },
             "line": {
              "color": "white"
             }
            },
            "type": "table"
           }
          ]
         },
         "layout": {
          "annotationdefaults": {
           "arrowcolor": "#2a3f5f",
           "arrowhead": 0,
           "arrowwidth": 1
          },
          "autotypenumbers": "strict",
          "coloraxis": {
           "colorbar": {
            "outlinewidth": 0,
            "ticks": ""
           }
          },
          "colorscale": {
           "diverging": [
            [
             0,
             "#8e0152"
            ],
            [
             0.1,
             "#c51b7d"
            ],
            [
             0.2,
             "#de77ae"
            ],
            [
             0.3,
             "#f1b6da"
            ],
            [
             0.4,
             "#fde0ef"
            ],
            [
             0.5,
             "#f7f7f7"
            ],
            [
             0.6,
             "#e6f5d0"
            ],
            [
             0.7,
             "#b8e186"
            ],
            [
             0.8,
             "#7fbc41"
            ],
            [
             0.9,
             "#4d9221"
            ],
            [
             1,
             "#276419"
            ]
           ],
           "sequential": [
            [
             0,
             "#0d0887"
            ],
            [
             0.1111111111111111,
             "#46039f"
            ],
            [
             0.2222222222222222,
             "#7201a8"
            ],
            [
             0.3333333333333333,
             "#9c179e"
            ],
            [
             0.4444444444444444,
             "#bd3786"
            ],
            [
             0.5555555555555556,
             "#d8576b"
            ],
            [
             0.6666666666666666,
             "#ed7953"
            ],
            [
             0.7777777777777778,
             "#fb9f3a"
            ],
            [
             0.8888888888888888,
             "#fdca26"
            ],
            [
             1,
             "#f0f921"
            ]
           ],
           "sequentialminus": [
            [
             0,
             "#0d0887"
            ],
            [
             0.1111111111111111,
             "#46039f"
            ],
            [
             0.2222222222222222,
             "#7201a8"
            ],
            [
             0.3333333333333333,
             "#9c179e"
            ],
            [
             0.4444444444444444,
             "#bd3786"
            ],
            [
             0.5555555555555556,
             "#d8576b"
            ],
            [
             0.6666666666666666,
             "#ed7953"
            ],
            [
             0.7777777777777778,
             "#fb9f3a"
            ],
            [
             0.8888888888888888,
             "#fdca26"
            ],
            [
             1,
             "#f0f921"
            ]
           ]
          },
          "colorway": [
           "#636efa",
           "#EF553B",
           "#00cc96",
           "#ab63fa",
           "#FFA15A",
           "#19d3f3",
           "#FF6692",
           "#B6E880",
           "#FF97FF",
           "#FECB52"
          ],
          "font": {
           "color": "#2a3f5f"
          },
          "geo": {
           "bgcolor": "white",
           "lakecolor": "white",
           "landcolor": "#E5ECF6",
           "showlakes": true,
           "showland": true,
           "subunitcolor": "white"
          },
          "hoverlabel": {
           "align": "left"
          },
          "hovermode": "closest",
          "mapbox": {
           "style": "light"
          },
          "paper_bgcolor": "white",
          "plot_bgcolor": "#E5ECF6",
          "polar": {
           "angularaxis": {
            "gridcolor": "white",
            "linecolor": "white",
            "ticks": ""
           },
           "bgcolor": "#E5ECF6",
           "radialaxis": {
            "gridcolor": "white",
            "linecolor": "white",
            "ticks": ""
           }
          },
          "scene": {
           "xaxis": {
            "backgroundcolor": "#E5ECF6",
            "gridcolor": "white",
            "gridwidth": 2,
            "linecolor": "white",
            "showbackground": true,
            "ticks": "",
            "zerolinecolor": "white"
           },
           "yaxis": {
            "backgroundcolor": "#E5ECF6",
            "gridcolor": "white",
            "gridwidth": 2,
            "linecolor": "white",
            "showbackground": true,
            "ticks": "",
            "zerolinecolor": "white"
           },
           "zaxis": {
            "backgroundcolor": "#E5ECF6",
            "gridcolor": "white",
            "gridwidth": 2,
            "linecolor": "white",
            "showbackground": true,
            "ticks": "",
            "zerolinecolor": "white"
           }
          },
          "shapedefaults": {
           "line": {
            "color": "#2a3f5f"
           }
          },
          "ternary": {
           "aaxis": {
            "gridcolor": "white",
            "linecolor": "white",
            "ticks": ""
           },
           "baxis": {
            "gridcolor": "white",
            "linecolor": "white",
            "ticks": ""
           },
           "bgcolor": "#E5ECF6",
           "caxis": {
            "gridcolor": "white",
            "linecolor": "white",
            "ticks": ""
           }
          },
          "title": {
           "x": 0.05
          },
          "xaxis": {
           "automargin": true,
           "gridcolor": "white",
           "linecolor": "white",
           "ticks": "",
           "title": {
            "standoff": 15
           },
           "zerolinecolor": "white",
           "zerolinewidth": 2
          },
          "yaxis": {
           "automargin": true,
           "gridcolor": "white",
           "linecolor": "white",
           "ticks": "",
           "title": {
            "standoff": 15
           },
           "zerolinecolor": "white",
           "zerolinewidth": 2
          }
         }
        },
        "title": {
         "text": "Average PRICE by City-Concept"
        },
        "xaxis": {
         "anchor": "y",
         "domain": [
          0,
          1
         ],
         "title": {
          "text": "City"
         }
        },
        "yaxis": {
         "anchor": "x",
         "domain": [
          0,
          1
         ],
         "title": {
          "text": "Average PRICE"
         }
        }
       }
      }
     },
     "metadata": {},
     "output_type": "display_data"
    }
   ],
   "source": [
    "# Advanced Price Analysis\n",
    "# In this visualization, we are creating an advanced bar chart that shows the average price breakdown by both city and concept type simultaneously. \n",
    "# We aim to understand how prices vary across different cities for each accommodation concept, allowing us to identify specific city-concept \n",
    "# combinations that command higher or lower prices.\n",
    "\n",
    "mean_price_by_city_concept = df.groupby([\"SaleCityName\", \"ConceptName\"]).agg({\"Price\": \"mean\"}).reset_index()\n",
    "\n",
    "# Creating the plot\n",
    "fig = px.bar(mean_price_by_city_concept, x=\"SaleCityName\", y=\"Price\", color=\"ConceptName\",\n",
    "             title=\"Average PRICE by City-Concept\")\n",
    "\n",
    "# Setting the axis labels\n",
    "fig.update_layout(xaxis_title=\"City\", yaxis_title=\"Average PRICE\")\n",
    "\n",
    "# Displaying the plot\n",
    "fig.show(block=True)"
   ]
  },
  {
   "cell_type": "code",
   "execution_count": 36,
   "metadata": {},
   "outputs": [
    {
     "data": {
      "text/html": [
       "<div>\n",
       "<style scoped>\n",
       "    .dataframe tbody tr th:only-of-type {\n",
       "        vertical-align: middle;\n",
       "    }\n",
       "\n",
       "    .dataframe tbody tr th {\n",
       "        vertical-align: top;\n",
       "    }\n",
       "\n",
       "    .dataframe thead th {\n",
       "        text-align: right;\n",
       "    }\n",
       "</style>\n",
       "<table border=\"1\" class=\"dataframe\">\n",
       "  <thead>\n",
       "    <tr style=\"text-align: right;\">\n",
       "      <th></th>\n",
       "      <th>CheckInDate</th>\n",
       "      <th>Price</th>\n",
       "      <th>ConceptName</th>\n",
       "      <th>SaleCityName</th>\n",
       "      <th>CInDay</th>\n",
       "      <th>SaleCheckInDayDiff</th>\n",
       "      <th>Seasons</th>\n",
       "      <th>SaleYear</th>\n",
       "      <th>SaleMonth</th>\n",
       "      <th>SaleDay</th>\n",
       "      <th>EB_Score</th>\n",
       "    </tr>\n",
       "  </thead>\n",
       "  <tbody>\n",
       "    <tr>\n",
       "      <th>0</th>\n",
       "      <td>2022-12-03</td>\n",
       "      <td>79.30</td>\n",
       "      <td>Herşey Dahil</td>\n",
       "      <td>Antalya</td>\n",
       "      <td>Saturday</td>\n",
       "      <td>0</td>\n",
       "      <td>Low</td>\n",
       "      <td>2022</td>\n",
       "      <td>12</td>\n",
       "      <td>3</td>\n",
       "      <td>Last Minutes</td>\n",
       "    </tr>\n",
       "    <tr>\n",
       "      <th>1</th>\n",
       "      <td>2022-12-03</td>\n",
       "      <td>45.97</td>\n",
       "      <td>Yarım Pansiyon</td>\n",
       "      <td>Antalya</td>\n",
       "      <td>Saturday</td>\n",
       "      <td>0</td>\n",
       "      <td>Low</td>\n",
       "      <td>2022</td>\n",
       "      <td>12</td>\n",
       "      <td>3</td>\n",
       "      <td>Last Minutes</td>\n",
       "    </tr>\n",
       "    <tr>\n",
       "      <th>2</th>\n",
       "      <td>2022-09-13</td>\n",
       "      <td>77.84</td>\n",
       "      <td>Herşey Dahil</td>\n",
       "      <td>Antalya</td>\n",
       "      <td>Tuesday</td>\n",
       "      <td>1</td>\n",
       "      <td>High</td>\n",
       "      <td>2022</td>\n",
       "      <td>9</td>\n",
       "      <td>12</td>\n",
       "      <td>Last Minutes</td>\n",
       "    </tr>\n",
       "    <tr>\n",
       "      <th>3</th>\n",
       "      <td>2022-12-10</td>\n",
       "      <td>222.71</td>\n",
       "      <td>Yarım Pansiyon</td>\n",
       "      <td>İzmir</td>\n",
       "      <td>Saturday</td>\n",
       "      <td>7</td>\n",
       "      <td>Low</td>\n",
       "      <td>2022</td>\n",
       "      <td>12</td>\n",
       "      <td>3</td>\n",
       "      <td>Last Minutes</td>\n",
       "    </tr>\n",
       "    <tr>\n",
       "      <th>4</th>\n",
       "      <td>2022-12-03</td>\n",
       "      <td>140.48</td>\n",
       "      <td>Yarım Pansiyon</td>\n",
       "      <td>İzmir</td>\n",
       "      <td>Saturday</td>\n",
       "      <td>2</td>\n",
       "      <td>Low</td>\n",
       "      <td>2022</td>\n",
       "      <td>12</td>\n",
       "      <td>1</td>\n",
       "      <td>Last Minutes</td>\n",
       "    </tr>\n",
       "  </tbody>\n",
       "</table>\n",
       "</div>"
      ],
      "text/plain": [
       "  CheckInDate  Price     ConceptName SaleCityName    CInDay  \\\n",
       "0  2022-12-03  79.30    Herşey Dahil      Antalya  Saturday   \n",
       "1  2022-12-03  45.97  Yarım Pansiyon      Antalya  Saturday   \n",
       "2  2022-09-13  77.84    Herşey Dahil      Antalya   Tuesday   \n",
       "3  2022-12-10 222.71  Yarım Pansiyon        İzmir  Saturday   \n",
       "4  2022-12-03 140.48  Yarım Pansiyon        İzmir  Saturday   \n",
       "\n",
       "   SaleCheckInDayDiff Seasons  SaleYear  SaleMonth  SaleDay      EB_Score  \n",
       "0                   0     Low      2022         12        3  Last Minutes  \n",
       "1                   0     Low      2022         12        3  Last Minutes  \n",
       "2                   1    High      2022          9       12  Last Minutes  \n",
       "3                   7     Low      2022         12        3  Last Minutes  \n",
       "4                   2     Low      2022         12        1  Last Minutes  "
      ]
     },
     "execution_count": 36,
     "metadata": {},
     "output_type": "execute_result"
    }
   ],
   "source": [
    "# Early Booking (EB) Score Classification System\n",
    "bins = [-1, 7, 30, 90, df[\"SaleCheckInDayDiff\"].max()]  \n",
    "labels = [\"Last Minutes\", \"Potential Planners\", \"Planners\", \"Early Bookers\"]  \n",
    "df[\"EB_Score\"] = pd.cut(df[\"SaleCheckInDayDiff\"], bins, labels=labels) \n",
    "# <- Importante... podemos colocar uma classificação por faixa de dias para a reserva\n",
    "# In this analysis, we are creating a new categorical variable called \"EB_Score\" that segments our customers based on how far in advance they book their accommodations. \n",
    "# By dividing the booking time differences into four meaningful categories (Last Minutes, Potential Planners, Planners, and Early Bookers), \n",
    "# we aim to understand the booking behavior patterns of our customers and identify different types of planners in our customer base. \n",
    "df.head()\n"
   ]
  },
  {
   "cell_type": "code",
   "execution_count": 37,
   "metadata": {},
   "outputs": [
    {
     "name": "stdout",
     "output_type": "stream",
     "text": [
      "                                                Price       \n",
      "                                                 mean  count\n",
      "SaleCityName ConceptName    EB_Score                        \n",
      "Antalya      Herşey Dahil   Last Minutes        62.75  14148\n",
      "                            Potential Planners  64.90   8876\n",
      "                            Planners            67.88   4490\n",
      "                            Early Bookers       66.49   3281\n",
      "             Oda + Kahvaltı Last Minutes        65.35    503\n",
      "                            Potential Planners  57.74     75\n",
      "                            Planners            39.85     15\n",
      "                            Early Bookers       35.00      5\n",
      "             Yarım Pansiyon Last Minutes        70.43    204\n",
      "                            Potential Planners  55.64     39\n",
      "                            Planners            58.03      9\n",
      "                            Early Bookers       35.03      4\n",
      "Aydın        Herşey Dahil   Last Minutes        51.71   3966\n",
      "                            Potential Planners  52.09   2717\n",
      "                            Planners            57.88   1834\n",
      "                            Early Bookers       57.44   2060\n",
      "             Oda + Kahvaltı Last Minutes        37.80     20\n",
      "                            Potential Planners  31.08     15\n",
      "                            Planners            30.20      2\n",
      "                            Early Bookers       26.81      1\n",
      "             Yarım Pansiyon Last Minutes        30.87     18\n",
      "                            Potential Planners  23.73      6\n",
      "                            Planners            28.81      6\n",
      "                            Early Bookers       59.60      1\n",
      "Diğer        Herşey Dahil   Last Minutes        75.47    155\n",
      "                            Potential Planners  85.79    129\n",
      "                            Planners            87.26    120\n",
      "                            Early Bookers       94.46    102\n",
      "             Oda + Kahvaltı Last Minutes        38.24    542\n",
      "                            Potential Planners  34.98    176\n",
      "                            Planners            43.96     35\n",
      "                            Early Bookers       35.72      8\n",
      "             Yarım Pansiyon Last Minutes        39.47   1173\n",
      "                            Potential Planners  45.70    605\n",
      "                            Planners            46.14    173\n",
      "                            Early Bookers       50.68     27\n",
      "Girne        Herşey Dahil   Last Minutes        93.25     24\n",
      "                            Potential Planners  94.95     41\n",
      "                            Planners           103.41     25\n",
      "                            Early Bookers      102.38     16\n",
      "             Oda + Kahvaltı Last Minutes        37.58     62\n",
      "                            Potential Planners  39.77     39\n",
      "                            Planners            43.15     28\n",
      "                            Early Bookers       43.97     10\n",
      "             Yarım Pansiyon Last Minutes        60.86     73\n",
      "                            Potential Planners  53.40     81\n",
      "                            Planners            45.99     43\n",
      "                            Early Bookers       33.60     13\n",
      "Muğla        Herşey Dahil   Last Minutes        63.69   3851\n",
      "                            Potential Planners  62.41   2943\n",
      "                            Planners            63.44   1959\n",
      "                            Early Bookers       61.52   1067\n",
      "             Oda + Kahvaltı Last Minutes        51.09    331\n",
      "                            Potential Planners  63.11    149\n",
      "                            Planners            72.30    122\n",
      "                            Early Bookers       66.76     53\n",
      "             Yarım Pansiyon Last Minutes        41.88    104\n",
      "                            Potential Planners  45.29     50\n",
      "                            Planners            52.80     24\n",
      "                            Early Bookers       61.14      9\n",
      "İzmir        Herşey Dahil   Last Minutes        73.23    590\n",
      "                            Potential Planners  67.77    440\n",
      "                            Planners            80.04    231\n",
      "                            Early Bookers       96.79    121\n",
      "             Oda + Kahvaltı Last Minutes        40.46    163\n",
      "                            Potential Planners  36.81     41\n",
      "                            Planners            53.16     21\n",
      "                            Early Bookers       66.93      3\n",
      "             Yarım Pansiyon Last Minutes        57.79    637\n",
      "                            Potential Planners  64.79    199\n",
      "                            Planners            60.51     47\n",
      "                            Early Bookers       65.91     14\n"
     ]
    },
    {
     "data": {
      "application/vnd.plotly.v1+json": {
       "config": {
        "plotlyServerURL": "https://plot.ly"
       },
       "data": [
        {
         "alignmentgroup": "True",
         "customdata": [
          [
           14148
          ],
          [
           3966
          ],
          [
           155
          ],
          [
           24
          ],
          [
           3851
          ],
          [
           590
          ]
         ],
         "hovertemplate": "EB Score=Last Minutes<br>ConceptName=Herşey Dahil<br>SaleCityName=%{x}<br>Average Price=%{y}<br>Count=%{customdata[0]}<extra></extra>",
         "legendgroup": "Last Minutes",
         "marker": {
          "color": "#636efa",
          "pattern": {
           "shape": ""
          }
         },
         "name": "Last Minutes",
         "offsetgroup": "Last Minutes",
         "orientation": "v",
         "showlegend": true,
         "textposition": "auto",
         "type": "bar",
         "x": [
          "Antalya",
          "Aydın",
          "Diğer",
          "Girne",
          "Muğla",
          "İzmir"
         ],
         "xaxis": "x",
         "y": [
          62.752915731050415,
          51.71207313908049,
          75.46516164226676,
          93.24532074630794,
          63.688468198734824,
          73.22834885566073
         ],
         "yaxis": "y"
        },
        {
         "alignmentgroup": "True",
         "customdata": [
          [
           503
          ],
          [
           20
          ],
          [
           542
          ],
          [
           62
          ],
          [
           331
          ],
          [
           163
          ]
         ],
         "hovertemplate": "EB Score=Last Minutes<br>ConceptName=Oda + Kahvaltı<br>SaleCityName=%{x}<br>Average Price=%{y}<br>Count=%{customdata[0]}<extra></extra>",
         "legendgroup": "Last Minutes",
         "marker": {
          "color": "#636efa",
          "pattern": {
           "shape": ""
          }
         },
         "name": "Last Minutes",
         "offsetgroup": "Last Minutes",
         "orientation": "v",
         "showlegend": false,
         "textposition": "auto",
         "type": "bar",
         "x": [
          "Antalya",
          "Aydın",
          "Diğer",
          "Girne",
          "Muğla",
          "İzmir"
         ],
         "xaxis": "x2",
         "y": [
          65.35374004142867,
          37.800767609251764,
          38.24199158196406,
          37.57674106109922,
          51.0875315123926,
          40.45885470624699
         ],
         "yaxis": "y2"
        },
        {
         "alignmentgroup": "True",
         "customdata": [
          [
           204
          ],
          [
           18
          ],
          [
           1173
          ],
          [
           73
          ],
          [
           104
          ],
          [
           637
          ]
         ],
         "hovertemplate": "EB Score=Last Minutes<br>ConceptName=Yarım Pansiyon<br>SaleCityName=%{x}<br>Average Price=%{y}<br>Count=%{customdata[0]}<extra></extra>",
         "legendgroup": "Last Minutes",
         "marker": {
          "color": "#636efa",
          "pattern": {
           "shape": ""
          }
         },
         "name": "Last Minutes",
         "offsetgroup": "Last Minutes",
         "orientation": "v",
         "showlegend": false,
         "textposition": "auto",
         "type": "bar",
         "x": [
          "Antalya",
          "Aydın",
          "Diğer",
          "Girne",
          "Muğla",
          "İzmir"
         ],
         "xaxis": "x3",
         "y": [
          70.43357580291509,
          30.87101484915623,
          39.47465723609127,
          60.857098526443046,
          41.87953139316334,
          57.79371014890521
         ],
         "yaxis": "y3"
        },
        {
         "alignmentgroup": "True",
         "customdata": [
          [
           8876
          ],
          [
           2717
          ],
          [
           129
          ],
          [
           41
          ],
          [
           2943
          ],
          [
           440
          ]
         ],
         "hovertemplate": "EB Score=Potential Planners<br>ConceptName=Herşey Dahil<br>SaleCityName=%{x}<br>Average Price=%{y}<br>Count=%{customdata[0]}<extra></extra>",
         "legendgroup": "Potential Planners",
         "marker": {
          "color": "#EF553B",
          "pattern": {
           "shape": ""
          }
         },
         "name": "Potential Planners",
         "offsetgroup": "Potential Planners",
         "orientation": "v",
         "showlegend": true,
         "textposition": "auto",
         "type": "bar",
         "x": [
          "Antalya",
          "Aydın",
          "Diğer",
          "Girne",
          "Muğla",
          "İzmir"
         ],
         "xaxis": "x",
         "y": [
          64.90289796818509,
          52.0940449744441,
          85.79190939696849,
          94.94669656234902,
          62.4100608418385,
          67.77312736258914
         ],
         "yaxis": "y"
        },
        {
         "alignmentgroup": "True",
         "customdata": [
          [
           75
          ],
          [
           15
          ],
          [
           176
          ],
          [
           39
          ],
          [
           149
          ],
          [
           41
          ]
         ],
         "hovertemplate": "EB Score=Potential Planners<br>ConceptName=Oda + Kahvaltı<br>SaleCityName=%{x}<br>Average Price=%{y}<br>Count=%{customdata[0]}<extra></extra>",
         "legendgroup": "Potential Planners",
         "marker": {
          "color": "#EF553B",
          "pattern": {
           "shape": ""
          }
         },
         "name": "Potential Planners",
         "offsetgroup": "Potential Planners",
         "orientation": "v",
         "showlegend": false,
         "textposition": "auto",
         "type": "bar",
         "x": [
          "Antalya",
          "Aydın",
          "Diğer",
          "Girne",
          "Muğla",
          "İzmir"
         ],
         "xaxis": "x2",
         "y": [
          57.735542259965975,
          31.08030567050415,
          34.980158277222884,
          39.77320248657209,
          63.1064917792494,
          36.80777239649135
         ],
         "yaxis": "y2"
        },
        {
         "alignmentgroup": "True",
         "customdata": [
          [
           39
          ],
          [
           6
          ],
          [
           605
          ],
          [
           81
          ],
          [
           50
          ],
          [
           199
          ]
         ],
         "hovertemplate": "EB Score=Potential Planners<br>ConceptName=Yarım Pansiyon<br>SaleCityName=%{x}<br>Average Price=%{y}<br>Count=%{customdata[0]}<extra></extra>",
         "legendgroup": "Potential Planners",
         "marker": {
          "color": "#EF553B",
          "pattern": {
           "shape": ""
          }
         },
         "name": "Potential Planners",
         "offsetgroup": "Potential Planners",
         "orientation": "v",
         "showlegend": false,
         "textposition": "auto",
         "type": "bar",
         "x": [
          "Antalya",
          "Aydın",
          "Diğer",
          "Girne",
          "Muğla",
          "İzmir"
         ],
         "xaxis": "x3",
         "y": [
          55.63924224610302,
          23.732060131919436,
          45.69627615110386,
          53.39679978712322,
          45.291786106094506,
          64.78666153947736
         ],
         "yaxis": "y3"
        },
        {
         "alignmentgroup": "True",
         "customdata": [
          [
           4490
          ],
          [
           1834
          ],
          [
           120
          ],
          [
           25
          ],
          [
           1959
          ],
          [
           231
          ]
         ],
         "hovertemplate": "EB Score=Planners<br>ConceptName=Herşey Dahil<br>SaleCityName=%{x}<br>Average Price=%{y}<br>Count=%{customdata[0]}<extra></extra>",
         "legendgroup": "Planners",
         "marker": {
          "color": "#00cc96",
          "pattern": {
           "shape": ""
          }
         },
         "name": "Planners",
         "offsetgroup": "Planners",
         "orientation": "v",
         "showlegend": true,
         "textposition": "auto",
         "type": "bar",
         "x": [
          "Antalya",
          "Aydın",
          "Diğer",
          "Girne",
          "Muğla",
          "İzmir"
         ],
         "xaxis": "x",
         "y": [
          67.87995958624286,
          57.88288351199627,
          87.26376046472349,
          103.41293584902425,
          63.43600152285026,
          80.03520329103772
         ],
         "yaxis": "y"
        },
        {
         "alignmentgroup": "True",
         "customdata": [
          [
           15
          ],
          [
           2
          ],
          [
           35
          ],
          [
           28
          ],
          [
           122
          ],
          [
           21
          ]
         ],
         "hovertemplate": "EB Score=Planners<br>ConceptName=Oda + Kahvaltı<br>SaleCityName=%{x}<br>Average Price=%{y}<br>Count=%{customdata[0]}<extra></extra>",
         "legendgroup": "Planners",
         "marker": {
          "color": "#00cc96",
          "pattern": {
           "shape": ""
          }
         },
         "name": "Planners",
         "offsetgroup": "Planners",
         "orientation": "v",
         "showlegend": false,
         "textposition": "auto",
         "type": "bar",
         "x": [
          "Antalya",
          "Aydın",
          "Diğer",
          "Girne",
          "Muğla",
          "İzmir"
         ],
         "xaxis": "x2",
         "y": [
          39.8513302587271,
          30.203106953106953,
          43.955959519867534,
          43.15124713918477,
          72.30267764564843,
          53.15912176167537
         ],
         "yaxis": "y2"
        },
        {
         "alignmentgroup": "True",
         "customdata": [
          [
           9
          ],
          [
           6
          ],
          [
           173
          ],
          [
           43
          ],
          [
           24
          ],
          [
           47
          ]
         ],
         "hovertemplate": "EB Score=Planners<br>ConceptName=Yarım Pansiyon<br>SaleCityName=%{x}<br>Average Price=%{y}<br>Count=%{customdata[0]}<extra></extra>",
         "legendgroup": "Planners",
         "marker": {
          "color": "#00cc96",
          "pattern": {
           "shape": ""
          }
         },
         "name": "Planners",
         "offsetgroup": "Planners",
         "orientation": "v",
         "showlegend": false,
         "textposition": "auto",
         "type": "bar",
         "x": [
          "Antalya",
          "Aydın",
          "Diğer",
          "Girne",
          "Muğla",
          "İzmir"
         ],
         "xaxis": "x3",
         "y": [
          58.03291280024306,
          28.80659191802013,
          46.13805637432289,
          45.98922255713623,
          52.80237319212883,
          60.50788709299626
         ],
         "yaxis": "y3"
        },
        {
         "alignmentgroup": "True",
         "customdata": [
          [
           3281
          ],
          [
           2060
          ],
          [
           102
          ],
          [
           16
          ],
          [
           1067
          ],
          [
           121
          ]
         ],
         "hovertemplate": "EB Score=Early Bookers<br>ConceptName=Herşey Dahil<br>SaleCityName=%{x}<br>Average Price=%{y}<br>Count=%{customdata[0]}<extra></extra>",
         "legendgroup": "Early Bookers",
         "marker": {
          "color": "#ab63fa",
          "pattern": {
           "shape": ""
          }
         },
         "name": "Early Bookers",
         "offsetgroup": "Early Bookers",
         "orientation": "v",
         "showlegend": true,
         "textposition": "auto",
         "type": "bar",
         "x": [
          "Antalya",
          "Aydın",
          "Diğer",
          "Girne",
          "Muğla",
          "İzmir"
         ],
         "xaxis": "x",
         "y": [
          66.49488474310918,
          57.44203728470599,
          94.45920811094616,
          102.38482024368433,
          61.524855711742006,
          96.78602984372259
         ],
         "yaxis": "y"
        },
        {
         "alignmentgroup": "True",
         "customdata": [
          [
           5
          ],
          [
           1
          ],
          [
           8
          ],
          [
           10
          ],
          [
           53
          ],
          [
           3
          ]
         ],
         "hovertemplate": "EB Score=Early Bookers<br>ConceptName=Oda + Kahvaltı<br>SaleCityName=%{x}<br>Average Price=%{y}<br>Count=%{customdata[0]}<extra></extra>",
         "legendgroup": "Early Bookers",
         "marker": {
          "color": "#ab63fa",
          "pattern": {
           "shape": ""
          }
         },
         "name": "Early Bookers",
         "offsetgroup": "Early Bookers",
         "orientation": "v",
         "showlegend": false,
         "textposition": "auto",
         "type": "bar",
         "x": [
          "Antalya",
          "Aydın",
          "Diğer",
          "Girne",
          "Muğla",
          "İzmir"
         ],
         "xaxis": "x2",
         "y": [
          35.0025939281647,
          26.80776014109348,
          35.719883750634324,
          43.96517166644651,
          66.75990642894733,
          66.92811098366654
         ],
         "yaxis": "y2"
        },
        {
         "alignmentgroup": "True",
         "customdata": [
          [
           4
          ],
          [
           1
          ],
          [
           27
          ],
          [
           13
          ],
          [
           9
          ],
          [
           14
          ]
         ],
         "hovertemplate": "EB Score=Early Bookers<br>ConceptName=Yarım Pansiyon<br>SaleCityName=%{x}<br>Average Price=%{y}<br>Count=%{customdata[0]}<extra></extra>",
         "legendgroup": "Early Bookers",
         "marker": {
          "color": "#ab63fa",
          "pattern": {
           "shape": ""
          }
         },
         "name": "Early Bookers",
         "offsetgroup": "Early Bookers",
         "orientation": "v",
         "showlegend": false,
         "textposition": "auto",
         "type": "bar",
         "x": [
          "Antalya",
          "Aydın",
          "Diğer",
          "Girne",
          "Muğla",
          "İzmir"
         ],
         "xaxis": "x3",
         "y": [
          35.030208120819424,
          59.60264900662252,
          50.684448899025334,
          33.60003738845648,
          61.14390960338715,
          65.9055826864046
         ],
         "yaxis": "y3"
        }
       ],
       "layout": {
        "annotations": [
         {
          "font": {},
          "showarrow": false,
          "text": "ConceptName=Herşey Dahil",
          "x": 0.15999999999999998,
          "xanchor": "center",
          "xref": "paper",
          "y": 1,
          "yanchor": "bottom",
          "yref": "paper"
         },
         {
          "font": {},
          "showarrow": false,
          "text": "ConceptName=Oda + Kahvaltı",
          "x": 0.49999999999999994,
          "xanchor": "center",
          "xref": "paper",
          "y": 1,
          "yanchor": "bottom",
          "yref": "paper"
         },
         {
          "font": {},
          "showarrow": false,
          "text": "ConceptName=Yarım Pansiyon",
          "x": 0.8399999999999999,
          "xanchor": "center",
          "xref": "paper",
          "y": 1,
          "yanchor": "bottom",
          "yref": "paper"
         }
        ],
        "barmode": "relative",
        "legend": {
         "title": {
          "text": "EB Score"
         },
         "tracegroupgap": 0
        },
        "template": {
         "data": {
          "bar": [
           {
            "error_x": {
             "color": "#2a3f5f"
            },
            "error_y": {
             "color": "#2a3f5f"
            },
            "marker": {
             "line": {
              "color": "#E5ECF6",
              "width": 0.5
             },
             "pattern": {
              "fillmode": "overlay",
              "size": 10,
              "solidity": 0.2
             }
            },
            "type": "bar"
           }
          ],
          "barpolar": [
           {
            "marker": {
             "line": {
              "color": "#E5ECF6",
              "width": 0.5
             },
             "pattern": {
              "fillmode": "overlay",
              "size": 10,
              "solidity": 0.2
             }
            },
            "type": "barpolar"
           }
          ],
          "carpet": [
           {
            "aaxis": {
             "endlinecolor": "#2a3f5f",
             "gridcolor": "white",
             "linecolor": "white",
             "minorgridcolor": "white",
             "startlinecolor": "#2a3f5f"
            },
            "baxis": {
             "endlinecolor": "#2a3f5f",
             "gridcolor": "white",
             "linecolor": "white",
             "minorgridcolor": "white",
             "startlinecolor": "#2a3f5f"
            },
            "type": "carpet"
           }
          ],
          "choropleth": [
           {
            "colorbar": {
             "outlinewidth": 0,
             "ticks": ""
            },
            "type": "choropleth"
           }
          ],
          "contour": [
           {
            "colorbar": {
             "outlinewidth": 0,
             "ticks": ""
            },
            "colorscale": [
             [
              0,
              "#0d0887"
             ],
             [
              0.1111111111111111,
              "#46039f"
             ],
             [
              0.2222222222222222,
              "#7201a8"
             ],
             [
              0.3333333333333333,
              "#9c179e"
             ],
             [
              0.4444444444444444,
              "#bd3786"
             ],
             [
              0.5555555555555556,
              "#d8576b"
             ],
             [
              0.6666666666666666,
              "#ed7953"
             ],
             [
              0.7777777777777778,
              "#fb9f3a"
             ],
             [
              0.8888888888888888,
              "#fdca26"
             ],
             [
              1,
              "#f0f921"
             ]
            ],
            "type": "contour"
           }
          ],
          "contourcarpet": [
           {
            "colorbar": {
             "outlinewidth": 0,
             "ticks": ""
            },
            "type": "contourcarpet"
           }
          ],
          "heatmap": [
           {
            "colorbar": {
             "outlinewidth": 0,
             "ticks": ""
            },
            "colorscale": [
             [
              0,
              "#0d0887"
             ],
             [
              0.1111111111111111,
              "#46039f"
             ],
             [
              0.2222222222222222,
              "#7201a8"
             ],
             [
              0.3333333333333333,
              "#9c179e"
             ],
             [
              0.4444444444444444,
              "#bd3786"
             ],
             [
              0.5555555555555556,
              "#d8576b"
             ],
             [
              0.6666666666666666,
              "#ed7953"
             ],
             [
              0.7777777777777778,
              "#fb9f3a"
             ],
             [
              0.8888888888888888,
              "#fdca26"
             ],
             [
              1,
              "#f0f921"
             ]
            ],
            "type": "heatmap"
           }
          ],
          "heatmapgl": [
           {
            "colorbar": {
             "outlinewidth": 0,
             "ticks": ""
            },
            "colorscale": [
             [
              0,
              "#0d0887"
             ],
             [
              0.1111111111111111,
              "#46039f"
             ],
             [
              0.2222222222222222,
              "#7201a8"
             ],
             [
              0.3333333333333333,
              "#9c179e"
             ],
             [
              0.4444444444444444,
              "#bd3786"
             ],
             [
              0.5555555555555556,
              "#d8576b"
             ],
             [
              0.6666666666666666,
              "#ed7953"
             ],
             [
              0.7777777777777778,
              "#fb9f3a"
             ],
             [
              0.8888888888888888,
              "#fdca26"
             ],
             [
              1,
              "#f0f921"
             ]
            ],
            "type": "heatmapgl"
           }
          ],
          "histogram": [
           {
            "marker": {
             "pattern": {
              "fillmode": "overlay",
              "size": 10,
              "solidity": 0.2
             }
            },
            "type": "histogram"
           }
          ],
          "histogram2d": [
           {
            "colorbar": {
             "outlinewidth": 0,
             "ticks": ""
            },
            "colorscale": [
             [
              0,
              "#0d0887"
             ],
             [
              0.1111111111111111,
              "#46039f"
             ],
             [
              0.2222222222222222,
              "#7201a8"
             ],
             [
              0.3333333333333333,
              "#9c179e"
             ],
             [
              0.4444444444444444,
              "#bd3786"
             ],
             [
              0.5555555555555556,
              "#d8576b"
             ],
             [
              0.6666666666666666,
              "#ed7953"
             ],
             [
              0.7777777777777778,
              "#fb9f3a"
             ],
             [
              0.8888888888888888,
              "#fdca26"
             ],
             [
              1,
              "#f0f921"
             ]
            ],
            "type": "histogram2d"
           }
          ],
          "histogram2dcontour": [
           {
            "colorbar": {
             "outlinewidth": 0,
             "ticks": ""
            },
            "colorscale": [
             [
              0,
              "#0d0887"
             ],
             [
              0.1111111111111111,
              "#46039f"
             ],
             [
              0.2222222222222222,
              "#7201a8"
             ],
             [
              0.3333333333333333,
              "#9c179e"
             ],
             [
              0.4444444444444444,
              "#bd3786"
             ],
             [
              0.5555555555555556,
              "#d8576b"
             ],
             [
              0.6666666666666666,
              "#ed7953"
             ],
             [
              0.7777777777777778,
              "#fb9f3a"
             ],
             [
              0.8888888888888888,
              "#fdca26"
             ],
             [
              1,
              "#f0f921"
             ]
            ],
            "type": "histogram2dcontour"
           }
          ],
          "mesh3d": [
           {
            "colorbar": {
             "outlinewidth": 0,
             "ticks": ""
            },
            "type": "mesh3d"
           }
          ],
          "parcoords": [
           {
            "line": {
             "colorbar": {
              "outlinewidth": 0,
              "ticks": ""
             }
            },
            "type": "parcoords"
           }
          ],
          "pie": [
           {
            "automargin": true,
            "type": "pie"
           }
          ],
          "scatter": [
           {
            "fillpattern": {
             "fillmode": "overlay",
             "size": 10,
             "solidity": 0.2
            },
            "type": "scatter"
           }
          ],
          "scatter3d": [
           {
            "line": {
             "colorbar": {
              "outlinewidth": 0,
              "ticks": ""
             }
            },
            "marker": {
             "colorbar": {
              "outlinewidth": 0,
              "ticks": ""
             }
            },
            "type": "scatter3d"
           }
          ],
          "scattercarpet": [
           {
            "marker": {
             "colorbar": {
              "outlinewidth": 0,
              "ticks": ""
             }
            },
            "type": "scattercarpet"
           }
          ],
          "scattergeo": [
           {
            "marker": {
             "colorbar": {
              "outlinewidth": 0,
              "ticks": ""
             }
            },
            "type": "scattergeo"
           }
          ],
          "scattergl": [
           {
            "marker": {
             "colorbar": {
              "outlinewidth": 0,
              "ticks": ""
             }
            },
            "type": "scattergl"
           }
          ],
          "scattermapbox": [
           {
            "marker": {
             "colorbar": {
              "outlinewidth": 0,
              "ticks": ""
             }
            },
            "type": "scattermapbox"
           }
          ],
          "scatterpolar": [
           {
            "marker": {
             "colorbar": {
              "outlinewidth": 0,
              "ticks": ""
             }
            },
            "type": "scatterpolar"
           }
          ],
          "scatterpolargl": [
           {
            "marker": {
             "colorbar": {
              "outlinewidth": 0,
              "ticks": ""
             }
            },
            "type": "scatterpolargl"
           }
          ],
          "scatterternary": [
           {
            "marker": {
             "colorbar": {
              "outlinewidth": 0,
              "ticks": ""
             }
            },
            "type": "scatterternary"
           }
          ],
          "surface": [
           {
            "colorbar": {
             "outlinewidth": 0,
             "ticks": ""
            },
            "colorscale": [
             [
              0,
              "#0d0887"
             ],
             [
              0.1111111111111111,
              "#46039f"
             ],
             [
              0.2222222222222222,
              "#7201a8"
             ],
             [
              0.3333333333333333,
              "#9c179e"
             ],
             [
              0.4444444444444444,
              "#bd3786"
             ],
             [
              0.5555555555555556,
              "#d8576b"
             ],
             [
              0.6666666666666666,
              "#ed7953"
             ],
             [
              0.7777777777777778,
              "#fb9f3a"
             ],
             [
              0.8888888888888888,
              "#fdca26"
             ],
             [
              1,
              "#f0f921"
             ]
            ],
            "type": "surface"
           }
          ],
          "table": [
           {
            "cells": {
             "fill": {
              "color": "#EBF0F8"
             },
             "line": {
              "color": "white"
             }
            },
            "header": {
             "fill": {
              "color": "#C8D4E3"
             },
             "line": {
              "color": "white"
             }
            },
            "type": "table"
           }
          ]
         },
         "layout": {
          "annotationdefaults": {
           "arrowcolor": "#2a3f5f",
           "arrowhead": 0,
           "arrowwidth": 1
          },
          "autotypenumbers": "strict",
          "coloraxis": {
           "colorbar": {
            "outlinewidth": 0,
            "ticks": ""
           }
          },
          "colorscale": {
           "diverging": [
            [
             0,
             "#8e0152"
            ],
            [
             0.1,
             "#c51b7d"
            ],
            [
             0.2,
             "#de77ae"
            ],
            [
             0.3,
             "#f1b6da"
            ],
            [
             0.4,
             "#fde0ef"
            ],
            [
             0.5,
             "#f7f7f7"
            ],
            [
             0.6,
             "#e6f5d0"
            ],
            [
             0.7,
             "#b8e186"
            ],
            [
             0.8,
             "#7fbc41"
            ],
            [
             0.9,
             "#4d9221"
            ],
            [
             1,
             "#276419"
            ]
           ],
           "sequential": [
            [
             0,
             "#0d0887"
            ],
            [
             0.1111111111111111,
             "#46039f"
            ],
            [
             0.2222222222222222,
             "#7201a8"
            ],
            [
             0.3333333333333333,
             "#9c179e"
            ],
            [
             0.4444444444444444,
             "#bd3786"
            ],
            [
             0.5555555555555556,
             "#d8576b"
            ],
            [
             0.6666666666666666,
             "#ed7953"
            ],
            [
             0.7777777777777778,
             "#fb9f3a"
            ],
            [
             0.8888888888888888,
             "#fdca26"
            ],
            [
             1,
             "#f0f921"
            ]
           ],
           "sequentialminus": [
            [
             0,
             "#0d0887"
            ],
            [
             0.1111111111111111,
             "#46039f"
            ],
            [
             0.2222222222222222,
             "#7201a8"
            ],
            [
             0.3333333333333333,
             "#9c179e"
            ],
            [
             0.4444444444444444,
             "#bd3786"
            ],
            [
             0.5555555555555556,
             "#d8576b"
            ],
            [
             0.6666666666666666,
             "#ed7953"
            ],
            [
             0.7777777777777778,
             "#fb9f3a"
            ],
            [
             0.8888888888888888,
             "#fdca26"
            ],
            [
             1,
             "#f0f921"
            ]
           ]
          },
          "colorway": [
           "#636efa",
           "#EF553B",
           "#00cc96",
           "#ab63fa",
           "#FFA15A",
           "#19d3f3",
           "#FF6692",
           "#B6E880",
           "#FF97FF",
           "#FECB52"
          ],
          "font": {
           "color": "#2a3f5f"
          },
          "geo": {
           "bgcolor": "white",
           "lakecolor": "white",
           "landcolor": "#E5ECF6",
           "showlakes": true,
           "showland": true,
           "subunitcolor": "white"
          },
          "hoverlabel": {
           "align": "left"
          },
          "hovermode": "closest",
          "mapbox": {
           "style": "light"
          },
          "paper_bgcolor": "white",
          "plot_bgcolor": "#E5ECF6",
          "polar": {
           "angularaxis": {
            "gridcolor": "white",
            "linecolor": "white",
            "ticks": ""
           },
           "bgcolor": "#E5ECF6",
           "radialaxis": {
            "gridcolor": "white",
            "linecolor": "white",
            "ticks": ""
           }
          },
          "scene": {
           "xaxis": {
            "backgroundcolor": "#E5ECF6",
            "gridcolor": "white",
            "gridwidth": 2,
            "linecolor": "white",
            "showbackground": true,
            "ticks": "",
            "zerolinecolor": "white"
           },
           "yaxis": {
            "backgroundcolor": "#E5ECF6",
            "gridcolor": "white",
            "gridwidth": 2,
            "linecolor": "white",
            "showbackground": true,
            "ticks": "",
            "zerolinecolor": "white"
           },
           "zaxis": {
            "backgroundcolor": "#E5ECF6",
            "gridcolor": "white",
            "gridwidth": 2,
            "linecolor": "white",
            "showbackground": true,
            "ticks": "",
            "zerolinecolor": "white"
           }
          },
          "shapedefaults": {
           "line": {
            "color": "#2a3f5f"
           }
          },
          "ternary": {
           "aaxis": {
            "gridcolor": "white",
            "linecolor": "white",
            "ticks": ""
           },
           "baxis": {
            "gridcolor": "white",
            "linecolor": "white",
            "ticks": ""
           },
           "bgcolor": "#E5ECF6",
           "caxis": {
            "gridcolor": "white",
            "linecolor": "white",
            "ticks": ""
           }
          },
          "title": {
           "x": 0.05
          },
          "xaxis": {
           "automargin": true,
           "gridcolor": "white",
           "linecolor": "white",
           "ticks": "",
           "title": {
            "standoff": 15
           },
           "zerolinecolor": "white",
           "zerolinewidth": 2
          },
          "yaxis": {
           "automargin": true,
           "gridcolor": "white",
           "linecolor": "white",
           "ticks": "",
           "title": {
            "standoff": 15
           },
           "zerolinecolor": "white",
           "zerolinewidth": 2
          }
         }
        },
        "title": {
         "text": "Average Prices by City-Concept-EB Score"
        },
        "xaxis": {
         "anchor": "y",
         "domain": [
          0,
          0.31999999999999995
         ],
         "title": {
          "text": "SaleCityName"
         }
        },
        "xaxis2": {
         "anchor": "y2",
         "domain": [
          0.33999999999999997,
          0.6599999999999999
         ],
         "matches": "x",
         "title": {
          "text": "SaleCityName"
         }
        },
        "xaxis3": {
         "anchor": "y3",
         "domain": [
          0.6799999999999999,
          0.9999999999999999
         ],
         "matches": "x",
         "title": {
          "text": "SaleCityName"
         }
        },
        "yaxis": {
         "anchor": "x",
         "domain": [
          0,
          1
         ],
         "title": {
          "text": "Average Price"
         }
        },
        "yaxis2": {
         "anchor": "x2",
         "domain": [
          0,
          1
         ],
         "matches": "y",
         "showticklabels": false
        },
        "yaxis3": {
         "anchor": "x3",
         "domain": [
          0,
          1
         ],
         "matches": "y",
         "showticklabels": false
        }
       }
      }
     },
     "metadata": {},
     "output_type": "display_data"
    }
   ],
   "source": [
    "# Average salaries by City-Concept-EB Score\n",
    "print(df.groupby([\"SaleCityName\", \"ConceptName\", \"EB_Score\"]).agg({\"Price\": [\"mean\", \"count\"]}))\n",
    "\n",
    "\n",
    "mean_count_price_by_city_concept_eb = df.groupby([\"SaleCityName\", \"ConceptName\", \"EB_Score\"]).agg({\"Price\": [\"mean\", \"count\"]}).reset_index()\n",
    "mean_count_price_by_city_concept_eb.columns = [\"SaleCityName\", \"ConceptName\", \"EB_Score\", \"Mean_Price\", \"Count\"]\n",
    "\n",
    "# Graph creation\n",
    "fig = px.bar(mean_count_price_by_city_concept_eb, x=\"SaleCityName\", y=\"Mean_Price\", color=\"EB_Score\",\n",
    "             facet_col=\"ConceptName\",\n",
    "             title=\"Average Prices by City-Concept-EB Score\",\n",
    "             labels={\"EB_Score\": \"EB Score\", \"Mean_Price\": \"Average Price\"},\n",
    "             hover_data=[\"Count\"])\n",
    "\n",
    "# Updating axis labels\n",
    "fig.update_layout(xaxis_title=\"SaleCityName\", yaxis_title=\"Average Price\")\n",
    "\n",
    "# Showing the graph\n",
    "fig.show()\n",
    "# In this multi-dimensional analysis, we are examining the average prices and number of bookings across three key factors: cities, accommodation concepts, \n",
    "# and booking behavior (EB_Score). We aim to understand how these factors interact and affect both pricing and booking volumes, which helps us identify \n",
    "# popular combinations and their associated pricing patterns.\n",
    "\n"
   ]
  },
  {
   "cell_type": "code",
   "execution_count": 38,
   "metadata": {},
   "outputs": [
    {
     "name": "stdout",
     "output_type": "stream",
     "text": [
      "                                     Price       \n",
      "                                      mean  count\n",
      "SaleCityName ConceptName    Seasons              \n",
      "Antalya      Herşey Dahil   High     64.92  27126\n",
      "                            Low      61.55   3669\n",
      "             Oda + Kahvaltı High     66.27    303\n",
      "                            Low      60.67    295\n",
      "             Yarım Pansiyon High     73.26    118\n",
      "                            Low      62.00    138\n",
      "Aydın        Herşey Dahil   High     54.95  10104\n",
      "                            Low      33.68    473\n",
      "             Oda + Kahvaltı High     30.39     27\n",
      "                            Low      44.45     11\n",
      "             Yarım Pansiyon High     32.63     20\n",
      "                            Low      25.27     11\n",
      "Diğer        Herşey Dahil   High     83.73    365\n",
      "                            Low      87.31    141\n",
      "             Oda + Kahvaltı High     35.07    352\n",
      "                            Low      40.01    409\n",
      "             Yarım Pansiyon High     39.73    516\n",
      "                            Low      42.95   1462\n",
      "Girne        Herşey Dahil   High    103.94     55\n",
      "                            Low      90.94     51\n",
      "             Oda + Kahvaltı High     39.48     66\n",
      "                            Low      40.04     73\n",
      "             Yarım Pansiyon High     58.38    100\n",
      "                            Low      48.58    110\n",
      "Muğla        Herşey Dahil   High     63.38   9583\n",
      "                            Low      48.30    237\n",
      "             Oda + Kahvaltı High     61.26    593\n",
      "                            Low      37.77     62\n",
      "             Yarım Pansiyon High     45.82    177\n",
      "                            Low      32.68     10\n",
      "İzmir        Herşey Dahil   High     74.74   1235\n",
      "                            Low      74.31    147\n",
      "             Oda + Kahvaltı High     54.14     86\n",
      "                            Low      33.56    142\n",
      "             Yarım Pansiyon High     87.22    120\n",
      "                            Low      55.35    777\n"
     ]
    },
    {
     "data": {
      "application/vnd.plotly.v1+json": {
       "config": {
        "plotlyServerURL": "https://plot.ly"
       },
       "data": [
        {
         "alignmentgroup": "True",
         "customdata": [
          [
           27126
          ],
          [
           10104
          ],
          [
           365
          ],
          [
           55
          ],
          [
           9583
          ],
          [
           1235
          ]
         ],
         "hovertemplate": "Season=High<br>ConceptName=Herşey Dahil<br>SaleCityName=%{x}<br>Average Price=%{y}<br>Count=%{customdata[0]}<extra></extra>",
         "legendgroup": "High",
         "marker": {
          "color": "#636efa",
          "pattern": {
           "shape": ""
          }
         },
         "name": "High",
         "offsetgroup": "High",
         "orientation": "v",
         "showlegend": true,
         "textposition": "auto",
         "type": "bar",
         "x": [
          "Antalya",
          "Aydın",
          "Diğer",
          "Girne",
          "Muğla",
          "İzmir"
         ],
         "xaxis": "x",
         "y": [
          64.92006453392972,
          54.94719289254895,
          83.72578761691128,
          103.93544773058629,
          63.38382340792294,
          74.73751031493332
         ],
         "yaxis": "y"
        },
        {
         "alignmentgroup": "True",
         "customdata": [
          [
           303
          ],
          [
           27
          ],
          [
           352
          ],
          [
           66
          ],
          [
           593
          ],
          [
           86
          ]
         ],
         "hovertemplate": "Season=High<br>ConceptName=Oda + Kahvaltı<br>SaleCityName=%{x}<br>Average Price=%{y}<br>Count=%{customdata[0]}<extra></extra>",
         "legendgroup": "High",
         "marker": {
          "color": "#636efa",
          "pattern": {
           "shape": ""
          }
         },
         "name": "High",
         "offsetgroup": "High",
         "orientation": "v",
         "showlegend": false,
         "textposition": "auto",
         "type": "bar",
         "x": [
          "Antalya",
          "Aydın",
          "Diğer",
          "Girne",
          "Muğla",
          "İzmir"
         ],
         "xaxis": "x2",
         "y": [
          66.26796897719366,
          30.38752955503549,
          35.065442630470685,
          39.47963020062443,
          61.26482628400223,
          54.14179690647607
         ],
         "yaxis": "y2"
        },
        {
         "alignmentgroup": "True",
         "customdata": [
          [
           118
          ],
          [
           20
          ],
          [
           516
          ],
          [
           100
          ],
          [
           177
          ],
          [
           120
          ]
         ],
         "hovertemplate": "Season=High<br>ConceptName=Yarım Pansiyon<br>SaleCityName=%{x}<br>Average Price=%{y}<br>Count=%{customdata[0]}<extra></extra>",
         "legendgroup": "High",
         "marker": {
          "color": "#636efa",
          "pattern": {
           "shape": ""
          }
         },
         "name": "High",
         "offsetgroup": "High",
         "orientation": "v",
         "showlegend": false,
         "textposition": "auto",
         "type": "bar",
         "x": [
          "Antalya",
          "Aydın",
          "Diğer",
          "Girne",
          "Muğla",
          "İzmir"
         ],
         "xaxis": "x3",
         "y": [
          73.25902909106263,
          32.626151943115865,
          39.731916189847965,
          58.383667540209146,
          45.82369825423796,
          87.21876511228956
         ],
         "yaxis": "y3"
        },
        {
         "alignmentgroup": "True",
         "customdata": [
          [
           3669
          ],
          [
           473
          ],
          [
           141
          ],
          [
           51
          ],
          [
           237
          ],
          [
           147
          ]
         ],
         "hovertemplate": "Season=Low<br>ConceptName=Herşey Dahil<br>SaleCityName=%{x}<br>Average Price=%{y}<br>Count=%{customdata[0]}<extra></extra>",
         "legendgroup": "Low",
         "marker": {
          "color": "#EF553B",
          "pattern": {
           "shape": ""
          }
         },
         "name": "Low",
         "offsetgroup": "Low",
         "orientation": "v",
         "showlegend": true,
         "textposition": "auto",
         "type": "bar",
         "x": [
          "Antalya",
          "Aydın",
          "Diğer",
          "Girne",
          "Muğla",
          "İzmir"
         ],
         "xaxis": "x",
         "y": [
          61.552313700056196,
          33.68069861805234,
          87.31088205440422,
          90.93594415509826,
          48.3040860777445,
          74.3082870527656
         ],
         "yaxis": "y"
        },
        {
         "alignmentgroup": "True",
         "customdata": [
          [
           295
          ],
          [
           11
          ],
          [
           409
          ],
          [
           73
          ],
          [
           62
          ],
          [
           142
          ]
         ],
         "hovertemplate": "Season=Low<br>ConceptName=Oda + Kahvaltı<br>SaleCityName=%{x}<br>Average Price=%{y}<br>Count=%{customdata[0]}<extra></extra>",
         "legendgroup": "Low",
         "marker": {
          "color": "#EF553B",
          "pattern": {
           "shape": ""
          }
         },
         "name": "Low",
         "offsetgroup": "Low",
         "orientation": "v",
         "showlegend": false,
         "textposition": "auto",
         "type": "bar",
         "x": [
          "Antalya",
          "Aydın",
          "Diğer",
          "Girne",
          "Muğla",
          "İzmir"
         ],
         "xaxis": "x2",
         "y": [
          60.66672960599361,
          44.45187393672243,
          40.011856091663816,
          40.043066932669724,
          37.77419246451788,
          33.555234798335526
         ],
         "yaxis": "y2"
        },
        {
         "alignmentgroup": "True",
         "customdata": [
          [
           138
          ],
          [
           11
          ],
          [
           1462
          ],
          [
           110
          ],
          [
           10
          ],
          [
           777
          ]
         ],
         "hovertemplate": "Season=Low<br>ConceptName=Yarım Pansiyon<br>SaleCityName=%{x}<br>Average Price=%{y}<br>Count=%{customdata[0]}<extra></extra>",
         "legendgroup": "Low",
         "marker": {
          "color": "#EF553B",
          "pattern": {
           "shape": ""
          }
         },
         "name": "Low",
         "offsetgroup": "Low",
         "orientation": "v",
         "showlegend": false,
         "textposition": "auto",
         "type": "bar",
         "x": [
          "Antalya",
          "Aydın",
          "Diğer",
          "Girne",
          "Muğla",
          "İzmir"
         ],
         "xaxis": "x3",
         "y": [
          62.00167772704905,
          25.271799066250427,
          42.953977516021126,
          48.57890251975637,
          32.68181222351695,
          55.35062554532092
         ],
         "yaxis": "y3"
        }
       ],
       "layout": {
        "annotations": [
         {
          "font": {},
          "showarrow": false,
          "text": "ConceptName=Herşey Dahil",
          "x": 0.15999999999999998,
          "xanchor": "center",
          "xref": "paper",
          "y": 1,
          "yanchor": "bottom",
          "yref": "paper"
         },
         {
          "font": {},
          "showarrow": false,
          "text": "ConceptName=Oda + Kahvaltı",
          "x": 0.49999999999999994,
          "xanchor": "center",
          "xref": "paper",
          "y": 1,
          "yanchor": "bottom",
          "yref": "paper"
         },
         {
          "font": {},
          "showarrow": false,
          "text": "ConceptName=Yarım Pansiyon",
          "x": 0.8399999999999999,
          "xanchor": "center",
          "xref": "paper",
          "y": 1,
          "yanchor": "bottom",
          "yref": "paper"
         }
        ],
        "barmode": "relative",
        "legend": {
         "title": {
          "text": "Season"
         },
         "tracegroupgap": 0
        },
        "template": {
         "data": {
          "bar": [
           {
            "error_x": {
             "color": "#2a3f5f"
            },
            "error_y": {
             "color": "#2a3f5f"
            },
            "marker": {
             "line": {
              "color": "#E5ECF6",
              "width": 0.5
             },
             "pattern": {
              "fillmode": "overlay",
              "size": 10,
              "solidity": 0.2
             }
            },
            "type": "bar"
           }
          ],
          "barpolar": [
           {
            "marker": {
             "line": {
              "color": "#E5ECF6",
              "width": 0.5
             },
             "pattern": {
              "fillmode": "overlay",
              "size": 10,
              "solidity": 0.2
             }
            },
            "type": "barpolar"
           }
          ],
          "carpet": [
           {
            "aaxis": {
             "endlinecolor": "#2a3f5f",
             "gridcolor": "white",
             "linecolor": "white",
             "minorgridcolor": "white",
             "startlinecolor": "#2a3f5f"
            },
            "baxis": {
             "endlinecolor": "#2a3f5f",
             "gridcolor": "white",
             "linecolor": "white",
             "minorgridcolor": "white",
             "startlinecolor": "#2a3f5f"
            },
            "type": "carpet"
           }
          ],
          "choropleth": [
           {
            "colorbar": {
             "outlinewidth": 0,
             "ticks": ""
            },
            "type": "choropleth"
           }
          ],
          "contour": [
           {
            "colorbar": {
             "outlinewidth": 0,
             "ticks": ""
            },
            "colorscale": [
             [
              0,
              "#0d0887"
             ],
             [
              0.1111111111111111,
              "#46039f"
             ],
             [
              0.2222222222222222,
              "#7201a8"
             ],
             [
              0.3333333333333333,
              "#9c179e"
             ],
             [
              0.4444444444444444,
              "#bd3786"
             ],
             [
              0.5555555555555556,
              "#d8576b"
             ],
             [
              0.6666666666666666,
              "#ed7953"
             ],
             [
              0.7777777777777778,
              "#fb9f3a"
             ],
             [
              0.8888888888888888,
              "#fdca26"
             ],
             [
              1,
              "#f0f921"
             ]
            ],
            "type": "contour"
           }
          ],
          "contourcarpet": [
           {
            "colorbar": {
             "outlinewidth": 0,
             "ticks": ""
            },
            "type": "contourcarpet"
           }
          ],
          "heatmap": [
           {
            "colorbar": {
             "outlinewidth": 0,
             "ticks": ""
            },
            "colorscale": [
             [
              0,
              "#0d0887"
             ],
             [
              0.1111111111111111,
              "#46039f"
             ],
             [
              0.2222222222222222,
              "#7201a8"
             ],
             [
              0.3333333333333333,
              "#9c179e"
             ],
             [
              0.4444444444444444,
              "#bd3786"
             ],
             [
              0.5555555555555556,
              "#d8576b"
             ],
             [
              0.6666666666666666,
              "#ed7953"
             ],
             [
              0.7777777777777778,
              "#fb9f3a"
             ],
             [
              0.8888888888888888,
              "#fdca26"
             ],
             [
              1,
              "#f0f921"
             ]
            ],
            "type": "heatmap"
           }
          ],
          "heatmapgl": [
           {
            "colorbar": {
             "outlinewidth": 0,
             "ticks": ""
            },
            "colorscale": [
             [
              0,
              "#0d0887"
             ],
             [
              0.1111111111111111,
              "#46039f"
             ],
             [
              0.2222222222222222,
              "#7201a8"
             ],
             [
              0.3333333333333333,
              "#9c179e"
             ],
             [
              0.4444444444444444,
              "#bd3786"
             ],
             [
              0.5555555555555556,
              "#d8576b"
             ],
             [
              0.6666666666666666,
              "#ed7953"
             ],
             [
              0.7777777777777778,
              "#fb9f3a"
             ],
             [
              0.8888888888888888,
              "#fdca26"
             ],
             [
              1,
              "#f0f921"
             ]
            ],
            "type": "heatmapgl"
           }
          ],
          "histogram": [
           {
            "marker": {
             "pattern": {
              "fillmode": "overlay",
              "size": 10,
              "solidity": 0.2
             }
            },
            "type": "histogram"
           }
          ],
          "histogram2d": [
           {
            "colorbar": {
             "outlinewidth": 0,
             "ticks": ""
            },
            "colorscale": [
             [
              0,
              "#0d0887"
             ],
             [
              0.1111111111111111,
              "#46039f"
             ],
             [
              0.2222222222222222,
              "#7201a8"
             ],
             [
              0.3333333333333333,
              "#9c179e"
             ],
             [
              0.4444444444444444,
              "#bd3786"
             ],
             [
              0.5555555555555556,
              "#d8576b"
             ],
             [
              0.6666666666666666,
              "#ed7953"
             ],
             [
              0.7777777777777778,
              "#fb9f3a"
             ],
             [
              0.8888888888888888,
              "#fdca26"
             ],
             [
              1,
              "#f0f921"
             ]
            ],
            "type": "histogram2d"
           }
          ],
          "histogram2dcontour": [
           {
            "colorbar": {
             "outlinewidth": 0,
             "ticks": ""
            },
            "colorscale": [
             [
              0,
              "#0d0887"
             ],
             [
              0.1111111111111111,
              "#46039f"
             ],
             [
              0.2222222222222222,
              "#7201a8"
             ],
             [
              0.3333333333333333,
              "#9c179e"
             ],
             [
              0.4444444444444444,
              "#bd3786"
             ],
             [
              0.5555555555555556,
              "#d8576b"
             ],
             [
              0.6666666666666666,
              "#ed7953"
             ],
             [
              0.7777777777777778,
              "#fb9f3a"
             ],
             [
              0.8888888888888888,
              "#fdca26"
             ],
             [
              1,
              "#f0f921"
             ]
            ],
            "type": "histogram2dcontour"
           }
          ],
          "mesh3d": [
           {
            "colorbar": {
             "outlinewidth": 0,
             "ticks": ""
            },
            "type": "mesh3d"
           }
          ],
          "parcoords": [
           {
            "line": {
             "colorbar": {
              "outlinewidth": 0,
              "ticks": ""
             }
            },
            "type": "parcoords"
           }
          ],
          "pie": [
           {
            "automargin": true,
            "type": "pie"
           }
          ],
          "scatter": [
           {
            "fillpattern": {
             "fillmode": "overlay",
             "size": 10,
             "solidity": 0.2
            },
            "type": "scatter"
           }
          ],
          "scatter3d": [
           {
            "line": {
             "colorbar": {
              "outlinewidth": 0,
              "ticks": ""
             }
            },
            "marker": {
             "colorbar": {
              "outlinewidth": 0,
              "ticks": ""
             }
            },
            "type": "scatter3d"
           }
          ],
          "scattercarpet": [
           {
            "marker": {
             "colorbar": {
              "outlinewidth": 0,
              "ticks": ""
             }
            },
            "type": "scattercarpet"
           }
          ],
          "scattergeo": [
           {
            "marker": {
             "colorbar": {
              "outlinewidth": 0,
              "ticks": ""
             }
            },
            "type": "scattergeo"
           }
          ],
          "scattergl": [
           {
            "marker": {
             "colorbar": {
              "outlinewidth": 0,
              "ticks": ""
             }
            },
            "type": "scattergl"
           }
          ],
          "scattermapbox": [
           {
            "marker": {
             "colorbar": {
              "outlinewidth": 0,
              "ticks": ""
             }
            },
            "type": "scattermapbox"
           }
          ],
          "scatterpolar": [
           {
            "marker": {
             "colorbar": {
              "outlinewidth": 0,
              "ticks": ""
             }
            },
            "type": "scatterpolar"
           }
          ],
          "scatterpolargl": [
           {
            "marker": {
             "colorbar": {
              "outlinewidth": 0,
              "ticks": ""
             }
            },
            "type": "scatterpolargl"
           }
          ],
          "scatterternary": [
           {
            "marker": {
             "colorbar": {
              "outlinewidth": 0,
              "ticks": ""
             }
            },
            "type": "scatterternary"
           }
          ],
          "surface": [
           {
            "colorbar": {
             "outlinewidth": 0,
             "ticks": ""
            },
            "colorscale": [
             [
              0,
              "#0d0887"
             ],
             [
              0.1111111111111111,
              "#46039f"
             ],
             [
              0.2222222222222222,
              "#7201a8"
             ],
             [
              0.3333333333333333,
              "#9c179e"
             ],
             [
              0.4444444444444444,
              "#bd3786"
             ],
             [
              0.5555555555555556,
              "#d8576b"
             ],
             [
              0.6666666666666666,
              "#ed7953"
             ],
             [
              0.7777777777777778,
              "#fb9f3a"
             ],
             [
              0.8888888888888888,
              "#fdca26"
             ],
             [
              1,
              "#f0f921"
             ]
            ],
            "type": "surface"
           }
          ],
          "table": [
           {
            "cells": {
             "fill": {
              "color": "#EBF0F8"
             },
             "line": {
              "color": "white"
             }
            },
            "header": {
             "fill": {
              "color": "#C8D4E3"
             },
             "line": {
              "color": "white"
             }
            },
            "type": "table"
           }
          ]
         },
         "layout": {
          "annotationdefaults": {
           "arrowcolor": "#2a3f5f",
           "arrowhead": 0,
           "arrowwidth": 1
          },
          "autotypenumbers": "strict",
          "coloraxis": {
           "colorbar": {
            "outlinewidth": 0,
            "ticks": ""
           }
          },
          "colorscale": {
           "diverging": [
            [
             0,
             "#8e0152"
            ],
            [
             0.1,
             "#c51b7d"
            ],
            [
             0.2,
             "#de77ae"
            ],
            [
             0.3,
             "#f1b6da"
            ],
            [
             0.4,
             "#fde0ef"
            ],
            [
             0.5,
             "#f7f7f7"
            ],
            [
             0.6,
             "#e6f5d0"
            ],
            [
             0.7,
             "#b8e186"
            ],
            [
             0.8,
             "#7fbc41"
            ],
            [
             0.9,
             "#4d9221"
            ],
            [
             1,
             "#276419"
            ]
           ],
           "sequential": [
            [
             0,
             "#0d0887"
            ],
            [
             0.1111111111111111,
             "#46039f"
            ],
            [
             0.2222222222222222,
             "#7201a8"
            ],
            [
             0.3333333333333333,
             "#9c179e"
            ],
            [
             0.4444444444444444,
             "#bd3786"
            ],
            [
             0.5555555555555556,
             "#d8576b"
            ],
            [
             0.6666666666666666,
             "#ed7953"
            ],
            [
             0.7777777777777778,
             "#fb9f3a"
            ],
            [
             0.8888888888888888,
             "#fdca26"
            ],
            [
             1,
             "#f0f921"
            ]
           ],
           "sequentialminus": [
            [
             0,
             "#0d0887"
            ],
            [
             0.1111111111111111,
             "#46039f"
            ],
            [
             0.2222222222222222,
             "#7201a8"
            ],
            [
             0.3333333333333333,
             "#9c179e"
            ],
            [
             0.4444444444444444,
             "#bd3786"
            ],
            [
             0.5555555555555556,
             "#d8576b"
            ],
            [
             0.6666666666666666,
             "#ed7953"
            ],
            [
             0.7777777777777778,
             "#fb9f3a"
            ],
            [
             0.8888888888888888,
             "#fdca26"
            ],
            [
             1,
             "#f0f921"
            ]
           ]
          },
          "colorway": [
           "#636efa",
           "#EF553B",
           "#00cc96",
           "#ab63fa",
           "#FFA15A",
           "#19d3f3",
           "#FF6692",
           "#B6E880",
           "#FF97FF",
           "#FECB52"
          ],
          "font": {
           "color": "#2a3f5f"
          },
          "geo": {
           "bgcolor": "white",
           "lakecolor": "white",
           "landcolor": "#E5ECF6",
           "showlakes": true,
           "showland": true,
           "subunitcolor": "white"
          },
          "hoverlabel": {
           "align": "left"
          },
          "hovermode": "closest",
          "mapbox": {
           "style": "light"
          },
          "paper_bgcolor": "white",
          "plot_bgcolor": "#E5ECF6",
          "polar": {
           "angularaxis": {
            "gridcolor": "white",
            "linecolor": "white",
            "ticks": ""
           },
           "bgcolor": "#E5ECF6",
           "radialaxis": {
            "gridcolor": "white",
            "linecolor": "white",
            "ticks": ""
           }
          },
          "scene": {
           "xaxis": {
            "backgroundcolor": "#E5ECF6",
            "gridcolor": "white",
            "gridwidth": 2,
            "linecolor": "white",
            "showbackground": true,
            "ticks": "",
            "zerolinecolor": "white"
           },
           "yaxis": {
            "backgroundcolor": "#E5ECF6",
            "gridcolor": "white",
            "gridwidth": 2,
            "linecolor": "white",
            "showbackground": true,
            "ticks": "",
            "zerolinecolor": "white"
           },
           "zaxis": {
            "backgroundcolor": "#E5ECF6",
            "gridcolor": "white",
            "gridwidth": 2,
            "linecolor": "white",
            "showbackground": true,
            "ticks": "",
            "zerolinecolor": "white"
           }
          },
          "shapedefaults": {
           "line": {
            "color": "#2a3f5f"
           }
          },
          "ternary": {
           "aaxis": {
            "gridcolor": "white",
            "linecolor": "white",
            "ticks": ""
           },
           "baxis": {
            "gridcolor": "white",
            "linecolor": "white",
            "ticks": ""
           },
           "bgcolor": "#E5ECF6",
           "caxis": {
            "gridcolor": "white",
            "linecolor": "white",
            "ticks": ""
           }
          },
          "title": {
           "x": 0.05
          },
          "xaxis": {
           "automargin": true,
           "gridcolor": "white",
           "linecolor": "white",
           "ticks": "",
           "title": {
            "standoff": 15
           },
           "zerolinecolor": "white",
           "zerolinewidth": 2
          },
          "yaxis": {
           "automargin": true,
           "gridcolor": "white",
           "linecolor": "white",
           "ticks": "",
           "title": {
            "standoff": 15
           },
           "zerolinecolor": "white",
           "zerolinewidth": 2
          }
         }
        },
        "title": {
         "text": "Average Prices by City-Concept-Season"
        },
        "xaxis": {
         "anchor": "y",
         "domain": [
          0,
          0.31999999999999995
         ],
         "title": {
          "text": "SaleCityName"
         }
        },
        "xaxis2": {
         "anchor": "y2",
         "domain": [
          0.33999999999999997,
          0.6599999999999999
         ],
         "matches": "x",
         "title": {
          "text": "SaleCityName"
         }
        },
        "xaxis3": {
         "anchor": "y3",
         "domain": [
          0.6799999999999999,
          0.9999999999999999
         ],
         "matches": "x",
         "title": {
          "text": "SaleCityName"
         }
        },
        "yaxis": {
         "anchor": "x",
         "domain": [
          0,
          1
         ],
         "title": {
          "text": "Average Price"
         }
        },
        "yaxis2": {
         "anchor": "x2",
         "domain": [
          0,
          1
         ],
         "matches": "y",
         "showticklabels": false
        },
        "yaxis3": {
         "anchor": "x3",
         "domain": [
          0,
          1
         ],
         "matches": "y",
         "showticklabels": false
        }
       }
      }
     },
     "metadata": {},
     "output_type": "display_data"
    }
   ],
   "source": [
    "# Average Prices by City-Concept-Season\n",
    "print(df.groupby([\"SaleCityName\", \"ConceptName\", \"Seasons\"]).agg({\"Price\": [\"mean\", \"count\"]}))\n",
    "mean_count_price_by_city_concept_seasons = df.groupby([\"SaleCityName\", \"ConceptName\", \"Seasons\"]).agg({\"Price\": [\"mean\", \"count\"]}).reset_index()\n",
    "mean_count_price_by_city_concept_seasons.columns = [\"SaleCityName\", \"ConceptName\", \"Seasons\", \"Mean_Price\", \"Count\"]\n",
    "\n",
    "# Creating the plot\n",
    "fig = px.bar(mean_count_price_by_city_concept_seasons, x=\"SaleCityName\", y=\"Mean_Price\", color=\"Seasons\",\n",
    "             facet_col=\"ConceptName\",\n",
    "             title=\"Average Prices by City-Concept-Season\",\n",
    "             labels={\"Seasons\": \"Season\", \"Mean_Price\": \"Average Price\"},\n",
    "             hover_data=[\"Count\"])\n",
    "\n",
    "# Updating axis labels\n",
    "fig.update_layout(xaxis_title=\"SaleCityName\", yaxis_title=\"Average Price\")\n",
    "\n",
    "# Showing the plot\n",
    "fig.show()\n",
    "\n",
    "# In this multi-dimensional analysis, we are examining the average prices and number of bookings based on a different combination of factors: cities, \n",
    "# accommodation concepts, and seasonality. We aim to understand how these three key variables interact to influence both pricing and booking volumes, \n",
    "# revealing patterns like which city-concept combinations are most popular in different seasons and their corresponding price points. "
   ]
  },
  {
   "cell_type": "code",
   "execution_count": 39,
   "metadata": {},
   "outputs": [
    {
     "name": "stdout",
     "output_type": "stream",
     "text": [
      "                                       Price      \n",
      "                                        mean count\n",
      "SaleCityName ConceptName    CInDay                \n",
      "Antalya      Herşey Dahil   Friday     62.66  4138\n",
      "                            Monday     63.26  6831\n",
      "                            Saturday   64.42  4741\n",
      "                            Sunday     65.85  3818\n",
      "                            Thursday   62.89  3898\n",
      "                            Tuesday    66.77  3760\n",
      "                            Wednesday  67.17  3609\n",
      "             Oda + Kahvaltı Friday     63.13   114\n",
      "                            Monday     57.17    66\n",
      "                            Saturday   58.01   117\n",
      "                            Sunday     63.47    46\n",
      "                            Thursday   64.65    93\n",
      "                            Tuesday    65.84    73\n",
      "                            Wednesday  72.81    89\n",
      "             Yarım Pansiyon Friday     69.26    38\n",
      "                            Monday     76.95    20\n",
      "                            Saturday   63.38    71\n",
      "                            Sunday     64.45    30\n",
      "                            Thursday   66.64    40\n",
      "                            Tuesday    71.02    21\n",
      "                            Wednesday  67.78    36\n",
      "Aydın        Herşey Dahil   Friday     51.04  1826\n",
      "                            Monday     54.38  2566\n",
      "                            Saturday   56.89  1702\n",
      "                            Sunday     53.19  1098\n",
      "                            Thursday   54.51  1315\n",
      "                            Tuesday    53.51  1098\n",
      "                            Wednesday  54.22   972\n",
      "             Oda + Kahvaltı Friday     31.17     7\n",
      "                            Monday     45.40     7\n",
      "                            Saturday   23.93     2\n",
      "                            Sunday     43.53     3\n",
      "                            Thursday   37.52     7\n",
      "                            Tuesday    32.93     3\n",
      "                            Wednesday  25.95     9\n",
      "             Yarım Pansiyon Friday     24.52     5\n",
      "                            Monday     43.43     3\n",
      "                            Saturday   29.70     8\n",
      "                            Sunday     30.28     3\n",
      "                            Thursday   22.78     5\n",
      "                            Tuesday    32.16     4\n",
      "                            Wednesday  35.55     3\n",
      "Diğer        Herşey Dahil   Friday     84.66    78\n",
      "                            Monday     90.60   112\n",
      "                            Saturday   77.23    90\n",
      "                            Sunday     81.61    57\n",
      "                            Thursday   76.11    54\n",
      "                            Tuesday    89.82    57\n",
      "                            Wednesday  91.18    58\n",
      "             Oda + Kahvaltı Friday     38.47   116\n",
      "                            Monday     36.65    87\n",
      "                            Saturday   36.52   208\n",
      "                            Sunday     38.06    67\n",
      "                            Thursday   36.16   102\n",
      "                            Tuesday    42.24    80\n",
      "                            Wednesday  38.05   101\n",
      "             Yarım Pansiyon Friday     42.37   407\n",
      "                            Monday     40.28   217\n",
      "                            Saturday   43.25   638\n",
      "                            Sunday     41.86   219\n",
      "                            Thursday   41.95   198\n",
      "                            Tuesday    43.50   140\n",
      "                            Wednesday  38.74   159\n",
      "Girne        Herşey Dahil   Friday    121.19    12\n",
      "                            Monday     98.66    22\n",
      "                            Saturday  109.17     9\n",
      "                            Sunday     85.19    38\n",
      "                            Thursday  112.38     7\n",
      "                            Tuesday   111.40     8\n",
      "                            Wednesday  83.17    10\n",
      "             Oda + Kahvaltı Friday     45.02    34\n",
      "                            Monday     40.76    13\n",
      "                            Saturday   37.18    29\n",
      "                            Sunday     38.22    20\n",
      "                            Thursday   36.50    13\n",
      "                            Tuesday    35.39    19\n",
      "                            Wednesday  43.52    11\n",
      "             Yarım Pansiyon Friday     65.54    41\n",
      "                            Monday     49.55    30\n",
      "                            Saturday   56.15    26\n",
      "                            Sunday     48.32    26\n",
      "                            Thursday   50.92    18\n",
      "                            Tuesday    50.12    39\n",
      "                            Wednesday  47.36    30\n",
      "Muğla        Herşey Dahil   Friday     59.64  1403\n",
      "                            Monday     63.31  2243\n",
      "                            Saturday   62.73  1516\n",
      "                            Sunday     62.75  1234\n",
      "                            Thursday   63.27  1169\n",
      "                            Tuesday    66.24  1166\n",
      "                            Wednesday  63.77  1089\n",
      "             Oda + Kahvaltı Friday     60.56    87\n",
      "                            Monday     58.15   114\n",
      "                            Saturday   55.97   110\n",
      "                            Sunday     79.19    88\n",
      "                            Thursday   55.75    75\n",
      "                            Tuesday    50.89    82\n",
      "                            Wednesday  53.48    99\n",
      "             Yarım Pansiyon Friday     38.79    22\n",
      "                            Monday     47.98    38\n",
      "                            Saturday   48.63    31\n",
      "                            Sunday     49.88    20\n",
      "                            Thursday   37.84    27\n",
      "                            Tuesday    39.31    28\n",
      "                            Wednesday  53.97    21\n",
      "İzmir        Herşey Dahil   Friday     71.40   170\n",
      "                            Monday     73.25   305\n",
      "                            Saturday   72.86   283\n",
      "                            Sunday     75.10   189\n",
      "                            Thursday   78.97   175\n",
      "                            Tuesday    75.61   128\n",
      "                            Wednesday  79.04   132\n",
      "             Oda + Kahvaltı Friday     46.56    25\n",
      "                            Monday     43.95    18\n",
      "                            Saturday   38.64    69\n",
      "                            Sunday     42.91    26\n",
      "                            Thursday   39.37    27\n",
      "                            Tuesday    41.81    28\n",
      "                            Wednesday  41.44    35\n",
      "             Yarım Pansiyon Friday     65.38   160\n",
      "                            Monday     59.80   102\n",
      "                            Saturday   52.56   317\n",
      "                            Sunday     98.93    68\n",
      "                            Thursday   52.48    91\n",
      "                            Tuesday    56.14    73\n",
      "                            Wednesday  54.06    86\n"
     ]
    },
    {
     "data": {
      "application/vnd.plotly.v1+json": {
       "config": {
        "plotlyServerURL": "https://plot.ly"
       },
       "data": [
        {
         "alignmentgroup": "True",
         "customdata": [
          [
           4138
          ],
          [
           1826
          ],
          [
           78
          ],
          [
           12
          ],
          [
           1403
          ],
          [
           170
          ]
         ],
         "hovertemplate": "CInDay=Friday<br>ConceptName=Herşey Dahil<br>SaleCityName=%{x}<br>Average Price=%{y}<br>Count=%{customdata[0]}<extra></extra>",
         "legendgroup": "Friday",
         "marker": {
          "color": "#636efa",
          "pattern": {
           "shape": ""
          }
         },
         "name": "Friday",
         "offsetgroup": "Friday",
         "orientation": "v",
         "showlegend": true,
         "textposition": "auto",
         "type": "bar",
         "x": [
          "Antalya",
          "Aydın",
          "Diğer",
          "Girne",
          "Muğla",
          "İzmir"
         ],
         "xaxis": "x",
         "y": [
          62.65830473417814,
          51.03969179916826,
          84.65676910797735,
          121.19445208148375,
          59.637324925877685,
          71.40266304212206
         ],
         "yaxis": "y"
        },
        {
         "alignmentgroup": "True",
         "customdata": [
          [
           114
          ],
          [
           7
          ],
          [
           116
          ],
          [
           34
          ],
          [
           87
          ],
          [
           25
          ]
         ],
         "hovertemplate": "CInDay=Friday<br>ConceptName=Oda + Kahvaltı<br>SaleCityName=%{x}<br>Average Price=%{y}<br>Count=%{customdata[0]}<extra></extra>",
         "legendgroup": "Friday",
         "marker": {
          "color": "#636efa",
          "pattern": {
           "shape": ""
          }
         },
         "name": "Friday",
         "offsetgroup": "Friday",
         "orientation": "v",
         "showlegend": false,
         "textposition": "auto",
         "type": "bar",
         "x": [
          "Antalya",
          "Aydın",
          "Diğer",
          "Girne",
          "Muğla",
          "İzmir"
         ],
         "xaxis": "x2",
         "y": [
          63.12816540855178,
          31.17365205545374,
          38.466094930431936,
          45.02445751291412,
          60.55780489273139,
          46.56140008390064
         ],
         "yaxis": "y2"
        },
        {
         "alignmentgroup": "True",
         "customdata": [
          [
           38
          ],
          [
           5
          ],
          [
           407
          ],
          [
           41
          ],
          [
           22
          ],
          [
           160
          ]
         ],
         "hovertemplate": "CInDay=Friday<br>ConceptName=Yarım Pansiyon<br>SaleCityName=%{x}<br>Average Price=%{y}<br>Count=%{customdata[0]}<extra></extra>",
         "legendgroup": "Friday",
         "marker": {
          "color": "#636efa",
          "pattern": {
           "shape": ""
          }
         },
         "name": "Friday",
         "offsetgroup": "Friday",
         "orientation": "v",
         "showlegend": false,
         "textposition": "auto",
         "type": "bar",
         "x": [
          "Antalya",
          "Aydın",
          "Diğer",
          "Girne",
          "Muğla",
          "İzmir"
         ],
         "xaxis": "x3",
         "y": [
          69.25598984412798,
          24.516054616054618,
          42.373921148599585,
          65.53851593006551,
          38.78874429127433,
          65.38069378926185
         ],
         "yaxis": "y3"
        },
        {
         "alignmentgroup": "True",
         "customdata": [
          [
           6831
          ],
          [
           2566
          ],
          [
           112
          ],
          [
           22
          ],
          [
           2243
          ],
          [
           305
          ]
         ],
         "hovertemplate": "CInDay=Monday<br>ConceptName=Herşey Dahil<br>SaleCityName=%{x}<br>Average Price=%{y}<br>Count=%{customdata[0]}<extra></extra>",
         "legendgroup": "Monday",
         "marker": {
          "color": "#EF553B",
          "pattern": {
           "shape": ""
          }
         },
         "name": "Monday",
         "offsetgroup": "Monday",
         "orientation": "v",
         "showlegend": true,
         "textposition": "auto",
         "type": "bar",
         "x": [
          "Antalya",
          "Aydın",
          "Diğer",
          "Girne",
          "Muğla",
          "İzmir"
         ],
         "xaxis": "x",
         "y": [
          63.259142862899694,
          54.38487253518618,
          90.59804262506098,
          98.66174461742793,
          63.30905222631235,
          73.25466245167269
         ],
         "yaxis": "y"
        },
        {
         "alignmentgroup": "True",
         "customdata": [
          [
           66
          ],
          [
           7
          ],
          [
           87
          ],
          [
           13
          ],
          [
           114
          ],
          [
           18
          ]
         ],
         "hovertemplate": "CInDay=Monday<br>ConceptName=Oda + Kahvaltı<br>SaleCityName=%{x}<br>Average Price=%{y}<br>Count=%{customdata[0]}<extra></extra>",
         "legendgroup": "Monday",
         "marker": {
          "color": "#EF553B",
          "pattern": {
           "shape": ""
          }
         },
         "name": "Monday",
         "offsetgroup": "Monday",
         "orientation": "v",
         "showlegend": false,
         "textposition": "auto",
         "type": "bar",
         "x": [
          "Antalya",
          "Aydın",
          "Diğer",
          "Girne",
          "Muğla",
          "İzmir"
         ],
         "xaxis": "x2",
         "y": [
          57.17284258263242,
          45.39990177204789,
          36.64941754643035,
          40.76312301135603,
          58.1501162099033,
          43.9464671996101
         ],
         "yaxis": "y2"
        },
        {
         "alignmentgroup": "True",
         "customdata": [
          [
           20
          ],
          [
           3
          ],
          [
           217
          ],
          [
           30
          ],
          [
           38
          ],
          [
           102
          ]
         ],
         "hovertemplate": "CInDay=Monday<br>ConceptName=Yarım Pansiyon<br>SaleCityName=%{x}<br>Average Price=%{y}<br>Count=%{customdata[0]}<extra></extra>",
         "legendgroup": "Monday",
         "marker": {
          "color": "#EF553B",
          "pattern": {
           "shape": ""
          }
         },
         "name": "Monday",
         "offsetgroup": "Monday",
         "orientation": "v",
         "showlegend": false,
         "textposition": "auto",
         "type": "bar",
         "x": [
          "Antalya",
          "Aydın",
          "Diğer",
          "Girne",
          "Muğla",
          "İzmir"
         ],
         "xaxis": "x3",
         "y": [
          76.95387420232058,
          43.429573230897745,
          40.27765275818969,
          49.55223057540384,
          47.98277927853972,
          59.79955940926618
         ],
         "yaxis": "y3"
        },
        {
         "alignmentgroup": "True",
         "customdata": [
          [
           4741
          ],
          [
           1702
          ],
          [
           90
          ],
          [
           9
          ],
          [
           1516
          ],
          [
           283
          ]
         ],
         "hovertemplate": "CInDay=Saturday<br>ConceptName=Herşey Dahil<br>SaleCityName=%{x}<br>Average Price=%{y}<br>Count=%{customdata[0]}<extra></extra>",
         "legendgroup": "Saturday",
         "marker": {
          "color": "#00cc96",
          "pattern": {
           "shape": ""
          }
         },
         "name": "Saturday",
         "offsetgroup": "Saturday",
         "orientation": "v",
         "showlegend": true,
         "textposition": "auto",
         "type": "bar",
         "x": [
          "Antalya",
          "Aydın",
          "Diğer",
          "Girne",
          "Muğla",
          "İzmir"
         ],
         "xaxis": "x",
         "y": [
          64.41552641700027,
          56.887420312277186,
          77.22552723304409,
          109.16540699221521,
          62.732160511271786,
          72.8571910058117
         ],
         "yaxis": "y"
        },
        {
         "alignmentgroup": "True",
         "customdata": [
          [
           117
          ],
          [
           2
          ],
          [
           208
          ],
          [
           29
          ],
          [
           110
          ],
          [
           69
          ]
         ],
         "hovertemplate": "CInDay=Saturday<br>ConceptName=Oda + Kahvaltı<br>SaleCityName=%{x}<br>Average Price=%{y}<br>Count=%{customdata[0]}<extra></extra>",
         "legendgroup": "Saturday",
         "marker": {
          "color": "#00cc96",
          "pattern": {
           "shape": ""
          }
         },
         "name": "Saturday",
         "offsetgroup": "Saturday",
         "orientation": "v",
         "showlegend": false,
         "textposition": "auto",
         "type": "bar",
         "x": [
          "Antalya",
          "Aydın",
          "Diğer",
          "Girne",
          "Muğla",
          "İzmir"
         ],
         "xaxis": "x2",
         "y": [
          58.01241926849685,
          23.930595505937976,
          36.52136890408389,
          37.175031463201215,
          55.97447274445506,
          38.63802339970554
         ],
         "yaxis": "y2"
        },
        {
         "alignmentgroup": "True",
         "customdata": [
          [
           71
          ],
          [
           8
          ],
          [
           638
          ],
          [
           26
          ],
          [
           31
          ],
          [
           317
          ]
         ],
         "hovertemplate": "CInDay=Saturday<br>ConceptName=Yarım Pansiyon<br>SaleCityName=%{x}<br>Average Price=%{y}<br>Count=%{customdata[0]}<extra></extra>",
         "legendgroup": "Saturday",
         "marker": {
          "color": "#00cc96",
          "pattern": {
           "shape": ""
          }
         },
         "name": "Saturday",
         "offsetgroup": "Saturday",
         "orientation": "v",
         "showlegend": false,
         "textposition": "auto",
         "type": "bar",
         "x": [
          "Antalya",
          "Aydın",
          "Diğer",
          "Girne",
          "Muğla",
          "İzmir"
         ],
         "xaxis": "x3",
         "y": [
          63.375241420989816,
          29.703154119820788,
          43.24695250815167,
          56.14938962744453,
          48.632882492272614,
          52.56050024165722
         ],
         "yaxis": "y3"
        },
        {
         "alignmentgroup": "True",
         "customdata": [
          [
           3818
          ],
          [
           1098
          ],
          [
           57
          ],
          [
           38
          ],
          [
           1234
          ],
          [
           189
          ]
         ],
         "hovertemplate": "CInDay=Sunday<br>ConceptName=Herşey Dahil<br>SaleCityName=%{x}<br>Average Price=%{y}<br>Count=%{customdata[0]}<extra></extra>",
         "legendgroup": "Sunday",
         "marker": {
          "color": "#ab63fa",
          "pattern": {
           "shape": ""
          }
         },
         "name": "Sunday",
         "offsetgroup": "Sunday",
         "orientation": "v",
         "showlegend": true,
         "textposition": "auto",
         "type": "bar",
         "x": [
          "Antalya",
          "Aydın",
          "Diğer",
          "Girne",
          "Muğla",
          "İzmir"
         ],
         "xaxis": "x",
         "y": [
          65.8491769544859,
          53.19447544352871,
          81.6130188953079,
          85.19182336109483,
          62.75091163756122,
          75.09806058527646
         ],
         "yaxis": "y"
        },
        {
         "alignmentgroup": "True",
         "customdata": [
          [
           46
          ],
          [
           3
          ],
          [
           67
          ],
          [
           20
          ],
          [
           88
          ],
          [
           26
          ]
         ],
         "hovertemplate": "CInDay=Sunday<br>ConceptName=Oda + Kahvaltı<br>SaleCityName=%{x}<br>Average Price=%{y}<br>Count=%{customdata[0]}<extra></extra>",
         "legendgroup": "Sunday",
         "marker": {
          "color": "#ab63fa",
          "pattern": {
           "shape": ""
          }
         },
         "name": "Sunday",
         "offsetgroup": "Sunday",
         "orientation": "v",
         "showlegend": false,
         "textposition": "auto",
         "type": "bar",
         "x": [
          "Antalya",
          "Aydın",
          "Diğer",
          "Girne",
          "Muğla",
          "İzmir"
         ],
         "xaxis": "x2",
         "y": [
          63.469285767482695,
          43.528420148283175,
          38.06365456451807,
          38.21584808089813,
          79.19202754613985,
          42.911591271426495
         ],
         "yaxis": "y2"
        },
        {
         "alignmentgroup": "True",
         "customdata": [
          [
           30
          ],
          [
           3
          ],
          [
           219
          ],
          [
           26
          ],
          [
           20
          ],
          [
           68
          ]
         ],
         "hovertemplate": "CInDay=Sunday<br>ConceptName=Yarım Pansiyon<br>SaleCityName=%{x}<br>Average Price=%{y}<br>Count=%{customdata[0]}<extra></extra>",
         "legendgroup": "Sunday",
         "marker": {
          "color": "#ab63fa",
          "pattern": {
           "shape": ""
          }
         },
         "name": "Sunday",
         "offsetgroup": "Sunday",
         "orientation": "v",
         "showlegend": false,
         "textposition": "auto",
         "type": "bar",
         "x": [
          "Antalya",
          "Aydın",
          "Diğer",
          "Girne",
          "Muğla",
          "İzmir"
         ],
         "xaxis": "x3",
         "y": [
          64.44832481722386,
          30.28413028413028,
          41.86050097338236,
          48.32480187351696,
          49.87610186868389,
          98.93469680465468
         ],
         "yaxis": "y3"
        },
        {
         "alignmentgroup": "True",
         "customdata": [
          [
           3898
          ],
          [
           1315
          ],
          [
           54
          ],
          [
           7
          ],
          [
           1169
          ],
          [
           175
          ]
         ],
         "hovertemplate": "CInDay=Thursday<br>ConceptName=Herşey Dahil<br>SaleCityName=%{x}<br>Average Price=%{y}<br>Count=%{customdata[0]}<extra></extra>",
         "legendgroup": "Thursday",
         "marker": {
          "color": "#FFA15A",
          "pattern": {
           "shape": ""
          }
         },
         "name": "Thursday",
         "offsetgroup": "Thursday",
         "orientation": "v",
         "showlegend": true,
         "textposition": "auto",
         "type": "bar",
         "x": [
          "Antalya",
          "Aydın",
          "Diğer",
          "Girne",
          "Muğla",
          "İzmir"
         ],
         "xaxis": "x",
         "y": [
          62.89273403784807,
          54.513836341395745,
          76.10925090569756,
          112.37866783893274,
          63.273240078328094,
          78.97034870576105
         ],
         "yaxis": "y"
        },
        {
         "alignmentgroup": "True",
         "customdata": [
          [
           93
          ],
          [
           7
          ],
          [
           102
          ],
          [
           13
          ],
          [
           75
          ],
          [
           27
          ]
         ],
         "hovertemplate": "CInDay=Thursday<br>ConceptName=Oda + Kahvaltı<br>SaleCityName=%{x}<br>Average Price=%{y}<br>Count=%{customdata[0]}<extra></extra>",
         "legendgroup": "Thursday",
         "marker": {
          "color": "#FFA15A",
          "pattern": {
           "shape": ""
          }
         },
         "name": "Thursday",
         "offsetgroup": "Thursday",
         "orientation": "v",
         "showlegend": false,
         "textposition": "auto",
         "type": "bar",
         "x": [
          "Antalya",
          "Aydın",
          "Diğer",
          "Girne",
          "Muğla",
          "İzmir"
         ],
         "xaxis": "x2",
         "y": [
          64.652956294423,
          37.52063067131561,
          36.15742396823841,
          36.503766093934445,
          55.748929461082504,
          39.367149449362124
         ],
         "yaxis": "y2"
        },
        {
         "alignmentgroup": "True",
         "customdata": [
          [
           40
          ],
          [
           5
          ],
          [
           198
          ],
          [
           18
          ],
          [
           27
          ],
          [
           91
          ]
         ],
         "hovertemplate": "CInDay=Thursday<br>ConceptName=Yarım Pansiyon<br>SaleCityName=%{x}<br>Average Price=%{y}<br>Count=%{customdata[0]}<extra></extra>",
         "legendgroup": "Thursday",
         "marker": {
          "color": "#FFA15A",
          "pattern": {
           "shape": ""
          }
         },
         "name": "Thursday",
         "offsetgroup": "Thursday",
         "orientation": "v",
         "showlegend": false,
         "textposition": "auto",
         "type": "bar",
         "x": [
          "Antalya",
          "Aydın",
          "Diğer",
          "Girne",
          "Muğla",
          "İzmir"
         ],
         "xaxis": "x3",
         "y": [
          66.63653085919728,
          22.777604247389746,
          41.94522870593538,
          50.9222723193683,
          37.84463229258402,
          52.484893681720656
         ],
         "yaxis": "y3"
        },
        {
         "alignmentgroup": "True",
         "customdata": [
          [
           3760
          ],
          [
           1098
          ],
          [
           57
          ],
          [
           8
          ],
          [
           1166
          ],
          [
           128
          ]
         ],
         "hovertemplate": "CInDay=Tuesday<br>ConceptName=Herşey Dahil<br>SaleCityName=%{x}<br>Average Price=%{y}<br>Count=%{customdata[0]}<extra></extra>",
         "legendgroup": "Tuesday",
         "marker": {
          "color": "#19d3f3",
          "pattern": {
           "shape": ""
          }
         },
         "name": "Tuesday",
         "offsetgroup": "Tuesday",
         "orientation": "v",
         "showlegend": true,
         "textposition": "auto",
         "type": "bar",
         "x": [
          "Antalya",
          "Aydın",
          "Diğer",
          "Girne",
          "Muğla",
          "İzmir"
         ],
         "xaxis": "x",
         "y": [
          66.77165758846176,
          53.50713500867386,
          89.8206828110562,
          111.39736345516685,
          66.23961747391715,
          75.60571305886836
         ],
         "yaxis": "y"
        },
        {
         "alignmentgroup": "True",
         "customdata": [
          [
           73
          ],
          [
           3
          ],
          [
           80
          ],
          [
           19
          ],
          [
           82
          ],
          [
           28
          ]
         ],
         "hovertemplate": "CInDay=Tuesday<br>ConceptName=Oda + Kahvaltı<br>SaleCityName=%{x}<br>Average Price=%{y}<br>Count=%{customdata[0]}<extra></extra>",
         "legendgroup": "Tuesday",
         "marker": {
          "color": "#19d3f3",
          "pattern": {
           "shape": ""
          }
         },
         "name": "Tuesday",
         "offsetgroup": "Tuesday",
         "orientation": "v",
         "showlegend": false,
         "textposition": "auto",
         "type": "bar",
         "x": [
          "Antalya",
          "Aydın",
          "Diğer",
          "Girne",
          "Muğla",
          "İzmir"
         ],
         "xaxis": "x2",
         "y": [
          65.83634665345163,
          32.929495207272986,
          42.241396509364314,
          35.3884816680741,
          50.885071884515106,
          41.813607270889925
         ],
         "yaxis": "y2"
        },
        {
         "alignmentgroup": "True",
         "customdata": [
          [
           21
          ],
          [
           4
          ],
          [
           140
          ],
          [
           39
          ],
          [
           28
          ],
          [
           73
          ]
         ],
         "hovertemplate": "CInDay=Tuesday<br>ConceptName=Yarım Pansiyon<br>SaleCityName=%{x}<br>Average Price=%{y}<br>Count=%{customdata[0]}<extra></extra>",
         "legendgroup": "Tuesday",
         "marker": {
          "color": "#19d3f3",
          "pattern": {
           "shape": ""
          }
         },
         "name": "Tuesday",
         "offsetgroup": "Tuesday",
         "orientation": "v",
         "showlegend": false,
         "textposition": "auto",
         "type": "bar",
         "x": [
          "Antalya",
          "Aydın",
          "Diğer",
          "Girne",
          "Muğla",
          "İzmir"
         ],
         "xaxis": "x3",
         "y": [
          71.01949995690619,
          32.159883803719424,
          43.50218420573748,
          50.11666431958851,
          39.30864770074677,
          56.14138134848452
         ],
         "yaxis": "y3"
        },
        {
         "alignmentgroup": "True",
         "customdata": [
          [
           3609
          ],
          [
           972
          ],
          [
           58
          ],
          [
           10
          ],
          [
           1089
          ],
          [
           132
          ]
         ],
         "hovertemplate": "CInDay=Wednesday<br>ConceptName=Herşey Dahil<br>SaleCityName=%{x}<br>Average Price=%{y}<br>Count=%{customdata[0]}<extra></extra>",
         "legendgroup": "Wednesday",
         "marker": {
          "color": "#FF6692",
          "pattern": {
           "shape": ""
          }
         },
         "name": "Wednesday",
         "offsetgroup": "Wednesday",
         "orientation": "v",
         "showlegend": true,
         "textposition": "auto",
         "type": "bar",
         "x": [
          "Antalya",
          "Aydın",
          "Diğer",
          "Girne",
          "Muğla",
          "İzmir"
         ],
         "xaxis": "x",
         "y": [
          67.17383249072137,
          54.21902761845145,
          91.18310497017518,
          83.16834373656323,
          63.768122297460415,
          79.04210507934073
         ],
         "yaxis": "y"
        },
        {
         "alignmentgroup": "True",
         "customdata": [
          [
           89
          ],
          [
           9
          ],
          [
           101
          ],
          [
           11
          ],
          [
           99
          ],
          [
           35
          ]
         ],
         "hovertemplate": "CInDay=Wednesday<br>ConceptName=Oda + Kahvaltı<br>SaleCityName=%{x}<br>Average Price=%{y}<br>Count=%{customdata[0]}<extra></extra>",
         "legendgroup": "Wednesday",
         "marker": {
          "color": "#FF6692",
          "pattern": {
           "shape": ""
          }
         },
         "name": "Wednesday",
         "offsetgroup": "Wednesday",
         "orientation": "v",
         "showlegend": false,
         "textposition": "auto",
         "type": "bar",
         "x": [
          "Antalya",
          "Aydın",
          "Diğer",
          "Girne",
          "Muğla",
          "İzmir"
         ],
         "xaxis": "x2",
         "y": [
          72.80947107896074,
          25.948853635515533,
          38.05188173826746,
          43.52039452491273,
          53.48044056116194,
          41.444212493589234
         ],
         "yaxis": "y2"
        },
        {
         "alignmentgroup": "True",
         "customdata": [
          [
           36
          ],
          [
           3
          ],
          [
           159
          ],
          [
           30
          ],
          [
           21
          ],
          [
           86
          ]
         ],
         "hovertemplate": "CInDay=Wednesday<br>ConceptName=Yarım Pansiyon<br>SaleCityName=%{x}<br>Average Price=%{y}<br>Count=%{customdata[0]}<extra></extra>",
         "legendgroup": "Wednesday",
         "marker": {
          "color": "#FF6692",
          "pattern": {
           "shape": ""
          }
         },
         "name": "Wednesday",
         "offsetgroup": "Wednesday",
         "orientation": "v",
         "showlegend": false,
         "textposition": "auto",
         "type": "bar",
         "x": [
          "Antalya",
          "Aydın",
          "Diğer",
          "Girne",
          "Muğla",
          "İzmir"
         ],
         "xaxis": "x3",
         "y": [
          67.77859005791585,
          35.54621851844074,
          38.73887321023451,
          47.36400571872448,
          53.96791067085413,
          54.064391550747104
         ],
         "yaxis": "y3"
        }
       ],
       "layout": {
        "annotations": [
         {
          "font": {},
          "showarrow": false,
          "text": "ConceptName=Herşey Dahil",
          "x": 0.15999999999999998,
          "xanchor": "center",
          "xref": "paper",
          "y": 1,
          "yanchor": "bottom",
          "yref": "paper"
         },
         {
          "font": {},
          "showarrow": false,
          "text": "ConceptName=Oda + Kahvaltı",
          "x": 0.49999999999999994,
          "xanchor": "center",
          "xref": "paper",
          "y": 1,
          "yanchor": "bottom",
          "yref": "paper"
         },
         {
          "font": {},
          "showarrow": false,
          "text": "ConceptName=Yarım Pansiyon",
          "x": 0.8399999999999999,
          "xanchor": "center",
          "xref": "paper",
          "y": 1,
          "yanchor": "bottom",
          "yref": "paper"
         }
        ],
        "barmode": "relative",
        "legend": {
         "title": {
          "text": "CInDay"
         },
         "tracegroupgap": 0
        },
        "template": {
         "data": {
          "bar": [
           {
            "error_x": {
             "color": "#2a3f5f"
            },
            "error_y": {
             "color": "#2a3f5f"
            },
            "marker": {
             "line": {
              "color": "#E5ECF6",
              "width": 0.5
             },
             "pattern": {
              "fillmode": "overlay",
              "size": 10,
              "solidity": 0.2
             }
            },
            "type": "bar"
           }
          ],
          "barpolar": [
           {
            "marker": {
             "line": {
              "color": "#E5ECF6",
              "width": 0.5
             },
             "pattern": {
              "fillmode": "overlay",
              "size": 10,
              "solidity": 0.2
             }
            },
            "type": "barpolar"
           }
          ],
          "carpet": [
           {
            "aaxis": {
             "endlinecolor": "#2a3f5f",
             "gridcolor": "white",
             "linecolor": "white",
             "minorgridcolor": "white",
             "startlinecolor": "#2a3f5f"
            },
            "baxis": {
             "endlinecolor": "#2a3f5f",
             "gridcolor": "white",
             "linecolor": "white",
             "minorgridcolor": "white",
             "startlinecolor": "#2a3f5f"
            },
            "type": "carpet"
           }
          ],
          "choropleth": [
           {
            "colorbar": {
             "outlinewidth": 0,
             "ticks": ""
            },
            "type": "choropleth"
           }
          ],
          "contour": [
           {
            "colorbar": {
             "outlinewidth": 0,
             "ticks": ""
            },
            "colorscale": [
             [
              0,
              "#0d0887"
             ],
             [
              0.1111111111111111,
              "#46039f"
             ],
             [
              0.2222222222222222,
              "#7201a8"
             ],
             [
              0.3333333333333333,
              "#9c179e"
             ],
             [
              0.4444444444444444,
              "#bd3786"
             ],
             [
              0.5555555555555556,
              "#d8576b"
             ],
             [
              0.6666666666666666,
              "#ed7953"
             ],
             [
              0.7777777777777778,
              "#fb9f3a"
             ],
             [
              0.8888888888888888,
              "#fdca26"
             ],
             [
              1,
              "#f0f921"
             ]
            ],
            "type": "contour"
           }
          ],
          "contourcarpet": [
           {
            "colorbar": {
             "outlinewidth": 0,
             "ticks": ""
            },
            "type": "contourcarpet"
           }
          ],
          "heatmap": [
           {
            "colorbar": {
             "outlinewidth": 0,
             "ticks": ""
            },
            "colorscale": [
             [
              0,
              "#0d0887"
             ],
             [
              0.1111111111111111,
              "#46039f"
             ],
             [
              0.2222222222222222,
              "#7201a8"
             ],
             [
              0.3333333333333333,
              "#9c179e"
             ],
             [
              0.4444444444444444,
              "#bd3786"
             ],
             [
              0.5555555555555556,
              "#d8576b"
             ],
             [
              0.6666666666666666,
              "#ed7953"
             ],
             [
              0.7777777777777778,
              "#fb9f3a"
             ],
             [
              0.8888888888888888,
              "#fdca26"
             ],
             [
              1,
              "#f0f921"
             ]
            ],
            "type": "heatmap"
           }
          ],
          "heatmapgl": [
           {
            "colorbar": {
             "outlinewidth": 0,
             "ticks": ""
            },
            "colorscale": [
             [
              0,
              "#0d0887"
             ],
             [
              0.1111111111111111,
              "#46039f"
             ],
             [
              0.2222222222222222,
              "#7201a8"
             ],
             [
              0.3333333333333333,
              "#9c179e"
             ],
             [
              0.4444444444444444,
              "#bd3786"
             ],
             [
              0.5555555555555556,
              "#d8576b"
             ],
             [
              0.6666666666666666,
              "#ed7953"
             ],
             [
              0.7777777777777778,
              "#fb9f3a"
             ],
             [
              0.8888888888888888,
              "#fdca26"
             ],
             [
              1,
              "#f0f921"
             ]
            ],
            "type": "heatmapgl"
           }
          ],
          "histogram": [
           {
            "marker": {
             "pattern": {
              "fillmode": "overlay",
              "size": 10,
              "solidity": 0.2
             }
            },
            "type": "histogram"
           }
          ],
          "histogram2d": [
           {
            "colorbar": {
             "outlinewidth": 0,
             "ticks": ""
            },
            "colorscale": [
             [
              0,
              "#0d0887"
             ],
             [
              0.1111111111111111,
              "#46039f"
             ],
             [
              0.2222222222222222,
              "#7201a8"
             ],
             [
              0.3333333333333333,
              "#9c179e"
             ],
             [
              0.4444444444444444,
              "#bd3786"
             ],
             [
              0.5555555555555556,
              "#d8576b"
             ],
             [
              0.6666666666666666,
              "#ed7953"
             ],
             [
              0.7777777777777778,
              "#fb9f3a"
             ],
             [
              0.8888888888888888,
              "#fdca26"
             ],
             [
              1,
              "#f0f921"
             ]
            ],
            "type": "histogram2d"
           }
          ],
          "histogram2dcontour": [
           {
            "colorbar": {
             "outlinewidth": 0,
             "ticks": ""
            },
            "colorscale": [
             [
              0,
              "#0d0887"
             ],
             [
              0.1111111111111111,
              "#46039f"
             ],
             [
              0.2222222222222222,
              "#7201a8"
             ],
             [
              0.3333333333333333,
              "#9c179e"
             ],
             [
              0.4444444444444444,
              "#bd3786"
             ],
             [
              0.5555555555555556,
              "#d8576b"
             ],
             [
              0.6666666666666666,
              "#ed7953"
             ],
             [
              0.7777777777777778,
              "#fb9f3a"
             ],
             [
              0.8888888888888888,
              "#fdca26"
             ],
             [
              1,
              "#f0f921"
             ]
            ],
            "type": "histogram2dcontour"
           }
          ],
          "mesh3d": [
           {
            "colorbar": {
             "outlinewidth": 0,
             "ticks": ""
            },
            "type": "mesh3d"
           }
          ],
          "parcoords": [
           {
            "line": {
             "colorbar": {
              "outlinewidth": 0,
              "ticks": ""
             }
            },
            "type": "parcoords"
           }
          ],
          "pie": [
           {
            "automargin": true,
            "type": "pie"
           }
          ],
          "scatter": [
           {
            "fillpattern": {
             "fillmode": "overlay",
             "size": 10,
             "solidity": 0.2
            },
            "type": "scatter"
           }
          ],
          "scatter3d": [
           {
            "line": {
             "colorbar": {
              "outlinewidth": 0,
              "ticks": ""
             }
            },
            "marker": {
             "colorbar": {
              "outlinewidth": 0,
              "ticks": ""
             }
            },
            "type": "scatter3d"
           }
          ],
          "scattercarpet": [
           {
            "marker": {
             "colorbar": {
              "outlinewidth": 0,
              "ticks": ""
             }
            },
            "type": "scattercarpet"
           }
          ],
          "scattergeo": [
           {
            "marker": {
             "colorbar": {
              "outlinewidth": 0,
              "ticks": ""
             }
            },
            "type": "scattergeo"
           }
          ],
          "scattergl": [
           {
            "marker": {
             "colorbar": {
              "outlinewidth": 0,
              "ticks": ""
             }
            },
            "type": "scattergl"
           }
          ],
          "scattermapbox": [
           {
            "marker": {
             "colorbar": {
              "outlinewidth": 0,
              "ticks": ""
             }
            },
            "type": "scattermapbox"
           }
          ],
          "scatterpolar": [
           {
            "marker": {
             "colorbar": {
              "outlinewidth": 0,
              "ticks": ""
             }
            },
            "type": "scatterpolar"
           }
          ],
          "scatterpolargl": [
           {
            "marker": {
             "colorbar": {
              "outlinewidth": 0,
              "ticks": ""
             }
            },
            "type": "scatterpolargl"
           }
          ],
          "scatterternary": [
           {
            "marker": {
             "colorbar": {
              "outlinewidth": 0,
              "ticks": ""
             }
            },
            "type": "scatterternary"
           }
          ],
          "surface": [
           {
            "colorbar": {
             "outlinewidth": 0,
             "ticks": ""
            },
            "colorscale": [
             [
              0,
              "#0d0887"
             ],
             [
              0.1111111111111111,
              "#46039f"
             ],
             [
              0.2222222222222222,
              "#7201a8"
             ],
             [
              0.3333333333333333,
              "#9c179e"
             ],
             [
              0.4444444444444444,
              "#bd3786"
             ],
             [
              0.5555555555555556,
              "#d8576b"
             ],
             [
              0.6666666666666666,
              "#ed7953"
             ],
             [
              0.7777777777777778,
              "#fb9f3a"
             ],
             [
              0.8888888888888888,
              "#fdca26"
             ],
             [
              1,
              "#f0f921"
             ]
            ],
            "type": "surface"
           }
          ],
          "table": [
           {
            "cells": {
             "fill": {
              "color": "#EBF0F8"
             },
             "line": {
              "color": "white"
             }
            },
            "header": {
             "fill": {
              "color": "#C8D4E3"
             },
             "line": {
              "color": "white"
             }
            },
            "type": "table"
           }
          ]
         },
         "layout": {
          "annotationdefaults": {
           "arrowcolor": "#2a3f5f",
           "arrowhead": 0,
           "arrowwidth": 1
          },
          "autotypenumbers": "strict",
          "coloraxis": {
           "colorbar": {
            "outlinewidth": 0,
            "ticks": ""
           }
          },
          "colorscale": {
           "diverging": [
            [
             0,
             "#8e0152"
            ],
            [
             0.1,
             "#c51b7d"
            ],
            [
             0.2,
             "#de77ae"
            ],
            [
             0.3,
             "#f1b6da"
            ],
            [
             0.4,
             "#fde0ef"
            ],
            [
             0.5,
             "#f7f7f7"
            ],
            [
             0.6,
             "#e6f5d0"
            ],
            [
             0.7,
             "#b8e186"
            ],
            [
             0.8,
             "#7fbc41"
            ],
            [
             0.9,
             "#4d9221"
            ],
            [
             1,
             "#276419"
            ]
           ],
           "sequential": [
            [
             0,
             "#0d0887"
            ],
            [
             0.1111111111111111,
             "#46039f"
            ],
            [
             0.2222222222222222,
             "#7201a8"
            ],
            [
             0.3333333333333333,
             "#9c179e"
            ],
            [
             0.4444444444444444,
             "#bd3786"
            ],
            [
             0.5555555555555556,
             "#d8576b"
            ],
            [
             0.6666666666666666,
             "#ed7953"
            ],
            [
             0.7777777777777778,
             "#fb9f3a"
            ],
            [
             0.8888888888888888,
             "#fdca26"
            ],
            [
             1,
             "#f0f921"
            ]
           ],
           "sequentialminus": [
            [
             0,
             "#0d0887"
            ],
            [
             0.1111111111111111,
             "#46039f"
            ],
            [
             0.2222222222222222,
             "#7201a8"
            ],
            [
             0.3333333333333333,
             "#9c179e"
            ],
            [
             0.4444444444444444,
             "#bd3786"
            ],
            [
             0.5555555555555556,
             "#d8576b"
            ],
            [
             0.6666666666666666,
             "#ed7953"
            ],
            [
             0.7777777777777778,
             "#fb9f3a"
            ],
            [
             0.8888888888888888,
             "#fdca26"
            ],
            [
             1,
             "#f0f921"
            ]
           ]
          },
          "colorway": [
           "#636efa",
           "#EF553B",
           "#00cc96",
           "#ab63fa",
           "#FFA15A",
           "#19d3f3",
           "#FF6692",
           "#B6E880",
           "#FF97FF",
           "#FECB52"
          ],
          "font": {
           "color": "#2a3f5f"
          },
          "geo": {
           "bgcolor": "white",
           "lakecolor": "white",
           "landcolor": "#E5ECF6",
           "showlakes": true,
           "showland": true,
           "subunitcolor": "white"
          },
          "hoverlabel": {
           "align": "left"
          },
          "hovermode": "closest",
          "mapbox": {
           "style": "light"
          },
          "paper_bgcolor": "white",
          "plot_bgcolor": "#E5ECF6",
          "polar": {
           "angularaxis": {
            "gridcolor": "white",
            "linecolor": "white",
            "ticks": ""
           },
           "bgcolor": "#E5ECF6",
           "radialaxis": {
            "gridcolor": "white",
            "linecolor": "white",
            "ticks": ""
           }
          },
          "scene": {
           "xaxis": {
            "backgroundcolor": "#E5ECF6",
            "gridcolor": "white",
            "gridwidth": 2,
            "linecolor": "white",
            "showbackground": true,
            "ticks": "",
            "zerolinecolor": "white"
           },
           "yaxis": {
            "backgroundcolor": "#E5ECF6",
            "gridcolor": "white",
            "gridwidth": 2,
            "linecolor": "white",
            "showbackground": true,
            "ticks": "",
            "zerolinecolor": "white"
           },
           "zaxis": {
            "backgroundcolor": "#E5ECF6",
            "gridcolor": "white",
            "gridwidth": 2,
            "linecolor": "white",
            "showbackground": true,
            "ticks": "",
            "zerolinecolor": "white"
           }
          },
          "shapedefaults": {
           "line": {
            "color": "#2a3f5f"
           }
          },
          "ternary": {
           "aaxis": {
            "gridcolor": "white",
            "linecolor": "white",
            "ticks": ""
           },
           "baxis": {
            "gridcolor": "white",
            "linecolor": "white",
            "ticks": ""
           },
           "bgcolor": "#E5ECF6",
           "caxis": {
            "gridcolor": "white",
            "linecolor": "white",
            "ticks": ""
           }
          },
          "title": {
           "x": 0.05
          },
          "xaxis": {
           "automargin": true,
           "gridcolor": "white",
           "linecolor": "white",
           "ticks": "",
           "title": {
            "standoff": 15
           },
           "zerolinecolor": "white",
           "zerolinewidth": 2
          },
          "yaxis": {
           "automargin": true,
           "gridcolor": "white",
           "linecolor": "white",
           "ticks": "",
           "title": {
            "standoff": 15
           },
           "zerolinecolor": "white",
           "zerolinewidth": 2
          }
         }
        },
        "title": {
         "text": "Average Prices by City-Concept-CInDay"
        },
        "xaxis": {
         "anchor": "y",
         "domain": [
          0,
          0.31999999999999995
         ],
         "title": {
          "text": "SaleCityName"
         }
        },
        "xaxis2": {
         "anchor": "y2",
         "domain": [
          0.33999999999999997,
          0.6599999999999999
         ],
         "matches": "x",
         "title": {
          "text": "SaleCityName"
         }
        },
        "xaxis3": {
         "anchor": "y3",
         "domain": [
          0.6799999999999999,
          0.9999999999999999
         ],
         "matches": "x",
         "title": {
          "text": "SaleCityName"
         }
        },
        "yaxis": {
         "anchor": "x",
         "domain": [
          0,
          1
         ],
         "title": {
          "text": "Average Price"
         }
        },
        "yaxis2": {
         "anchor": "x2",
         "domain": [
          0,
          1
         ],
         "matches": "y",
         "showticklabels": false
        },
        "yaxis3": {
         "anchor": "x3",
         "domain": [
          0,
          1
         ],
         "matches": "y",
         "showticklabels": false
        }
       }
      }
     },
     "metadata": {},
     "output_type": "display_data"
    }
   ],
   "source": [
    "# Average Prices by City-Concept-CInDay\n",
    "print(df.groupby([\"SaleCityName\", \"ConceptName\", \"CInDay\"]).agg({\"Price\": [\"mean\", \"count\"]}))\n",
    "\n",
    "mean_count_price_by_city_concept_cinday = df.groupby([\"SaleCityName\", \"ConceptName\", \"CInDay\"]).agg({\"Price\": [\"mean\", \"count\"]}).reset_index()\n",
    "mean_count_price_by_city_concept_cinday.columns = [\"SaleCityName\", \"ConceptName\", \"CInDay\", \"Mean_Price\", \"Count\"]\n",
    "\n",
    "# Creating the plot\n",
    "fig = px.bar(mean_count_price_by_city_concept_cinday, x=\"SaleCityName\", y=\"Mean_Price\", color=\"CInDay\",\n",
    "             facet_col=\"ConceptName\",\n",
    "             title=\"Average Prices by City-Concept-CInDay\",\n",
    "             labels={\"CInDay\": \"CInDay\", \"Mean_Price\": \"Average Price\"},\n",
    "             hover_data=[\"Count\"])\n",
    "\n",
    "# Updating axis labels\n",
    "fig.update_layout(xaxis_title=\"SaleCityName\", yaxis_title=\"Average Price\")\n",
    "\n",
    "# Showing the plot\n",
    "fig.show()\n",
    "\n",
    "#  In this multi-dimensional analysis, we are examining the average prices and booking counts based on cities, accommodation concepts, \n",
    "# and length of stay (CInDay). We aim to understand how these factors come together to influence pricing and popularity, showing us \n",
    "# patterns such as which city-concept combinations are preferred for different durations of stay and their associated price levels. "
   ]
  },
  {
   "cell_type": "code",
   "execution_count": 40,
   "metadata": {},
   "outputs": [
    {
     "name": "stdout",
     "output_type": "stream",
     "text": [
      "   SaleYear   ConceptName SaleCityName  Price\n",
      "0      2016  Herşey Dahil      Antalya  71.34\n",
      "1      2016  Herşey Dahil        Aydın  74.96\n",
      "2      2016  Herşey Dahil        Diğer  82.65\n",
      "3      2016  Herşey Dahil        Girne 121.64\n",
      "4      2016  Herşey Dahil        Muğla  84.30\n"
     ]
    },
    {
     "data": {
      "application/vnd.plotly.v1+json": {
       "config": {
        "plotlyServerURL": "https://plot.ly"
       },
       "data": [
        {
         "alignmentgroup": "True",
         "hovertemplate": "ConceptName=Herşey Dahil<br>SaleCityName=Antalya<br>Year=%{x}<br>Average Price=%{y}<extra></extra>",
         "legendgroup": "Herşey Dahil",
         "marker": {
          "color": "#636efa",
          "pattern": {
           "shape": ""
          }
         },
         "name": "Herşey Dahil",
         "offsetgroup": "Herşey Dahil",
         "orientation": "v",
         "showlegend": true,
         "textposition": "auto",
         "type": "bar",
         "x": [
          2016,
          2017,
          2018,
          2019,
          2020,
          2021,
          2022
         ],
         "xaxis": "x",
         "y": [
          71.33591111874513,
          73.67128823572102,
          68.36000544766385,
          83.4507235363902,
          55.65631437906005,
          61.2212196825613,
          65.65891249827483
         ],
         "yaxis": "y"
        },
        {
         "alignmentgroup": "True",
         "hovertemplate": "ConceptName=Herşey Dahil<br>SaleCityName=Aydın<br>Year=%{x}<br>Average Price=%{y}<extra></extra>",
         "legendgroup": "Herşey Dahil",
         "marker": {
          "color": "#636efa",
          "pattern": {
           "shape": ""
          }
         },
         "name": "Herşey Dahil",
         "offsetgroup": "Herşey Dahil",
         "orientation": "v",
         "showlegend": false,
         "textposition": "auto",
         "type": "bar",
         "x": [
          2016,
          2017,
          2018,
          2019,
          2020,
          2021,
          2022
         ],
         "xaxis": "x2",
         "y": [
          74.9565876859788,
          59.512450795150365,
          46.21513965561585,
          54.15194003527337,
          28.168929119115443,
          56.51683083166264,
          56.59342233336695
         ],
         "yaxis": "y2"
        },
        {
         "alignmentgroup": "True",
         "hovertemplate": "ConceptName=Herşey Dahil<br>SaleCityName=Diğer<br>Year=%{x}<br>Average Price=%{y}<extra></extra>",
         "legendgroup": "Herşey Dahil",
         "marker": {
          "color": "#636efa",
          "pattern": {
           "shape": ""
          }
         },
         "name": "Herşey Dahil",
         "offsetgroup": "Herşey Dahil",
         "orientation": "v",
         "showlegend": false,
         "textposition": "auto",
         "type": "bar",
         "x": [
          2016,
          2017,
          2018,
          2019,
          2020,
          2021,
          2022
         ],
         "xaxis": "x3",
         "y": [
          82.64660138484287,
          97.84053048776714,
          80.0177640223485,
          89.13818980753334,
          67.34502542155896,
          52.48446398137756,
          77.92531203364538
         ],
         "yaxis": "y3"
        },
        {
         "alignmentgroup": "True",
         "hovertemplate": "ConceptName=Herşey Dahil<br>SaleCityName=Girne<br>Year=%{x}<br>Average Price=%{y}<extra></extra>",
         "legendgroup": "Herşey Dahil",
         "marker": {
          "color": "#636efa",
          "pattern": {
           "shape": ""
          }
         },
         "name": "Herşey Dahil",
         "offsetgroup": "Herşey Dahil",
         "orientation": "v",
         "showlegend": false,
         "textposition": "auto",
         "type": "bar",
         "x": [
          2016,
          2017,
          2018,
          2019,
          2020
         ],
         "xaxis": "x4",
         "y": [
          121.6370991606295,
          106.49801891811026,
          89.24391116563737,
          92.74531368102797,
          55.709522111269635
         ],
         "yaxis": "y4"
        },
        {
         "alignmentgroup": "True",
         "hovertemplate": "ConceptName=Herşey Dahil<br>SaleCityName=Muğla<br>Year=%{x}<br>Average Price=%{y}<extra></extra>",
         "legendgroup": "Herşey Dahil",
         "marker": {
          "color": "#636efa",
          "pattern": {
           "shape": ""
          }
         },
         "name": "Herşey Dahil",
         "offsetgroup": "Herşey Dahil",
         "orientation": "v",
         "showlegend": false,
         "textposition": "auto",
         "type": "bar",
         "x": [
          2016,
          2017,
          2018,
          2019,
          2020,
          2021,
          2022
         ],
         "xaxis": "x5",
         "y": [
          84.29771285290091,
          76.89838539551256,
          68.86399053639116,
          85.75108608016131,
          69.1295414664453,
          65.89306094833415,
          53.702513470087325
         ],
         "yaxis": "y5"
        },
        {
         "alignmentgroup": "True",
         "hovertemplate": "ConceptName=Herşey Dahil<br>SaleCityName=İzmir<br>Year=%{x}<br>Average Price=%{y}<extra></extra>",
         "legendgroup": "Herşey Dahil",
         "marker": {
          "color": "#636efa",
          "pattern": {
           "shape": ""
          }
         },
         "name": "Herşey Dahil",
         "offsetgroup": "Herşey Dahil",
         "orientation": "v",
         "showlegend": false,
         "textposition": "auto",
         "type": "bar",
         "x": [
          2016,
          2017,
          2018,
          2019,
          2020,
          2021,
          2022
         ],
         "xaxis": "x6",
         "y": [
          68.79645161851268,
          60.111668373740294,
          59.54987061237062,
          82.7676012767517,
          70.13942303026774,
          48.889650641478795,
          97.8773159510104
         ],
         "yaxis": "y6"
        },
        {
         "alignmentgroup": "True",
         "hovertemplate": "ConceptName=Oda + Kahvaltı<br>SaleCityName=Antalya<br>Year=%{x}<br>Average Price=%{y}<extra></extra>",
         "legendgroup": "Oda + Kahvaltı",
         "marker": {
          "color": "#EF553B",
          "pattern": {
           "shape": ""
          }
         },
         "name": "Oda + Kahvaltı",
         "offsetgroup": "Oda + Kahvaltı",
         "orientation": "v",
         "showlegend": true,
         "textposition": "auto",
         "type": "bar",
         "x": [
          2016,
          2017,
          2018,
          2019,
          2020,
          2021,
          2022
         ],
         "xaxis": "x",
         "y": [
          44.64064569536424,
          30.48128029504742,
          36.41484258984259,
          63.30108106342675,
          50.0660432186823,
          74.12530536172243,
          62.331206535010885
         ],
         "yaxis": "y"
        },
        {
         "alignmentgroup": "True",
         "hovertemplate": "ConceptName=Oda + Kahvaltı<br>SaleCityName=Aydın<br>Year=%{x}<br>Average Price=%{y}<extra></extra>",
         "legendgroup": "Oda + Kahvaltı",
         "marker": {
          "color": "#EF553B",
          "pattern": {
           "shape": ""
          }
         },
         "name": "Oda + Kahvaltı",
         "offsetgroup": "Oda + Kahvaltı",
         "orientation": "v",
         "showlegend": false,
         "textposition": "auto",
         "type": "bar",
         "x": [
          2016,
          2017,
          2018,
          2019,
          2021,
          2022
         ],
         "xaxis": "x2",
         "y": [
          16.75055187637969,
          26.001773796979272,
          39.98750577500578,
          24.769841269841272,
          54.6638608305275,
          29.91452991452991
         ],
         "yaxis": "y2"
        },
        {
         "alignmentgroup": "True",
         "hovertemplate": "ConceptName=Oda + Kahvaltı<br>SaleCityName=Diğer<br>Year=%{x}<br>Average Price=%{y}<extra></extra>",
         "legendgroup": "Oda + Kahvaltı",
         "marker": {
          "color": "#EF553B",
          "pattern": {
           "shape": ""
          }
         },
         "name": "Oda + Kahvaltı",
         "offsetgroup": "Oda + Kahvaltı",
         "orientation": "v",
         "showlegend": false,
         "textposition": "auto",
         "type": "bar",
         "x": [
          2016,
          2017,
          2018,
          2019,
          2020,
          2021,
          2022
         ],
         "xaxis": "x3",
         "y": [
          41.187488856342334,
          32.650205898360085,
          34.84698682466143,
          48.07747818683575,
          40.16828652670308,
          41.009326607722535,
          44.396895285784176
         ],
         "yaxis": "y3"
        },
        {
         "alignmentgroup": "True",
         "hovertemplate": "ConceptName=Oda + Kahvaltı<br>SaleCityName=Girne<br>Year=%{x}<br>Average Price=%{y}<extra></extra>",
         "legendgroup": "Oda + Kahvaltı",
         "marker": {
          "color": "#EF553B",
          "pattern": {
           "shape": ""
          }
         },
         "name": "Oda + Kahvaltı",
         "offsetgroup": "Oda + Kahvaltı",
         "orientation": "v",
         "showlegend": false,
         "textposition": "auto",
         "type": "bar",
         "x": [
          2016,
          2017,
          2018,
          2019,
          2020,
          2022
         ],
         "xaxis": "x4",
         "y": [
          37.89025543992432,
          40.39267905743142,
          40.4452734952735,
          39.794491728393865,
          26.96148359486448,
          40.5982905982906
         ],
         "yaxis": "y4"
        },
        {
         "alignmentgroup": "True",
         "hovertemplate": "ConceptName=Oda + Kahvaltı<br>SaleCityName=Muğla<br>Year=%{x}<br>Average Price=%{y}<extra></extra>",
         "legendgroup": "Oda + Kahvaltı",
         "marker": {
          "color": "#EF553B",
          "pattern": {
           "shape": ""
          }
         },
         "name": "Oda + Kahvaltı",
         "offsetgroup": "Oda + Kahvaltı",
         "orientation": "v",
         "showlegend": false,
         "textposition": "auto",
         "type": "bar",
         "x": [
          2016,
          2017,
          2018,
          2019,
          2020,
          2021,
          2022
         ],
         "xaxis": "x5",
         "y": [
          55.09961368653421,
          40.395446516062954,
          33.71571677778575,
          36.553777961951326,
          26.031997939451582,
          68.91247549284715,
          56.68605353507183
         ],
         "yaxis": "y5"
        },
        {
         "alignmentgroup": "True",
         "hovertemplate": "ConceptName=Oda + Kahvaltı<br>SaleCityName=İzmir<br>Year=%{x}<br>Average Price=%{y}<extra></extra>",
         "legendgroup": "Oda + Kahvaltı",
         "marker": {
          "color": "#EF553B",
          "pattern": {
           "shape": ""
          }
         },
         "name": "Oda + Kahvaltı",
         "offsetgroup": "Oda + Kahvaltı",
         "orientation": "v",
         "showlegend": false,
         "textposition": "auto",
         "type": "bar",
         "x": [
          2016,
          2017,
          2018,
          2019,
          2020,
          2021,
          2022
         ],
         "xaxis": "x6",
         "y": [
          59.073509933774844,
          42.875696791792684,
          49.603797236150186,
          59.854542146076525,
          54.42200218175716,
          40.12144645477979,
          35.83974360779577
         ],
         "yaxis": "y6"
        },
        {
         "alignmentgroup": "True",
         "hovertemplate": "ConceptName=Yarım Pansiyon<br>SaleCityName=Antalya<br>Year=%{x}<br>Average Price=%{y}<extra></extra>",
         "legendgroup": "Yarım Pansiyon",
         "marker": {
          "color": "#00cc96",
          "pattern": {
           "shape": ""
          }
         },
         "name": "Yarım Pansiyon",
         "offsetgroup": "Yarım Pansiyon",
         "orientation": "v",
         "showlegend": true,
         "textposition": "auto",
         "type": "bar",
         "x": [
          2016,
          2017,
          2018,
          2019,
          2020,
          2021,
          2022
         ],
         "xaxis": "x",
         "y": [
          38.63763796909492,
          40.73645486696067,
          50.71409871409871,
          75.54913776210074,
          47.049188989274576,
          84.0339393939394,
          63.26021062566944
         ],
         "yaxis": "y"
        },
        {
         "alignmentgroup": "True",
         "hovertemplate": "ConceptName=Yarım Pansiyon<br>SaleCityName=Aydın<br>Year=%{x}<br>Average Price=%{y}<extra></extra>",
         "legendgroup": "Yarım Pansiyon",
         "marker": {
          "color": "#00cc96",
          "pattern": {
           "shape": ""
          }
         },
         "name": "Yarım Pansiyon",
         "offsetgroup": "Yarım Pansiyon",
         "orientation": "v",
         "showlegend": false,
         "textposition": "auto",
         "type": "bar",
         "x": [
          2016,
          2017,
          2018,
          2019,
          2020,
          2021,
          2022
         ],
         "xaxis": "x2",
         "y": [
          59.60264900662252,
          20.824527071102413,
          30.53104890604891,
          35.9101998824221,
          19.97146932952925,
          30.42760942760943,
          12.63736263736264
         ],
         "yaxis": "y2"
        },
        {
         "alignmentgroup": "True",
         "hovertemplate": "ConceptName=Yarım Pansiyon<br>SaleCityName=Diğer<br>Year=%{x}<br>Average Price=%{y}<extra></extra>",
         "legendgroup": "Yarım Pansiyon",
         "marker": {
          "color": "#00cc96",
          "pattern": {
           "shape": ""
          }
         },
         "name": "Yarım Pansiyon",
         "offsetgroup": "Yarım Pansiyon",
         "orientation": "v",
         "showlegend": false,
         "textposition": "auto",
         "type": "bar",
         "x": [
          2016,
          2017,
          2018,
          2019,
          2020,
          2021,
          2022
         ],
         "xaxis": "x3",
         "y": [
          54.476011134123716,
          48.48965033540481,
          41.90583078294494,
          50.3919233318671,
          42.05060798425946,
          42.51174266462701,
          35.48073397609122
         ],
         "yaxis": "y3"
        },
        {
         "alignmentgroup": "True",
         "hovertemplate": "ConceptName=Yarım Pansiyon<br>SaleCityName=Girne<br>Year=%{x}<br>Average Price=%{y}<extra></extra>",
         "legendgroup": "Yarım Pansiyon",
         "marker": {
          "color": "#00cc96",
          "pattern": {
           "shape": ""
          }
         },
         "name": "Yarım Pansiyon",
         "offsetgroup": "Yarım Pansiyon",
         "orientation": "v",
         "showlegend": false,
         "textposition": "auto",
         "type": "bar",
         "x": [
          2016,
          2017,
          2018,
          2019,
          2020,
          2022
         ],
         "xaxis": "x4",
         "y": [
          56.222491203987104,
          49.15758516997102,
          51.79196038379712,
          44.08606614845298,
          38.80171184022824,
          127.76315120065124
         ],
         "yaxis": "y4"
        },
        {
         "alignmentgroup": "True",
         "hovertemplate": "ConceptName=Yarım Pansiyon<br>SaleCityName=Muğla<br>Year=%{x}<br>Average Price=%{y}<extra></extra>",
         "legendgroup": "Yarım Pansiyon",
         "marker": {
          "color": "#00cc96",
          "pattern": {
           "shape": ""
          }
         },
         "name": "Yarım Pansiyon",
         "offsetgroup": "Yarım Pansiyon",
         "orientation": "v",
         "showlegend": false,
         "textposition": "auto",
         "type": "bar",
         "x": [
          2016,
          2017,
          2018,
          2019,
          2020,
          2021,
          2022
         ],
         "xaxis": "x5",
         "y": [
          59.484271523178805,
          57.88831050228311,
          44.8985523985524,
          58.49279835390946,
          30.79885877318117,
          47.79116816947504,
          68.70336453669785
         ],
         "yaxis": "y5"
        },
        {
         "alignmentgroup": "True",
         "hovertemplate": "ConceptName=Yarım Pansiyon<br>SaleCityName=İzmir<br>Year=%{x}<br>Average Price=%{y}<extra></extra>",
         "legendgroup": "Yarım Pansiyon",
         "marker": {
          "color": "#00cc96",
          "pattern": {
           "shape": ""
          }
         },
         "name": "Yarım Pansiyon",
         "offsetgroup": "Yarım Pansiyon",
         "orientation": "v",
         "showlegend": false,
         "textposition": "auto",
         "type": "bar",
         "x": [
          2016,
          2017,
          2018,
          2019,
          2020,
          2021,
          2022
         ],
         "xaxis": "x6",
         "y": [
          85.00803968059303,
          74.56775396020069,
          50.18433413835714,
          63.99828818313586,
          80.46503506894912,
          122.69331320257245,
          55.07192392414786
         ],
         "yaxis": "y6"
        }
       ],
       "layout": {
        "annotations": [
         {
          "font": {},
          "showarrow": false,
          "text": "SaleCityName=Antalya",
          "x": 0.075,
          "xanchor": "center",
          "xref": "paper",
          "y": 1,
          "yanchor": "bottom",
          "yref": "paper"
         },
         {
          "font": {},
          "showarrow": false,
          "text": "SaleCityName=Aydın",
          "x": 0.24499999999999997,
          "xanchor": "center",
          "xref": "paper",
          "y": 1,
          "yanchor": "bottom",
          "yref": "paper"
         },
         {
          "font": {},
          "showarrow": false,
          "text": "SaleCityName=Diğer",
          "x": 0.415,
          "xanchor": "center",
          "xref": "paper",
          "y": 1,
          "yanchor": "bottom",
          "yref": "paper"
         },
         {
          "font": {},
          "showarrow": false,
          "text": "SaleCityName=Girne",
          "x": 0.585,
          "xanchor": "center",
          "xref": "paper",
          "y": 1,
          "yanchor": "bottom",
          "yref": "paper"
         },
         {
          "font": {},
          "showarrow": false,
          "text": "SaleCityName=Muğla",
          "x": 0.7549999999999999,
          "xanchor": "center",
          "xref": "paper",
          "y": 1,
          "yanchor": "bottom",
          "yref": "paper"
         },
         {
          "font": {},
          "showarrow": false,
          "text": "SaleCityName=İzmir",
          "x": 0.925,
          "xanchor": "center",
          "xref": "paper",
          "y": 1,
          "yanchor": "bottom",
          "yref": "paper"
         }
        ],
        "barmode": "relative",
        "legend": {
         "title": {
          "text": "ConceptName"
         },
         "tracegroupgap": 0
        },
        "template": {
         "data": {
          "bar": [
           {
            "error_x": {
             "color": "#2a3f5f"
            },
            "error_y": {
             "color": "#2a3f5f"
            },
            "marker": {
             "line": {
              "color": "#E5ECF6",
              "width": 0.5
             },
             "pattern": {
              "fillmode": "overlay",
              "size": 10,
              "solidity": 0.2
             }
            },
            "type": "bar"
           }
          ],
          "barpolar": [
           {
            "marker": {
             "line": {
              "color": "#E5ECF6",
              "width": 0.5
             },
             "pattern": {
              "fillmode": "overlay",
              "size": 10,
              "solidity": 0.2
             }
            },
            "type": "barpolar"
           }
          ],
          "carpet": [
           {
            "aaxis": {
             "endlinecolor": "#2a3f5f",
             "gridcolor": "white",
             "linecolor": "white",
             "minorgridcolor": "white",
             "startlinecolor": "#2a3f5f"
            },
            "baxis": {
             "endlinecolor": "#2a3f5f",
             "gridcolor": "white",
             "linecolor": "white",
             "minorgridcolor": "white",
             "startlinecolor": "#2a3f5f"
            },
            "type": "carpet"
           }
          ],
          "choropleth": [
           {
            "colorbar": {
             "outlinewidth": 0,
             "ticks": ""
            },
            "type": "choropleth"
           }
          ],
          "contour": [
           {
            "colorbar": {
             "outlinewidth": 0,
             "ticks": ""
            },
            "colorscale": [
             [
              0,
              "#0d0887"
             ],
             [
              0.1111111111111111,
              "#46039f"
             ],
             [
              0.2222222222222222,
              "#7201a8"
             ],
             [
              0.3333333333333333,
              "#9c179e"
             ],
             [
              0.4444444444444444,
              "#bd3786"
             ],
             [
              0.5555555555555556,
              "#d8576b"
             ],
             [
              0.6666666666666666,
              "#ed7953"
             ],
             [
              0.7777777777777778,
              "#fb9f3a"
             ],
             [
              0.8888888888888888,
              "#fdca26"
             ],
             [
              1,
              "#f0f921"
             ]
            ],
            "type": "contour"
           }
          ],
          "contourcarpet": [
           {
            "colorbar": {
             "outlinewidth": 0,
             "ticks": ""
            },
            "type": "contourcarpet"
           }
          ],
          "heatmap": [
           {
            "colorbar": {
             "outlinewidth": 0,
             "ticks": ""
            },
            "colorscale": [
             [
              0,
              "#0d0887"
             ],
             [
              0.1111111111111111,
              "#46039f"
             ],
             [
              0.2222222222222222,
              "#7201a8"
             ],
             [
              0.3333333333333333,
              "#9c179e"
             ],
             [
              0.4444444444444444,
              "#bd3786"
             ],
             [
              0.5555555555555556,
              "#d8576b"
             ],
             [
              0.6666666666666666,
              "#ed7953"
             ],
             [
              0.7777777777777778,
              "#fb9f3a"
             ],
             [
              0.8888888888888888,
              "#fdca26"
             ],
             [
              1,
              "#f0f921"
             ]
            ],
            "type": "heatmap"
           }
          ],
          "heatmapgl": [
           {
            "colorbar": {
             "outlinewidth": 0,
             "ticks": ""
            },
            "colorscale": [
             [
              0,
              "#0d0887"
             ],
             [
              0.1111111111111111,
              "#46039f"
             ],
             [
              0.2222222222222222,
              "#7201a8"
             ],
             [
              0.3333333333333333,
              "#9c179e"
             ],
             [
              0.4444444444444444,
              "#bd3786"
             ],
             [
              0.5555555555555556,
              "#d8576b"
             ],
             [
              0.6666666666666666,
              "#ed7953"
             ],
             [
              0.7777777777777778,
              "#fb9f3a"
             ],
             [
              0.8888888888888888,
              "#fdca26"
             ],
             [
              1,
              "#f0f921"
             ]
            ],
            "type": "heatmapgl"
           }
          ],
          "histogram": [
           {
            "marker": {
             "pattern": {
              "fillmode": "overlay",
              "size": 10,
              "solidity": 0.2
             }
            },
            "type": "histogram"
           }
          ],
          "histogram2d": [
           {
            "colorbar": {
             "outlinewidth": 0,
             "ticks": ""
            },
            "colorscale": [
             [
              0,
              "#0d0887"
             ],
             [
              0.1111111111111111,
              "#46039f"
             ],
             [
              0.2222222222222222,
              "#7201a8"
             ],
             [
              0.3333333333333333,
              "#9c179e"
             ],
             [
              0.4444444444444444,
              "#bd3786"
             ],
             [
              0.5555555555555556,
              "#d8576b"
             ],
             [
              0.6666666666666666,
              "#ed7953"
             ],
             [
              0.7777777777777778,
              "#fb9f3a"
             ],
             [
              0.8888888888888888,
              "#fdca26"
             ],
             [
              1,
              "#f0f921"
             ]
            ],
            "type": "histogram2d"
           }
          ],
          "histogram2dcontour": [
           {
            "colorbar": {
             "outlinewidth": 0,
             "ticks": ""
            },
            "colorscale": [
             [
              0,
              "#0d0887"
             ],
             [
              0.1111111111111111,
              "#46039f"
             ],
             [
              0.2222222222222222,
              "#7201a8"
             ],
             [
              0.3333333333333333,
              "#9c179e"
             ],
             [
              0.4444444444444444,
              "#bd3786"
             ],
             [
              0.5555555555555556,
              "#d8576b"
             ],
             [
              0.6666666666666666,
              "#ed7953"
             ],
             [
              0.7777777777777778,
              "#fb9f3a"
             ],
             [
              0.8888888888888888,
              "#fdca26"
             ],
             [
              1,
              "#f0f921"
             ]
            ],
            "type": "histogram2dcontour"
           }
          ],
          "mesh3d": [
           {
            "colorbar": {
             "outlinewidth": 0,
             "ticks": ""
            },
            "type": "mesh3d"
           }
          ],
          "parcoords": [
           {
            "line": {
             "colorbar": {
              "outlinewidth": 0,
              "ticks": ""
             }
            },
            "type": "parcoords"
           }
          ],
          "pie": [
           {
            "automargin": true,
            "type": "pie"
           }
          ],
          "scatter": [
           {
            "fillpattern": {
             "fillmode": "overlay",
             "size": 10,
             "solidity": 0.2
            },
            "type": "scatter"
           }
          ],
          "scatter3d": [
           {
            "line": {
             "colorbar": {
              "outlinewidth": 0,
              "ticks": ""
             }
            },
            "marker": {
             "colorbar": {
              "outlinewidth": 0,
              "ticks": ""
             }
            },
            "type": "scatter3d"
           }
          ],
          "scattercarpet": [
           {
            "marker": {
             "colorbar": {
              "outlinewidth": 0,
              "ticks": ""
             }
            },
            "type": "scattercarpet"
           }
          ],
          "scattergeo": [
           {
            "marker": {
             "colorbar": {
              "outlinewidth": 0,
              "ticks": ""
             }
            },
            "type": "scattergeo"
           }
          ],
          "scattergl": [
           {
            "marker": {
             "colorbar": {
              "outlinewidth": 0,
              "ticks": ""
             }
            },
            "type": "scattergl"
           }
          ],
          "scattermapbox": [
           {
            "marker": {
             "colorbar": {
              "outlinewidth": 0,
              "ticks": ""
             }
            },
            "type": "scattermapbox"
           }
          ],
          "scatterpolar": [
           {
            "marker": {
             "colorbar": {
              "outlinewidth": 0,
              "ticks": ""
             }
            },
            "type": "scatterpolar"
           }
          ],
          "scatterpolargl": [
           {
            "marker": {
             "colorbar": {
              "outlinewidth": 0,
              "ticks": ""
             }
            },
            "type": "scatterpolargl"
           }
          ],
          "scatterternary": [
           {
            "marker": {
             "colorbar": {
              "outlinewidth": 0,
              "ticks": ""
             }
            },
            "type": "scatterternary"
           }
          ],
          "surface": [
           {
            "colorbar": {
             "outlinewidth": 0,
             "ticks": ""
            },
            "colorscale": [
             [
              0,
              "#0d0887"
             ],
             [
              0.1111111111111111,
              "#46039f"
             ],
             [
              0.2222222222222222,
              "#7201a8"
             ],
             [
              0.3333333333333333,
              "#9c179e"
             ],
             [
              0.4444444444444444,
              "#bd3786"
             ],
             [
              0.5555555555555556,
              "#d8576b"
             ],
             [
              0.6666666666666666,
              "#ed7953"
             ],
             [
              0.7777777777777778,
              "#fb9f3a"
             ],
             [
              0.8888888888888888,
              "#fdca26"
             ],
             [
              1,
              "#f0f921"
             ]
            ],
            "type": "surface"
           }
          ],
          "table": [
           {
            "cells": {
             "fill": {
              "color": "#EBF0F8"
             },
             "line": {
              "color": "white"
             }
            },
            "header": {
             "fill": {
              "color": "#C8D4E3"
             },
             "line": {
              "color": "white"
             }
            },
            "type": "table"
           }
          ]
         },
         "layout": {
          "annotationdefaults": {
           "arrowcolor": "#2a3f5f",
           "arrowhead": 0,
           "arrowwidth": 1
          },
          "autotypenumbers": "strict",
          "coloraxis": {
           "colorbar": {
            "outlinewidth": 0,
            "ticks": ""
           }
          },
          "colorscale": {
           "diverging": [
            [
             0,
             "#8e0152"
            ],
            [
             0.1,
             "#c51b7d"
            ],
            [
             0.2,
             "#de77ae"
            ],
            [
             0.3,
             "#f1b6da"
            ],
            [
             0.4,
             "#fde0ef"
            ],
            [
             0.5,
             "#f7f7f7"
            ],
            [
             0.6,
             "#e6f5d0"
            ],
            [
             0.7,
             "#b8e186"
            ],
            [
             0.8,
             "#7fbc41"
            ],
            [
             0.9,
             "#4d9221"
            ],
            [
             1,
             "#276419"
            ]
           ],
           "sequential": [
            [
             0,
             "#0d0887"
            ],
            [
             0.1111111111111111,
             "#46039f"
            ],
            [
             0.2222222222222222,
             "#7201a8"
            ],
            [
             0.3333333333333333,
             "#9c179e"
            ],
            [
             0.4444444444444444,
             "#bd3786"
            ],
            [
             0.5555555555555556,
             "#d8576b"
            ],
            [
             0.6666666666666666,
             "#ed7953"
            ],
            [
             0.7777777777777778,
             "#fb9f3a"
            ],
            [
             0.8888888888888888,
             "#fdca26"
            ],
            [
             1,
             "#f0f921"
            ]
           ],
           "sequentialminus": [
            [
             0,
             "#0d0887"
            ],
            [
             0.1111111111111111,
             "#46039f"
            ],
            [
             0.2222222222222222,
             "#7201a8"
            ],
            [
             0.3333333333333333,
             "#9c179e"
            ],
            [
             0.4444444444444444,
             "#bd3786"
            ],
            [
             0.5555555555555556,
             "#d8576b"
            ],
            [
             0.6666666666666666,
             "#ed7953"
            ],
            [
             0.7777777777777778,
             "#fb9f3a"
            ],
            [
             0.8888888888888888,
             "#fdca26"
            ],
            [
             1,
             "#f0f921"
            ]
           ]
          },
          "colorway": [
           "#636efa",
           "#EF553B",
           "#00cc96",
           "#ab63fa",
           "#FFA15A",
           "#19d3f3",
           "#FF6692",
           "#B6E880",
           "#FF97FF",
           "#FECB52"
          ],
          "font": {
           "color": "#2a3f5f"
          },
          "geo": {
           "bgcolor": "white",
           "lakecolor": "white",
           "landcolor": "#E5ECF6",
           "showlakes": true,
           "showland": true,
           "subunitcolor": "white"
          },
          "hoverlabel": {
           "align": "left"
          },
          "hovermode": "closest",
          "mapbox": {
           "style": "light"
          },
          "paper_bgcolor": "white",
          "plot_bgcolor": "#E5ECF6",
          "polar": {
           "angularaxis": {
            "gridcolor": "white",
            "linecolor": "white",
            "ticks": ""
           },
           "bgcolor": "#E5ECF6",
           "radialaxis": {
            "gridcolor": "white",
            "linecolor": "white",
            "ticks": ""
           }
          },
          "scene": {
           "xaxis": {
            "backgroundcolor": "#E5ECF6",
            "gridcolor": "white",
            "gridwidth": 2,
            "linecolor": "white",
            "showbackground": true,
            "ticks": "",
            "zerolinecolor": "white"
           },
           "yaxis": {
            "backgroundcolor": "#E5ECF6",
            "gridcolor": "white",
            "gridwidth": 2,
            "linecolor": "white",
            "showbackground": true,
            "ticks": "",
            "zerolinecolor": "white"
           },
           "zaxis": {
            "backgroundcolor": "#E5ECF6",
            "gridcolor": "white",
            "gridwidth": 2,
            "linecolor": "white",
            "showbackground": true,
            "ticks": "",
            "zerolinecolor": "white"
           }
          },
          "shapedefaults": {
           "line": {
            "color": "#2a3f5f"
           }
          },
          "ternary": {
           "aaxis": {
            "gridcolor": "white",
            "linecolor": "white",
            "ticks": ""
           },
           "baxis": {
            "gridcolor": "white",
            "linecolor": "white",
            "ticks": ""
           },
           "bgcolor": "#E5ECF6",
           "caxis": {
            "gridcolor": "white",
            "linecolor": "white",
            "ticks": ""
           }
          },
          "title": {
           "x": 0.05
          },
          "xaxis": {
           "automargin": true,
           "gridcolor": "white",
           "linecolor": "white",
           "ticks": "",
           "title": {
            "standoff": 15
           },
           "zerolinecolor": "white",
           "zerolinewidth": 2
          },
          "yaxis": {
           "automargin": true,
           "gridcolor": "white",
           "linecolor": "white",
           "ticks": "",
           "title": {
            "standoff": 15
           },
           "zerolinecolor": "white",
           "zerolinewidth": 2
          }
         }
        },
        "title": {
         "text": "Average Price by Year, Concept, and City"
        },
        "xaxis": {
         "anchor": "y",
         "domain": [
          0,
          0.15
         ],
         "title": {
          "text": "Year"
         }
        },
        "xaxis2": {
         "anchor": "y2",
         "domain": [
          0.16999999999999998,
          0.31999999999999995
         ],
         "matches": "x",
         "title": {
          "text": "Year"
         }
        },
        "xaxis3": {
         "anchor": "y3",
         "domain": [
          0.33999999999999997,
          0.49
         ],
         "matches": "x",
         "title": {
          "text": "Year"
         }
        },
        "xaxis4": {
         "anchor": "y4",
         "domain": [
          0.51,
          0.66
         ],
         "matches": "x",
         "title": {
          "text": "Year"
         }
        },
        "xaxis5": {
         "anchor": "y5",
         "domain": [
          0.6799999999999999,
          0.83
         ],
         "matches": "x",
         "title": {
          "text": "Year"
         }
        },
        "xaxis6": {
         "anchor": "y6",
         "domain": [
          0.85,
          1
         ],
         "matches": "x",
         "title": {
          "text": "Year"
         }
        },
        "yaxis": {
         "anchor": "x",
         "domain": [
          0,
          1
         ],
         "title": {
          "text": "Average Price"
         }
        },
        "yaxis2": {
         "anchor": "x2",
         "domain": [
          0,
          1
         ],
         "matches": "y",
         "showticklabels": false
        },
        "yaxis3": {
         "anchor": "x3",
         "domain": [
          0,
          1
         ],
         "matches": "y",
         "showticklabels": false
        },
        "yaxis4": {
         "anchor": "x4",
         "domain": [
          0,
          1
         ],
         "matches": "y",
         "showticklabels": false
        },
        "yaxis5": {
         "anchor": "x5",
         "domain": [
          0,
          1
         ],
         "matches": "y",
         "showticklabels": false
        },
        "yaxis6": {
         "anchor": "x6",
         "domain": [
          0,
          1
         ],
         "matches": "y",
         "showticklabels": false
        }
       }
      }
     },
     "metadata": {},
     "output_type": "display_data"
    }
   ],
   "source": [
    "# Yearly Price Analysis\n",
    "print(df.groupby([\"SaleYear\", \"ConceptName\", \"SaleCityName\"])[\"Price\"].mean().reset_index().head())\n",
    "\n",
    "\n",
    "mean_price_by_year_concept_city = df.groupby([\"SaleYear\", \"ConceptName\", \"SaleCityName\"])[\"Price\"].mean().reset_index()\n",
    "\n",
    "# Creating the chart\n",
    "fig = px.bar(mean_price_by_year_concept_city, x=\"SaleYear\", y=\"Price\", color=\"ConceptName\",\n",
    "             facet_col=\"SaleCityName\", title=\"Average Price by Year, Concept, and City\",\n",
    "             labels={\"SaleYear\": \"Year\", \"Price\": \"Average Price\"})\n",
    "\n",
    "# Updating axis labels\n",
    "fig.update_layout(xaxis_title=\"Year\", yaxis_title=\"Average Price\")\n",
    "\n",
    "# Displaying the chart\n",
    "fig.show()\n",
    "\n",
    "# In this multi-dimensional analysis, we are examining the average prices across years, accommodation concepts, \n",
    "# and cities, with the data arranged in a clear tabular format (shown by .head()). We aim to identify how pricing \n",
    "# trends have evolved over time for different concept-city combinations, helping us understand temporal price patterns \n",
    "# in our hospitality business.\n",
    "\n"
   ]
  },
  {
   "cell_type": "code",
   "execution_count": null,
   "metadata": {},
   "outputs": [
    {
     "name": "stdout",
     "output_type": "stream",
     "text": [
      "   SaleCityName     ConceptName Seasons  Price\n",
      "0         Girne    Herşey Dahil    High 103.94\n",
      "1         Girne    Herşey Dahil     Low  90.94\n",
      "2         Diğer    Herşey Dahil     Low  87.31\n",
      "3         İzmir  Yarım Pansiyon    High  87.22\n",
      "4         Diğer    Herşey Dahil    High  83.73\n",
      "5         İzmir    Herşey Dahil    High  74.74\n",
      "6         İzmir    Herşey Dahil     Low  74.31\n",
      "7       Antalya  Yarım Pansiyon    High  73.26\n",
      "8       Antalya  Oda + Kahvaltı    High  66.27\n",
      "9       Antalya    Herşey Dahil    High  64.92\n",
      "10        Muğla    Herşey Dahil    High  63.38\n",
      "11      Antalya  Yarım Pansiyon     Low  62.00\n",
      "12      Antalya    Herşey Dahil     Low  61.55\n",
      "13        Muğla  Oda + Kahvaltı    High  61.26\n",
      "14      Antalya  Oda + Kahvaltı     Low  60.67\n",
      "15        Girne  Yarım Pansiyon    High  58.38\n",
      "16        İzmir  Yarım Pansiyon     Low  55.35\n",
      "17        Aydın    Herşey Dahil    High  54.95\n",
      "18        İzmir  Oda + Kahvaltı    High  54.14\n",
      "19        Girne  Yarım Pansiyon     Low  48.58\n"
     ]
    },
    {
     "data": {
      "application/vnd.plotly.v1+json": {
       "config": {
        "plotlyServerURL": "https://plot.ly"
       },
       "data": [
        {
         "alignmentgroup": "True",
         "hovertemplate": "Concept=Herşey Dahil<br>Season=High<br>City=%{x}<br>Average Price=%{y}<extra></extra>",
         "legendgroup": "Herşey Dahil",
         "marker": {
          "color": "#636efa",
          "pattern": {
           "shape": ""
          }
         },
         "name": "Herşey Dahil",
         "offsetgroup": "Herşey Dahil",
         "orientation": "v",
         "showlegend": true,
         "textposition": "auto",
         "type": "bar",
         "x": [
          "Girne",
          "Diğer",
          "İzmir",
          "Antalya",
          "Muğla",
          "Aydın"
         ],
         "xaxis": "x",
         "y": [
          103.93544773058629,
          83.72578761691128,
          74.73751031493332,
          64.92006453392972,
          63.38382340792294,
          54.94719289254895
         ],
         "yaxis": "y"
        },
        {
         "alignmentgroup": "True",
         "hovertemplate": "Concept=Herşey Dahil<br>Season=Low<br>City=%{x}<br>Average Price=%{y}<extra></extra>",
         "legendgroup": "Herşey Dahil",
         "marker": {
          "color": "#636efa",
          "pattern": {
           "shape": ""
          }
         },
         "name": "Herşey Dahil",
         "offsetgroup": "Herşey Dahil",
         "orientation": "v",
         "showlegend": false,
         "textposition": "auto",
         "type": "bar",
         "x": [
          "Girne",
          "Diğer",
          "İzmir",
          "Antalya",
          "Muğla",
          "Aydın"
         ],
         "xaxis": "x2",
         "y": [
          90.93594415509826,
          87.31088205440422,
          74.3082870527656,
          61.552313700056196,
          48.3040860777445,
          33.68069861805234
         ],
         "yaxis": "y2"
        },
        {
         "alignmentgroup": "True",
         "hovertemplate": "Concept=Yarım Pansiyon<br>Season=High<br>City=%{x}<br>Average Price=%{y}<extra></extra>",
         "legendgroup": "Yarım Pansiyon",
         "marker": {
          "color": "#EF553B",
          "pattern": {
           "shape": ""
          }
         },
         "name": "Yarım Pansiyon",
         "offsetgroup": "Yarım Pansiyon",
         "orientation": "v",
         "showlegend": true,
         "textposition": "auto",
         "type": "bar",
         "x": [
          "İzmir",
          "Antalya",
          "Girne",
          "Muğla",
          "Diğer",
          "Aydın"
         ],
         "xaxis": "x",
         "y": [
          87.21876511228956,
          73.25902909106263,
          58.383667540209146,
          45.82369825423796,
          39.731916189847965,
          32.626151943115865
         ],
         "yaxis": "y"
        },
        {
         "alignmentgroup": "True",
         "hovertemplate": "Concept=Yarım Pansiyon<br>Season=Low<br>City=%{x}<br>Average Price=%{y}<extra></extra>",
         "legendgroup": "Yarım Pansiyon",
         "marker": {
          "color": "#EF553B",
          "pattern": {
           "shape": ""
          }
         },
         "name": "Yarım Pansiyon",
         "offsetgroup": "Yarım Pansiyon",
         "orientation": "v",
         "showlegend": false,
         "textposition": "auto",
         "type": "bar",
         "x": [
          "Antalya",
          "İzmir",
          "Girne",
          "Diğer",
          "Muğla",
          "Aydın"
         ],
         "xaxis": "x2",
         "y": [
          62.00167772704905,
          55.35062554532092,
          48.57890251975637,
          42.953977516021126,
          32.68181222351695,
          25.271799066250427
         ],
         "yaxis": "y2"
        },
        {
         "alignmentgroup": "True",
         "hovertemplate": "Concept=Oda + Kahvaltı<br>Season=High<br>City=%{x}<br>Average Price=%{y}<extra></extra>",
         "legendgroup": "Oda + Kahvaltı",
         "marker": {
          "color": "#00cc96",
          "pattern": {
           "shape": ""
          }
         },
         "name": "Oda + Kahvaltı",
         "offsetgroup": "Oda + Kahvaltı",
         "orientation": "v",
         "showlegend": true,
         "textposition": "auto",
         "type": "bar",
         "x": [
          "Antalya",
          "Muğla",
          "İzmir",
          "Girne",
          "Diğer",
          "Aydın"
         ],
         "xaxis": "x",
         "y": [
          66.26796897719366,
          61.26482628400223,
          54.14179690647607,
          39.47963020062443,
          35.065442630470685,
          30.38752955503549
         ],
         "yaxis": "y"
        },
        {
         "alignmentgroup": "True",
         "hovertemplate": "Concept=Oda + Kahvaltı<br>Season=Low<br>City=%{x}<br>Average Price=%{y}<extra></extra>",
         "legendgroup": "Oda + Kahvaltı",
         "marker": {
          "color": "#00cc96",
          "pattern": {
           "shape": ""
          }
         },
         "name": "Oda + Kahvaltı",
         "offsetgroup": "Oda + Kahvaltı",
         "orientation": "v",
         "showlegend": false,
         "textposition": "auto",
         "type": "bar",
         "x": [
          "Antalya",
          "Aydın",
          "Girne",
          "Diğer",
          "Muğla",
          "İzmir"
         ],
         "xaxis": "x2",
         "y": [
          60.66672960599361,
          44.45187393672243,
          40.043066932669724,
          40.011856091663816,
          37.77419246451788,
          33.555234798335526
         ],
         "yaxis": "y2"
        }
       ],
       "layout": {
        "annotations": [
         {
          "font": {},
          "showarrow": false,
          "text": "Season=High",
          "x": 0.245,
          "xanchor": "center",
          "xref": "paper",
          "y": 1,
          "yanchor": "bottom",
          "yref": "paper"
         },
         {
          "font": {},
          "showarrow": false,
          "text": "Season=Low",
          "x": 0.755,
          "xanchor": "center",
          "xref": "paper",
          "y": 1,
          "yanchor": "bottom",
          "yref": "paper"
         }
        ],
        "barmode": "relative",
        "legend": {
         "title": {
          "text": "Concept"
         },
         "tracegroupgap": 0
        },
        "template": {
         "data": {
          "bar": [
           {
            "error_x": {
             "color": "#2a3f5f"
            },
            "error_y": {
             "color": "#2a3f5f"
            },
            "marker": {
             "line": {
              "color": "#E5ECF6",
              "width": 0.5
             },
             "pattern": {
              "fillmode": "overlay",
              "size": 10,
              "solidity": 0.2
             }
            },
            "type": "bar"
           }
          ],
          "barpolar": [
           {
            "marker": {
             "line": {
              "color": "#E5ECF6",
              "width": 0.5
             },
             "pattern": {
              "fillmode": "overlay",
              "size": 10,
              "solidity": 0.2
             }
            },
            "type": "barpolar"
           }
          ],
          "carpet": [
           {
            "aaxis": {
             "endlinecolor": "#2a3f5f",
             "gridcolor": "white",
             "linecolor": "white",
             "minorgridcolor": "white",
             "startlinecolor": "#2a3f5f"
            },
            "baxis": {
             "endlinecolor": "#2a3f5f",
             "gridcolor": "white",
             "linecolor": "white",
             "minorgridcolor": "white",
             "startlinecolor": "#2a3f5f"
            },
            "type": "carpet"
           }
          ],
          "choropleth": [
           {
            "colorbar": {
             "outlinewidth": 0,
             "ticks": ""
            },
            "type": "choropleth"
           }
          ],
          "contour": [
           {
            "colorbar": {
             "outlinewidth": 0,
             "ticks": ""
            },
            "colorscale": [
             [
              0,
              "#0d0887"
             ],
             [
              0.1111111111111111,
              "#46039f"
             ],
             [
              0.2222222222222222,
              "#7201a8"
             ],
             [
              0.3333333333333333,
              "#9c179e"
             ],
             [
              0.4444444444444444,
              "#bd3786"
             ],
             [
              0.5555555555555556,
              "#d8576b"
             ],
             [
              0.6666666666666666,
              "#ed7953"
             ],
             [
              0.7777777777777778,
              "#fb9f3a"
             ],
             [
              0.8888888888888888,
              "#fdca26"
             ],
             [
              1,
              "#f0f921"
             ]
            ],
            "type": "contour"
           }
          ],
          "contourcarpet": [
           {
            "colorbar": {
             "outlinewidth": 0,
             "ticks": ""
            },
            "type": "contourcarpet"
           }
          ],
          "heatmap": [
           {
            "colorbar": {
             "outlinewidth": 0,
             "ticks": ""
            },
            "colorscale": [
             [
              0,
              "#0d0887"
             ],
             [
              0.1111111111111111,
              "#46039f"
             ],
             [
              0.2222222222222222,
              "#7201a8"
             ],
             [
              0.3333333333333333,
              "#9c179e"
             ],
             [
              0.4444444444444444,
              "#bd3786"
             ],
             [
              0.5555555555555556,
              "#d8576b"
             ],
             [
              0.6666666666666666,
              "#ed7953"
             ],
             [
              0.7777777777777778,
              "#fb9f3a"
             ],
             [
              0.8888888888888888,
              "#fdca26"
             ],
             [
              1,
              "#f0f921"
             ]
            ],
            "type": "heatmap"
           }
          ],
          "heatmapgl": [
           {
            "colorbar": {
             "outlinewidth": 0,
             "ticks": ""
            },
            "colorscale": [
             [
              0,
              "#0d0887"
             ],
             [
              0.1111111111111111,
              "#46039f"
             ],
             [
              0.2222222222222222,
              "#7201a8"
             ],
             [
              0.3333333333333333,
              "#9c179e"
             ],
             [
              0.4444444444444444,
              "#bd3786"
             ],
             [
              0.5555555555555556,
              "#d8576b"
             ],
             [
              0.6666666666666666,
              "#ed7953"
             ],
             [
              0.7777777777777778,
              "#fb9f3a"
             ],
             [
              0.8888888888888888,
              "#fdca26"
             ],
             [
              1,
              "#f0f921"
             ]
            ],
            "type": "heatmapgl"
           }
          ],
          "histogram": [
           {
            "marker": {
             "pattern": {
              "fillmode": "overlay",
              "size": 10,
              "solidity": 0.2
             }
            },
            "type": "histogram"
           }
          ],
          "histogram2d": [
           {
            "colorbar": {
             "outlinewidth": 0,
             "ticks": ""
            },
            "colorscale": [
             [
              0,
              "#0d0887"
             ],
             [
              0.1111111111111111,
              "#46039f"
             ],
             [
              0.2222222222222222,
              "#7201a8"
             ],
             [
              0.3333333333333333,
              "#9c179e"
             ],
             [
              0.4444444444444444,
              "#bd3786"
             ],
             [
              0.5555555555555556,
              "#d8576b"
             ],
             [
              0.6666666666666666,
              "#ed7953"
             ],
             [
              0.7777777777777778,
              "#fb9f3a"
             ],
             [
              0.8888888888888888,
              "#fdca26"
             ],
             [
              1,
              "#f0f921"
             ]
            ],
            "type": "histogram2d"
           }
          ],
          "histogram2dcontour": [
           {
            "colorbar": {
             "outlinewidth": 0,
             "ticks": ""
            },
            "colorscale": [
             [
              0,
              "#0d0887"
             ],
             [
              0.1111111111111111,
              "#46039f"
             ],
             [
              0.2222222222222222,
              "#7201a8"
             ],
             [
              0.3333333333333333,
              "#9c179e"
             ],
             [
              0.4444444444444444,
              "#bd3786"
             ],
             [
              0.5555555555555556,
              "#d8576b"
             ],
             [
              0.6666666666666666,
              "#ed7953"
             ],
             [
              0.7777777777777778,
              "#fb9f3a"
             ],
             [
              0.8888888888888888,
              "#fdca26"
             ],
             [
              1,
              "#f0f921"
             ]
            ],
            "type": "histogram2dcontour"
           }
          ],
          "mesh3d": [
           {
            "colorbar": {
             "outlinewidth": 0,
             "ticks": ""
            },
            "type": "mesh3d"
           }
          ],
          "parcoords": [
           {
            "line": {
             "colorbar": {
              "outlinewidth": 0,
              "ticks": ""
             }
            },
            "type": "parcoords"
           }
          ],
          "pie": [
           {
            "automargin": true,
            "type": "pie"
           }
          ],
          "scatter": [
           {
            "fillpattern": {
             "fillmode": "overlay",
             "size": 10,
             "solidity": 0.2
            },
            "type": "scatter"
           }
          ],
          "scatter3d": [
           {
            "line": {
             "colorbar": {
              "outlinewidth": 0,
              "ticks": ""
             }
            },
            "marker": {
             "colorbar": {
              "outlinewidth": 0,
              "ticks": ""
             }
            },
            "type": "scatter3d"
           }
          ],
          "scattercarpet": [
           {
            "marker": {
             "colorbar": {
              "outlinewidth": 0,
              "ticks": ""
             }
            },
            "type": "scattercarpet"
           }
          ],
          "scattergeo": [
           {
            "marker": {
             "colorbar": {
              "outlinewidth": 0,
              "ticks": ""
             }
            },
            "type": "scattergeo"
           }
          ],
          "scattergl": [
           {
            "marker": {
             "colorbar": {
              "outlinewidth": 0,
              "ticks": ""
             }
            },
            "type": "scattergl"
           }
          ],
          "scattermapbox": [
           {
            "marker": {
             "colorbar": {
              "outlinewidth": 0,
              "ticks": ""
             }
            },
            "type": "scattermapbox"
           }
          ],
          "scatterpolar": [
           {
            "marker": {
             "colorbar": {
              "outlinewidth": 0,
              "ticks": ""
             }
            },
            "type": "scatterpolar"
           }
          ],
          "scatterpolargl": [
           {
            "marker": {
             "colorbar": {
              "outlinewidth": 0,
              "ticks": ""
             }
            },
            "type": "scatterpolargl"
           }
          ],
          "scatterternary": [
           {
            "marker": {
             "colorbar": {
              "outlinewidth": 0,
              "ticks": ""
             }
            },
            "type": "scatterternary"
           }
          ],
          "surface": [
           {
            "colorbar": {
             "outlinewidth": 0,
             "ticks": ""
            },
            "colorscale": [
             [
              0,
              "#0d0887"
             ],
             [
              0.1111111111111111,
              "#46039f"
             ],
             [
              0.2222222222222222,
              "#7201a8"
             ],
             [
              0.3333333333333333,
              "#9c179e"
             ],
             [
              0.4444444444444444,
              "#bd3786"
             ],
             [
              0.5555555555555556,
              "#d8576b"
             ],
             [
              0.6666666666666666,
              "#ed7953"
             ],
             [
              0.7777777777777778,
              "#fb9f3a"
             ],
             [
              0.8888888888888888,
              "#fdca26"
             ],
             [
              1,
              "#f0f921"
             ]
            ],
            "type": "surface"
           }
          ],
          "table": [
           {
            "cells": {
             "fill": {
              "color": "#EBF0F8"
             },
             "line": {
              "color": "white"
             }
            },
            "header": {
             "fill": {
              "color": "#C8D4E3"
             },
             "line": {
              "color": "white"
             }
            },
            "type": "table"
           }
          ]
         },
         "layout": {
          "annotationdefaults": {
           "arrowcolor": "#2a3f5f",
           "arrowhead": 0,
           "arrowwidth": 1
          },
          "autotypenumbers": "strict",
          "coloraxis": {
           "colorbar": {
            "outlinewidth": 0,
            "ticks": ""
           }
          },
          "colorscale": {
           "diverging": [
            [
             0,
             "#8e0152"
            ],
            [
             0.1,
             "#c51b7d"
            ],
            [
             0.2,
             "#de77ae"
            ],
            [
             0.3,
             "#f1b6da"
            ],
            [
             0.4,
             "#fde0ef"
            ],
            [
             0.5,
             "#f7f7f7"
            ],
            [
             0.6,
             "#e6f5d0"
            ],
            [
             0.7,
             "#b8e186"
            ],
            [
             0.8,
             "#7fbc41"
            ],
            [
             0.9,
             "#4d9221"
            ],
            [
             1,
             "#276419"
            ]
           ],
           "sequential": [
            [
             0,
             "#0d0887"
            ],
            [
             0.1111111111111111,
             "#46039f"
            ],
            [
             0.2222222222222222,
             "#7201a8"
            ],
            [
             0.3333333333333333,
             "#9c179e"
            ],
            [
             0.4444444444444444,
             "#bd3786"
            ],
            [
             0.5555555555555556,
             "#d8576b"
            ],
            [
             0.6666666666666666,
             "#ed7953"
            ],
            [
             0.7777777777777778,
             "#fb9f3a"
            ],
            [
             0.8888888888888888,
             "#fdca26"
            ],
            [
             1,
             "#f0f921"
            ]
           ],
           "sequentialminus": [
            [
             0,
             "#0d0887"
            ],
            [
             0.1111111111111111,
             "#46039f"
            ],
            [
             0.2222222222222222,
             "#7201a8"
            ],
            [
             0.3333333333333333,
             "#9c179e"
            ],
            [
             0.4444444444444444,
             "#bd3786"
            ],
            [
             0.5555555555555556,
             "#d8576b"
            ],
            [
             0.6666666666666666,
             "#ed7953"
            ],
            [
             0.7777777777777778,
             "#fb9f3a"
            ],
            [
             0.8888888888888888,
             "#fdca26"
            ],
            [
             1,
             "#f0f921"
            ]
           ]
          },
          "colorway": [
           "#636efa",
           "#EF553B",
           "#00cc96",
           "#ab63fa",
           "#FFA15A",
           "#19d3f3",
           "#FF6692",
           "#B6E880",
           "#FF97FF",
           "#FECB52"
          ],
          "font": {
           "color": "#2a3f5f"
          },
          "geo": {
           "bgcolor": "white",
           "lakecolor": "white",
           "landcolor": "#E5ECF6",
           "showlakes": true,
           "showland": true,
           "subunitcolor": "white"
          },
          "hoverlabel": {
           "align": "left"
          },
          "hovermode": "closest",
          "mapbox": {
           "style": "light"
          },
          "paper_bgcolor": "white",
          "plot_bgcolor": "#E5ECF6",
          "polar": {
           "angularaxis": {
            "gridcolor": "white",
            "linecolor": "white",
            "ticks": ""
           },
           "bgcolor": "#E5ECF6",
           "radialaxis": {
            "gridcolor": "white",
            "linecolor": "white",
            "ticks": ""
           }
          },
          "scene": {
           "xaxis": {
            "backgroundcolor": "#E5ECF6",
            "gridcolor": "white",
            "gridwidth": 2,
            "linecolor": "white",
            "showbackground": true,
            "ticks": "",
            "zerolinecolor": "white"
           },
           "yaxis": {
            "backgroundcolor": "#E5ECF6",
            "gridcolor": "white",
            "gridwidth": 2,
            "linecolor": "white",
            "showbackground": true,
            "ticks": "",
            "zerolinecolor": "white"
           },
           "zaxis": {
            "backgroundcolor": "#E5ECF6",
            "gridcolor": "white",
            "gridwidth": 2,
            "linecolor": "white",
            "showbackground": true,
            "ticks": "",
            "zerolinecolor": "white"
           }
          },
          "shapedefaults": {
           "line": {
            "color": "#2a3f5f"
           }
          },
          "ternary": {
           "aaxis": {
            "gridcolor": "white",
            "linecolor": "white",
            "ticks": ""
           },
           "baxis": {
            "gridcolor": "white",
            "linecolor": "white",
            "ticks": ""
           },
           "bgcolor": "#E5ECF6",
           "caxis": {
            "gridcolor": "white",
            "linecolor": "white",
            "ticks": ""
           }
          },
          "title": {
           "x": 0.05
          },
          "xaxis": {
           "automargin": true,
           "gridcolor": "white",
           "linecolor": "white",
           "ticks": "",
           "title": {
            "standoff": 15
           },
           "zerolinecolor": "white",
           "zerolinewidth": 2
          },
          "yaxis": {
           "automargin": true,
           "gridcolor": "white",
           "linecolor": "white",
           "ticks": "",
           "title": {
            "standoff": 15
           },
           "zerolinecolor": "white",
           "zerolinewidth": 2
          }
         }
        },
        "title": {
         "text": "Average Price by City, Concept, and Seasons"
        },
        "xaxis": {
         "anchor": "y",
         "domain": [
          0,
          0.49
         ],
         "title": {
          "text": "City"
         }
        },
        "xaxis2": {
         "anchor": "y2",
         "domain": [
          0.51,
          1
         ],
         "matches": "x",
         "title": {
          "text": "City"
         }
        },
        "yaxis": {
         "anchor": "x",
         "domain": [
          0,
          1
         ],
         "title": {
          "text": "Average Price"
         }
        },
        "yaxis2": {
         "anchor": "x2",
         "domain": [
          0,
          1
         ],
         "matches": "y",
         "showticklabels": false
        }
       }
      }
     },
     "metadata": {},
     "output_type": "display_data"
    }
   ],
   "source": [
    "# Top 20 Price Analysis by Location and Season\n",
    "agg_df = df.groupby([\"SaleCityName\", \"ConceptName\", \"Seasons\"]).agg({\"Price\": \"mean\"}).sort_values(\"Price\", ascending=False).head(20)\n",
    "agg_df.reset_index(inplace=True)\n",
    "print(agg_df)\n",
    "\n",
    "mean_price_by_city_concept_seasons = df.groupby([\"SaleCityName\", \"ConceptName\", \"Seasons\"]).agg({\"Price\": \"mean\"}).sort_values(\"Price\", ascending=False).reset_index()\n",
    "\n",
    "# Creating the chart\n",
    "fig = px.bar(mean_price_by_city_concept_seasons, x=\"SaleCityName\", y=\"Price\", color=\"ConceptName\",\n",
    "             facet_col=\"Seasons\", title=\"Average Price by City, Concept, and Seasons\",\n",
    "             labels={\"SaleCityName\": \"City\", \"Price\": \"Average Price\", \"ConceptName\": \"Concept\", \"Seasons\": \"Season\"})\n",
    "\n",
    "# Updating axis labels\n",
    "fig.update_layout(xaxis_title=\"City\", yaxis_title=\"Average Price\")\n",
    "\n",
    "# Displaying the chart\n",
    "fig.show()\n",
    "\n",
    "# In this focused analysis, we are looking at the top 20 highest-priced combinations of cities, accommodation concepts, and seasons. \n",
    "# By sorting these combinations in descending order of price, we aim to identify which specific combinations command premium pricing in our hospitality market.\n",
    "# The reset_index() helps us manipulate this data more easily for further analysis or visualization.\n"
   ]
  },
  {
   "cell_type": "code",
   "execution_count": 43,
   "metadata": {},
   "outputs": [
    {
     "data": {
      "text/html": [
       "<div>\n",
       "<style scoped>\n",
       "    .dataframe tbody tr th:only-of-type {\n",
       "        vertical-align: middle;\n",
       "    }\n",
       "\n",
       "    .dataframe tbody tr th {\n",
       "        vertical-align: top;\n",
       "    }\n",
       "\n",
       "    .dataframe thead th {\n",
       "        text-align: right;\n",
       "    }\n",
       "</style>\n",
       "<table border=\"1\" class=\"dataframe\">\n",
       "  <thead>\n",
       "    <tr style=\"text-align: right;\">\n",
       "      <th></th>\n",
       "      <th>SaleCityName</th>\n",
       "      <th>ConceptName</th>\n",
       "      <th>Seasons</th>\n",
       "      <th>Price</th>\n",
       "      <th>sales_level_based</th>\n",
       "      <th>SEGMENT</th>\n",
       "    </tr>\n",
       "  </thead>\n",
       "  <tbody>\n",
       "    <tr>\n",
       "      <th>0</th>\n",
       "      <td>Girne</td>\n",
       "      <td>Herşey Dahil</td>\n",
       "      <td>High</td>\n",
       "      <td>103.94</td>\n",
       "      <td>GIRNE_HERŞEY DAHIL_HIGH</td>\n",
       "      <td>A</td>\n",
       "    </tr>\n",
       "    <tr>\n",
       "      <th>1</th>\n",
       "      <td>Girne</td>\n",
       "      <td>Herşey Dahil</td>\n",
       "      <td>Low</td>\n",
       "      <td>90.94</td>\n",
       "      <td>GIRNE_HERŞEY DAHIL_LOW</td>\n",
       "      <td>A</td>\n",
       "    </tr>\n",
       "    <tr>\n",
       "      <th>2</th>\n",
       "      <td>Diğer</td>\n",
       "      <td>Herşey Dahil</td>\n",
       "      <td>Low</td>\n",
       "      <td>87.31</td>\n",
       "      <td>DIĞER_HERŞEY DAHIL_LOW</td>\n",
       "      <td>B</td>\n",
       "    </tr>\n",
       "    <tr>\n",
       "      <th>3</th>\n",
       "      <td>İzmir</td>\n",
       "      <td>Yarım Pansiyon</td>\n",
       "      <td>High</td>\n",
       "      <td>87.22</td>\n",
       "      <td>İZMIR_YARIM PANSIYON_HIGH</td>\n",
       "      <td>B</td>\n",
       "    </tr>\n",
       "    <tr>\n",
       "      <th>4</th>\n",
       "      <td>Diğer</td>\n",
       "      <td>Herşey Dahil</td>\n",
       "      <td>High</td>\n",
       "      <td>83.73</td>\n",
       "      <td>DIĞER_HERŞEY DAHIL_HIGH</td>\n",
       "      <td>B</td>\n",
       "    </tr>\n",
       "    <tr>\n",
       "      <th>5</th>\n",
       "      <td>İzmir</td>\n",
       "      <td>Herşey Dahil</td>\n",
       "      <td>High</td>\n",
       "      <td>74.74</td>\n",
       "      <td>İZMIR_HERŞEY DAHIL_HIGH</td>\n",
       "      <td>C</td>\n",
       "    </tr>\n",
       "    <tr>\n",
       "      <th>6</th>\n",
       "      <td>İzmir</td>\n",
       "      <td>Herşey Dahil</td>\n",
       "      <td>Low</td>\n",
       "      <td>74.31</td>\n",
       "      <td>İZMIR_HERŞEY DAHIL_LOW</td>\n",
       "      <td>C</td>\n",
       "    </tr>\n",
       "    <tr>\n",
       "      <th>7</th>\n",
       "      <td>Antalya</td>\n",
       "      <td>Yarım Pansiyon</td>\n",
       "      <td>High</td>\n",
       "      <td>73.26</td>\n",
       "      <td>ANTALYA_YARIM PANSIYON_HIGH</td>\n",
       "      <td>C</td>\n",
       "    </tr>\n",
       "    <tr>\n",
       "      <th>8</th>\n",
       "      <td>Antalya</td>\n",
       "      <td>Oda + Kahvaltı</td>\n",
       "      <td>High</td>\n",
       "      <td>66.27</td>\n",
       "      <td>ANTALYA_ODA + KAHVALTI_HIGH</td>\n",
       "      <td>C</td>\n",
       "    </tr>\n",
       "    <tr>\n",
       "      <th>9</th>\n",
       "      <td>Antalya</td>\n",
       "      <td>Herşey Dahil</td>\n",
       "      <td>High</td>\n",
       "      <td>64.92</td>\n",
       "      <td>ANTALYA_HERŞEY DAHIL_HIGH</td>\n",
       "      <td>C</td>\n",
       "    </tr>\n",
       "    <tr>\n",
       "      <th>10</th>\n",
       "      <td>Muğla</td>\n",
       "      <td>Herşey Dahil</td>\n",
       "      <td>High</td>\n",
       "      <td>63.38</td>\n",
       "      <td>MUĞLA_HERŞEY DAHIL_HIGH</td>\n",
       "      <td>C</td>\n",
       "    </tr>\n",
       "    <tr>\n",
       "      <th>11</th>\n",
       "      <td>Antalya</td>\n",
       "      <td>Yarım Pansiyon</td>\n",
       "      <td>Low</td>\n",
       "      <td>62.00</td>\n",
       "      <td>ANTALYA_YARIM PANSIYON_LOW</td>\n",
       "      <td>D</td>\n",
       "    </tr>\n",
       "    <tr>\n",
       "      <th>12</th>\n",
       "      <td>Antalya</td>\n",
       "      <td>Herşey Dahil</td>\n",
       "      <td>Low</td>\n",
       "      <td>61.55</td>\n",
       "      <td>ANTALYA_HERŞEY DAHIL_LOW</td>\n",
       "      <td>D</td>\n",
       "    </tr>\n",
       "    <tr>\n",
       "      <th>13</th>\n",
       "      <td>Muğla</td>\n",
       "      <td>Oda + Kahvaltı</td>\n",
       "      <td>High</td>\n",
       "      <td>61.26</td>\n",
       "      <td>MUĞLA_ODA + KAHVALTI_HIGH</td>\n",
       "      <td>D</td>\n",
       "    </tr>\n",
       "    <tr>\n",
       "      <th>14</th>\n",
       "      <td>Antalya</td>\n",
       "      <td>Oda + Kahvaltı</td>\n",
       "      <td>Low</td>\n",
       "      <td>60.67</td>\n",
       "      <td>ANTALYA_ODA + KAHVALTI_LOW</td>\n",
       "      <td>D</td>\n",
       "    </tr>\n",
       "    <tr>\n",
       "      <th>15</th>\n",
       "      <td>Girne</td>\n",
       "      <td>Yarım Pansiyon</td>\n",
       "      <td>High</td>\n",
       "      <td>58.38</td>\n",
       "      <td>GIRNE_YARIM PANSIYON_HIGH</td>\n",
       "      <td>D</td>\n",
       "    </tr>\n",
       "    <tr>\n",
       "      <th>16</th>\n",
       "      <td>İzmir</td>\n",
       "      <td>Yarım Pansiyon</td>\n",
       "      <td>Low</td>\n",
       "      <td>55.35</td>\n",
       "      <td>İZMIR_YARIM PANSIYON_LOW</td>\n",
       "      <td>D</td>\n",
       "    </tr>\n",
       "    <tr>\n",
       "      <th>17</th>\n",
       "      <td>Aydın</td>\n",
       "      <td>Herşey Dahil</td>\n",
       "      <td>High</td>\n",
       "      <td>54.95</td>\n",
       "      <td>AYDIN_HERŞEY DAHIL_HIGH</td>\n",
       "      <td>D</td>\n",
       "    </tr>\n",
       "    <tr>\n",
       "      <th>18</th>\n",
       "      <td>İzmir</td>\n",
       "      <td>Oda + Kahvaltı</td>\n",
       "      <td>High</td>\n",
       "      <td>54.14</td>\n",
       "      <td>İZMIR_ODA + KAHVALTI_HIGH</td>\n",
       "      <td>D</td>\n",
       "    </tr>\n",
       "    <tr>\n",
       "      <th>19</th>\n",
       "      <td>Girne</td>\n",
       "      <td>Yarım Pansiyon</td>\n",
       "      <td>Low</td>\n",
       "      <td>48.58</td>\n",
       "      <td>GIRNE_YARIM PANSIYON_LOW</td>\n",
       "      <td>D</td>\n",
       "    </tr>\n",
       "  </tbody>\n",
       "</table>\n",
       "</div>"
      ],
      "text/plain": [
       "   SaleCityName     ConceptName Seasons  Price            sales_level_based  \\\n",
       "0         Girne    Herşey Dahil    High 103.94      GIRNE_HERŞEY DAHIL_HIGH   \n",
       "1         Girne    Herşey Dahil     Low  90.94       GIRNE_HERŞEY DAHIL_LOW   \n",
       "2         Diğer    Herşey Dahil     Low  87.31       DIĞER_HERŞEY DAHIL_LOW   \n",
       "3         İzmir  Yarım Pansiyon    High  87.22    İZMIR_YARIM PANSIYON_HIGH   \n",
       "4         Diğer    Herşey Dahil    High  83.73      DIĞER_HERŞEY DAHIL_HIGH   \n",
       "5         İzmir    Herşey Dahil    High  74.74      İZMIR_HERŞEY DAHIL_HIGH   \n",
       "6         İzmir    Herşey Dahil     Low  74.31       İZMIR_HERŞEY DAHIL_LOW   \n",
       "7       Antalya  Yarım Pansiyon    High  73.26  ANTALYA_YARIM PANSIYON_HIGH   \n",
       "8       Antalya  Oda + Kahvaltı    High  66.27  ANTALYA_ODA + KAHVALTI_HIGH   \n",
       "9       Antalya    Herşey Dahil    High  64.92    ANTALYA_HERŞEY DAHIL_HIGH   \n",
       "10        Muğla    Herşey Dahil    High  63.38      MUĞLA_HERŞEY DAHIL_HIGH   \n",
       "11      Antalya  Yarım Pansiyon     Low  62.00   ANTALYA_YARIM PANSIYON_LOW   \n",
       "12      Antalya    Herşey Dahil     Low  61.55     ANTALYA_HERŞEY DAHIL_LOW   \n",
       "13        Muğla  Oda + Kahvaltı    High  61.26    MUĞLA_ODA + KAHVALTI_HIGH   \n",
       "14      Antalya  Oda + Kahvaltı     Low  60.67   ANTALYA_ODA + KAHVALTI_LOW   \n",
       "15        Girne  Yarım Pansiyon    High  58.38    GIRNE_YARIM PANSIYON_HIGH   \n",
       "16        İzmir  Yarım Pansiyon     Low  55.35     İZMIR_YARIM PANSIYON_LOW   \n",
       "17        Aydın    Herşey Dahil    High  54.95      AYDIN_HERŞEY DAHIL_HIGH   \n",
       "18        İzmir  Oda + Kahvaltı    High  54.14    İZMIR_ODA + KAHVALTI_HIGH   \n",
       "19        Girne  Yarım Pansiyon     Low  48.58     GIRNE_YARIM PANSIYON_LOW   \n",
       "\n",
       "   SEGMENT  \n",
       "0        A  \n",
       "1        A  \n",
       "2        B  \n",
       "3        B  \n",
       "4        B  \n",
       "5        C  \n",
       "6        C  \n",
       "7        C  \n",
       "8        C  \n",
       "9        C  \n",
       "10       C  \n",
       "11       D  \n",
       "12       D  \n",
       "13       D  \n",
       "14       D  \n",
       "15       D  \n",
       "16       D  \n",
       "17       D  \n",
       "18       D  \n",
       "19       D  "
      ]
     },
     "execution_count": 43,
     "metadata": {},
     "output_type": "execute_result"
    }
   ],
   "source": [
    "# Customer Segment Definition\n",
    "agg_df[\"sales_level_based\"] = agg_df[[\"SaleCityName\", \"ConceptName\", \"Seasons\"]].agg(lambda x: '_'.join(x).upper(), axis=1)\n",
    "agg_df[\"SEGMENT\"] = pd.cut(agg_df[\"Price\"], 4, labels=[\"D\", \"C\", \"B\", \"A\"])\n",
    "agg_df.head(30)\n",
    "\n",
    "# In this analysis, we are performing two important transformations:\n",
    "# First, we're creating a new feature called 'sales_level_based' that combines city, concept, and season information into a single identifier \n",
    "# (like 'ANTALYA_HERSEY_DAHIL_HIGH').\n",
    "# Then, we're segmenting our prices into four categories (A, B, C, D), where A represents our highest price tier and D our lowest.\n",
    "# We aim to create a standardized way to identify unique business combinations and their corresponding price segments, which helps us better \n",
    "# understand our pricing hierarchy across different service combinations.\n",
    "\n"
   ]
  },
  {
   "cell_type": "code",
   "execution_count": 44,
   "metadata": {},
   "outputs": [
    {
     "name": "stdout",
     "output_type": "stream",
     "text": [
      "        Price                    \n",
      "         mean    max   min    sum\n",
      "SEGMENT                          \n",
      "D       57.43  62.00 48.58 516.89\n",
      "C       69.48  74.74 63.38 416.88\n",
      "B       86.09  87.31 83.73 258.26\n",
      "A       97.44 103.94 90.94 194.87\n"
     ]
    }
   ],
   "source": [
    "# Segment Performance Metrics Analysis\n",
    "print(agg_df.groupby(\"SEGMENT\").agg({\"Price\": [\"mean\", \"max\", \"min\", \"sum\"]}))\n",
    "\n",
    "# In this segment analysis, we are examining the statistical distribution of prices within each of our created segments (A, B, C, D). \n",
    "# We aim to understand the price characteristics of each segment by looking at their average prices, maximum and minimum values, \n",
    "# and total revenue contribution, which helps us validate our segmentation and understand the price ranges that define each segment level. "
   ]
  },
  {
   "cell_type": "code",
   "execution_count": 45,
   "metadata": {},
   "outputs": [
    {
     "name": "stdout",
     "output_type": "stream",
     "text": [
      "   SaleCityName     ConceptName Seasons  Price            sales_level_based  \\\n",
      "19        Girne  Yarım Pansiyon     Low  48.58     GIRNE_YARIM PANSIYON_LOW   \n",
      "18        İzmir  Oda + Kahvaltı    High  54.14    İZMIR_ODA + KAHVALTI_HIGH   \n",
      "17        Aydın    Herşey Dahil    High  54.95      AYDIN_HERŞEY DAHIL_HIGH   \n",
      "16        İzmir  Yarım Pansiyon     Low  55.35     İZMIR_YARIM PANSIYON_LOW   \n",
      "15        Girne  Yarım Pansiyon    High  58.38    GIRNE_YARIM PANSIYON_HIGH   \n",
      "14      Antalya  Oda + Kahvaltı     Low  60.67   ANTALYA_ODA + KAHVALTI_LOW   \n",
      "13        Muğla  Oda + Kahvaltı    High  61.26    MUĞLA_ODA + KAHVALTI_HIGH   \n",
      "12      Antalya    Herşey Dahil     Low  61.55     ANTALYA_HERŞEY DAHIL_LOW   \n",
      "11      Antalya  Yarım Pansiyon     Low  62.00   ANTALYA_YARIM PANSIYON_LOW   \n",
      "10        Muğla    Herşey Dahil    High  63.38      MUĞLA_HERŞEY DAHIL_HIGH   \n",
      "9       Antalya    Herşey Dahil    High  64.92    ANTALYA_HERŞEY DAHIL_HIGH   \n",
      "8       Antalya  Oda + Kahvaltı    High  66.27  ANTALYA_ODA + KAHVALTI_HIGH   \n",
      "7       Antalya  Yarım Pansiyon    High  73.26  ANTALYA_YARIM PANSIYON_HIGH   \n",
      "6         İzmir    Herşey Dahil     Low  74.31       İZMIR_HERŞEY DAHIL_LOW   \n",
      "5         İzmir    Herşey Dahil    High  74.74      İZMIR_HERŞEY DAHIL_HIGH   \n",
      "4         Diğer    Herşey Dahil    High  83.73      DIĞER_HERŞEY DAHIL_HIGH   \n",
      "3         İzmir  Yarım Pansiyon    High  87.22    İZMIR_YARIM PANSIYON_HIGH   \n",
      "2         Diğer    Herşey Dahil     Low  87.31       DIĞER_HERŞEY DAHIL_LOW   \n",
      "1         Girne    Herşey Dahil     Low  90.94       GIRNE_HERŞEY DAHIL_LOW   \n",
      "0         Girne    Herşey Dahil    High 103.94      GIRNE_HERŞEY DAHIL_HIGH   \n",
      "\n",
      "   SEGMENT  \n",
      "19       D  \n",
      "18       D  \n",
      "17       D  \n",
      "16       D  \n",
      "15       D  \n",
      "14       D  \n",
      "13       D  \n",
      "12       D  \n",
      "11       D  \n",
      "10       C  \n",
      "9        C  \n",
      "8        C  \n",
      "7        C  \n",
      "6        C  \n",
      "5        C  \n",
      "4        B  \n",
      "3        B  \n",
      "2        B  \n",
      "1        A  \n",
      "0        A  \n"
     ]
    }
   ],
   "source": [
    "# Price-Based Segment Ranking\n",
    "print(agg_df.sort_values(by=\"Price\"))\n",
    "# In this data organization analysis, we are displaying our segmented data sorted by price in ascending order. \n",
    "# We aim to view our combination of cities, concepts, and seasons arranged from lowest to highest price points, \n",
    "# providing a clear sequential view of how our various service combinations are priced relative to each other.\n"
   ]
  }
 ],
 "metadata": {
  "kernelspec": {
   "display_name": ".venv",
   "language": "python",
   "name": "python3"
  },
  "language_info": {
   "codemirror_mode": {
    "name": "ipython",
    "version": 3
   },
   "file_extension": ".py",
   "mimetype": "text/x-python",
   "name": "python",
   "nbconvert_exporter": "python",
   "pygments_lexer": "ipython3",
   "version": "3.10.12"
  }
 },
 "nbformat": 4,
 "nbformat_minor": 2
}
